{
 "cells": [
  {
   "cell_type": "code",
   "execution_count": 1,
   "metadata": {},
   "outputs": [],
   "source": [
    "import pandas as pd"
   ]
  },
  {
   "cell_type": "code",
   "execution_count": 2,
   "metadata": {},
   "outputs": [],
   "source": [
    "#读比对后的bam\n",
    "bed_path = \"../../processed/ACEC001/atac/ACEC001.atac.R2_5.bed.gz\"\n"
   ]
  },
  {
   "cell_type": "code",
   "execution_count": 3,
   "metadata": {},
   "outputs": [],
   "source": [
    "#读取压缩的tsv文件\n",
    "df = pd.read_csv(bed_path, sep='\\t', header=None, compression='gzip')"
   ]
  },
  {
   "cell_type": "code",
   "execution_count": 5,
   "metadata": {},
   "outputs": [],
   "source": [
    "df.columns = ['chr', 'start', 'end', 'name', 'MAPQ', 'strand']"
   ]
  },
  {
   "cell_type": "code",
   "execution_count": 6,
   "metadata": {},
   "outputs": [
    {
     "data": {
      "text/html": [
       "<div>\n",
       "<style scoped>\n",
       "    .dataframe tbody tr th:only-of-type {\n",
       "        vertical-align: middle;\n",
       "    }\n",
       "\n",
       "    .dataframe tbody tr th {\n",
       "        vertical-align: top;\n",
       "    }\n",
       "\n",
       "    .dataframe thead th {\n",
       "        text-align: right;\n",
       "    }\n",
       "</style>\n",
       "<table border=\"1\" class=\"dataframe\">\n",
       "  <thead>\n",
       "    <tr style=\"text-align: right;\">\n",
       "      <th></th>\n",
       "      <th>chr</th>\n",
       "      <th>start</th>\n",
       "      <th>end</th>\n",
       "      <th>name</th>\n",
       "      <th>MAPQ</th>\n",
       "      <th>strand</th>\n",
       "    </tr>\n",
       "  </thead>\n",
       "  <tbody>\n",
       "    <tr>\n",
       "      <th>0</th>\n",
       "      <td>chr2</td>\n",
       "      <td>61244922</td>\n",
       "      <td>61245034</td>\n",
       "      <td>A00358:815:HKYVYDSX3:4:1101:10366:35540</td>\n",
       "      <td>60</td>\n",
       "      <td>+</td>\n",
       "    </tr>\n",
       "    <tr>\n",
       "      <th>1</th>\n",
       "      <td>chr18</td>\n",
       "      <td>59258689</td>\n",
       "      <td>59258801</td>\n",
       "      <td>A00358:815:HKYVYDSX3:4:1101:10393:30420</td>\n",
       "      <td>60</td>\n",
       "      <td>-</td>\n",
       "    </tr>\n",
       "    <tr>\n",
       "      <th>2</th>\n",
       "      <td>chr8</td>\n",
       "      <td>76554757</td>\n",
       "      <td>76554869</td>\n",
       "      <td>A00358:815:HKYVYDSX3:4:1101:10773:31391</td>\n",
       "      <td>60</td>\n",
       "      <td>-</td>\n",
       "    </tr>\n",
       "    <tr>\n",
       "      <th>3</th>\n",
       "      <td>chr9</td>\n",
       "      <td>2280960</td>\n",
       "      <td>2281072</td>\n",
       "      <td>A00358:815:HKYVYDSX3:4:1101:10782:21981</td>\n",
       "      <td>1</td>\n",
       "      <td>+</td>\n",
       "    </tr>\n",
       "    <tr>\n",
       "      <th>4</th>\n",
       "      <td>chr21</td>\n",
       "      <td>26921857</td>\n",
       "      <td>26921970</td>\n",
       "      <td>A00358:815:HKYVYDSX3:4:1101:10926:28369</td>\n",
       "      <td>60</td>\n",
       "      <td>-</td>\n",
       "    </tr>\n",
       "  </tbody>\n",
       "</table>\n",
       "</div>"
      ],
      "text/plain": [
       "     chr     start       end                                     name  MAPQ  \\\n",
       "0   chr2  61244922  61245034  A00358:815:HKYVYDSX3:4:1101:10366:35540    60   \n",
       "1  chr18  59258689  59258801  A00358:815:HKYVYDSX3:4:1101:10393:30420    60   \n",
       "2   chr8  76554757  76554869  A00358:815:HKYVYDSX3:4:1101:10773:31391    60   \n",
       "3   chr9   2280960   2281072  A00358:815:HKYVYDSX3:4:1101:10782:21981     1   \n",
       "4  chr21  26921857  26921970  A00358:815:HKYVYDSX3:4:1101:10926:28369    60   \n",
       "\n",
       "  strand  \n",
       "0      +  \n",
       "1      -  \n",
       "2      -  \n",
       "3      +  \n",
       "4      -  "
      ]
     },
     "execution_count": 6,
     "metadata": {},
     "output_type": "execute_result"
    }
   ],
   "source": [
    "df.head()"
   ]
  },
  {
   "cell_type": "code",
   "execution_count": null,
   "metadata": {},
   "outputs": [],
   "source": [
    "#结构？\n",
    "#TODO:3dg文件\n",
    "GM12"
   ]
  }
 ],
 "metadata": {
  "kernelspec": {
   "display_name": "python3.8",
   "language": "python",
   "name": "py38"
  },
  "language_info": {
   "codemirror_mode": {
    "name": "ipython",
    "version": 3
   },
   "file_extension": ".py",
   "mimetype": "text/x-python",
   "name": "python",
   "nbconvert_exporter": "python",
   "pygments_lexer": "ipython3",
   "version": "3.9.12"
  },
  "orig_nbformat": 4
 },
 "nbformat": 4,
 "nbformat_minor": 2
}
