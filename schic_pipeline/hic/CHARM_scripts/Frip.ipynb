{
 "cells": [
  {
   "cell_type": "code",
   "execution_count": 15,
   "metadata": {
    "vscode": {
     "languageId": "r"
    }
   },
   "outputs": [],
   "source": [
    "library(GenomicRanges) \n",
    "library(encodeChIPqc)\n"
   ]
  },
  {
   "cell_type": "code",
   "execution_count": 16,
   "metadata": {
    "vscode": {
     "languageId": "r"
    }
   },
   "outputs": [],
   "source": [
    " peaks =  read.table('../../Ground_truth/double_insertion/atac_output_test/peak/ext250/PD10_XD_omniATAC_ext250_peaks.narrowPeak')"
   ]
  },
  {
   "cell_type": "code",
   "execution_count": 18,
   "metadata": {
    "vscode": {
     "languageId": "r"
    }
   },
   "outputs": [],
   "source": [
    " colnames(peaks) = c('chr','start','end','name','score','strand','signal','pval','qval','peak')"
   ]
  },
  {
   "cell_type": "code",
   "execution_count": 19,
   "metadata": {
    "vscode": {
     "languageId": "r"
    }
   },
   "outputs": [],
   "source": [
    " peaks.gr = makeGRangesFromDataFrame(peaks,keep.extra.columns=TRUE)"
   ]
  },
  {
   "cell_type": "code",
   "execution_count": 23,
   "metadata": {
    "vscode": {
     "languageId": "r"
    }
   },
   "outputs": [],
   "source": [
    "# bam.file = '../../processed/atac_all/ACEC001.atac.pairend.sort.bam' #sam转化后的bam\n",
    "bam.file = '../../processed/atac_all/ACEC001.atac.R2.sort.bam' #sam转化后的bam"
   ]
  },
  {
   "cell_type": "code",
   "execution_count": 24,
   "metadata": {
    "vscode": {
     "languageId": "r"
    }
   },
   "outputs": [
    {
     "data": {
      "text/html": [
       "0.0366923474393734"
      ],
      "text/latex": [
       "0.0366923474393734"
      ],
      "text/markdown": [
       "0.0366923474393734"
      ],
      "text/plain": [
       "[1] 0.03669235"
      ]
     },
     "metadata": {},
     "output_type": "display_data"
    }
   ],
   "source": [
    "frip(bam.file,peaks.gr)"
   ]
  },
  {
   "cell_type": "code",
   "execution_count": 22,
   "metadata": {
    "vscode": {
     "languageId": "r"
    }
   },
   "outputs": [
    {
     "data": {
      "text/html": [
       "0.0786966143941342"
      ],
      "text/latex": [
       "0.0786966143941342"
      ],
      "text/markdown": [
       "0.0786966143941342"
      ],
      "text/plain": [
       "[1] 0.07869661"
      ]
     },
     "metadata": {},
     "output_type": "display_data"
    }
   ],
   "source": [
    "28163/357868"
   ]
  },
  {
   "cell_type": "code",
   "execution_count": 26,
   "metadata": {
    "vscode": {
     "languageId": "r"
    }
   },
   "outputs": [
    {
     "data": {
      "text/html": [
       "0.0842356438287768"
      ],
      "text/latex": [
       "0.0842356438287768"
      ],
      "text/markdown": [
       "0.0842356438287768"
      ],
      "text/plain": [
       "[1] 0.08423564"
      ]
     },
     "metadata": {},
     "output_type": "display_data"
    }
   ],
   "source": [
    "14509/172243"
   ]
  },
  {
   "cell_type": "code",
   "execution_count": null,
   "metadata": {
    "vscode": {
     "languageId": "r"
    }
   },
   "outputs": [],
   "source": []
  }
 ],
 "metadata": {
  "kernelspec": {
   "display_name": "R4.1.3",
   "language": "R",
   "name": "ir_r"
  },
  "language_info": {
   "codemirror_mode": "r",
   "file_extension": ".r",
   "mimetype": "text/x-r-source",
   "name": "R",
   "pygments_lexer": "r",
   "version": "4.1.3"
  },
  "orig_nbformat": 4
 },
 "nbformat": 4,
 "nbformat_minor": 2
}
