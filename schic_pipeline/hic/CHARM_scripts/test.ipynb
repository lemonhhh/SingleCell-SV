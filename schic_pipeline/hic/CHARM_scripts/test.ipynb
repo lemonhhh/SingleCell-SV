{
 "cells": [
  {
   "cell_type": "code",
   "execution_count": 1,
   "metadata": {
    "vscode": {
     "languageId": "r"
    }
   },
   "outputs": [
    {
     "name": "stderr",
     "output_type": "stream",
     "text": [
      "── \u001b[1mAttaching packages\u001b[22m ─────────────────────────────────────── tidyverse 1.3.2 ──\n",
      "\u001b[32m✔\u001b[39m \u001b[34mggplot2\u001b[39m 3.3.6      \u001b[32m✔\u001b[39m \u001b[34mpurrr  \u001b[39m 0.3.4 \n",
      "\u001b[32m✔\u001b[39m \u001b[34mtibble \u001b[39m 3.1.8      \u001b[32m✔\u001b[39m \u001b[34mdplyr  \u001b[39m 1.0.10\n",
      "\u001b[32m✔\u001b[39m \u001b[34mtidyr  \u001b[39m 1.2.1      \u001b[32m✔\u001b[39m \u001b[34mstringr\u001b[39m 1.4.1 \n",
      "\u001b[32m✔\u001b[39m \u001b[34mreadr  \u001b[39m 2.1.2      \u001b[32m✔\u001b[39m \u001b[34mforcats\u001b[39m 0.5.2 \n",
      "── \u001b[1mConflicts\u001b[22m ────────────────────────────────────────── tidyverse_conflicts() ──\n",
      "\u001b[31m✖\u001b[39m \u001b[34mdplyr\u001b[39m::\u001b[32mfilter()\u001b[39m masks \u001b[34mstats\u001b[39m::filter()\n",
      "\u001b[31m✖\u001b[39m \u001b[34mdplyr\u001b[39m::\u001b[32mlag()\u001b[39m    masks \u001b[34mstats\u001b[39m::lag()\n"
     ]
    }
   ],
   "source": [
    "library(tidyverse)\n",
    "options(bedtools.path = \"/share/home/mliu/anaconda3/envs/R-kernel/bin\")\n",
    "library(bedtoolsr)"
   ]
  },
  {
   "cell_type": "code",
   "execution_count": 26,
   "metadata": {
    "vscode": {
     "languageId": "r"
    }
   },
   "outputs": [],
   "source": [
    "R2bed_path = \"../../processed/CH001/ct/CH001.ct.R2_5.bed.gz\"\n",
    "max_sep_distance = 10\n",
    "min_mapping_qual = 30"
   ]
  },
  {
   "cell_type": "code",
   "execution_count": 7,
   "metadata": {
    "vscode": {
     "languageId": "r"
    }
   },
   "outputs": [
    {
     "name": "stderr",
     "output_type": "stream",
     "text": [
      "\n",
      "\u001b[36m──\u001b[39m \u001b[1mColumn specification\u001b[22m \u001b[36m────────────────────────────────────────────────────────\u001b[39m\n",
      "cols(\n",
      "  X1 = \u001b[31mcol_character()\u001b[39m,\n",
      "  X2 = \u001b[32mcol_double()\u001b[39m,\n",
      "  X3 = \u001b[32mcol_double()\u001b[39m,\n",
      "  X4 = \u001b[31mcol_character()\u001b[39m,\n",
      "  X5 = \u001b[32mcol_double()\u001b[39m,\n",
      "  X6 = \u001b[31mcol_character()\u001b[39m\n",
      ")\n",
      "\n"
     ]
    }
   ],
   "source": [
    "R2bed <- read_table(R2bed_path,col_names = F) %>% as.data.frame()"
   ]
  },
  {
   "cell_type": "code",
   "execution_count": 15,
   "metadata": {
    "vscode": {
     "languageId": "r"
    }
   },
   "outputs": [
    {
     "data": {
      "text/html": [
       "<table class=\"dataframe\">\n",
       "<caption>A data.frame: 6 × 6</caption>\n",
       "<thead>\n",
       "\t<tr><th></th><th scope=col>X1</th><th scope=col>X2</th><th scope=col>X3</th><th scope=col>X4</th><th scope=col>X5</th><th scope=col>X6</th></tr>\n",
       "\t<tr><th></th><th scope=col>&lt;chr&gt;</th><th scope=col>&lt;dbl&gt;</th><th scope=col>&lt;dbl&gt;</th><th scope=col>&lt;chr&gt;</th><th scope=col>&lt;dbl&gt;</th><th scope=col>&lt;chr&gt;</th></tr>\n",
       "</thead>\n",
       "<tbody>\n",
       "\t<tr><th scope=row>1</th><td>chr21</td><td> 47984457</td><td> 47984489</td><td>A00358:815:HKYVYDSX3:4:1101:10167:28776</td><td>60</td><td>+</td></tr>\n",
       "\t<tr><th scope=row>2</th><td>chr1 </td><td> 61967364</td><td> 61967450</td><td>A00358:815:HKYVYDSX3:4:1101:10167:28776</td><td>60</td><td>-</td></tr>\n",
       "\t<tr><th scope=row>3</th><td>chr2 </td><td> 76105739</td><td> 76105849</td><td>A00358:815:HKYVYDSX3:4:1101:10176:13072</td><td>60</td><td>-</td></tr>\n",
       "\t<tr><th scope=row>4</th><td>chr12</td><td>115324439</td><td>115324497</td><td>A00358:815:HKYVYDSX3:4:1101:10411:27884</td><td> 0</td><td>-</td></tr>\n",
       "\t<tr><th scope=row>5</th><td>chr2 </td><td>  9321643</td><td>  9321755</td><td>A00358:815:HKYVYDSX3:4:1101:10447:5869 </td><td>60</td><td>-</td></tr>\n",
       "\t<tr><th scope=row>6</th><td>chr11</td><td> 92778236</td><td> 92778342</td><td>A00358:815:HKYVYDSX3:4:1101:10547:20165</td><td> 0</td><td>+</td></tr>\n",
       "</tbody>\n",
       "</table>\n"
      ],
      "text/latex": [
       "A data.frame: 6 × 6\n",
       "\\begin{tabular}{r|llllll}\n",
       "  & X1 & X2 & X3 & X4 & X5 & X6\\\\\n",
       "  & <chr> & <dbl> & <dbl> & <chr> & <dbl> & <chr>\\\\\n",
       "\\hline\n",
       "\t1 & chr21 &  47984457 &  47984489 & A00358:815:HKYVYDSX3:4:1101:10167:28776 & 60 & +\\\\\n",
       "\t2 & chr1  &  61967364 &  61967450 & A00358:815:HKYVYDSX3:4:1101:10167:28776 & 60 & -\\\\\n",
       "\t3 & chr2  &  76105739 &  76105849 & A00358:815:HKYVYDSX3:4:1101:10176:13072 & 60 & -\\\\\n",
       "\t4 & chr12 & 115324439 & 115324497 & A00358:815:HKYVYDSX3:4:1101:10411:27884 &  0 & -\\\\\n",
       "\t5 & chr2  &   9321643 &   9321755 & A00358:815:HKYVYDSX3:4:1101:10447:5869  & 60 & -\\\\\n",
       "\t6 & chr11 &  92778236 &  92778342 & A00358:815:HKYVYDSX3:4:1101:10547:20165 &  0 & +\\\\\n",
       "\\end{tabular}\n"
      ],
      "text/markdown": [
       "\n",
       "A data.frame: 6 × 6\n",
       "\n",
       "| <!--/--> | X1 &lt;chr&gt; | X2 &lt;dbl&gt; | X3 &lt;dbl&gt; | X4 &lt;chr&gt; | X5 &lt;dbl&gt; | X6 &lt;chr&gt; |\n",
       "|---|---|---|---|---|---|---|\n",
       "| 1 | chr21 |  47984457 |  47984489 | A00358:815:HKYVYDSX3:4:1101:10167:28776 | 60 | + |\n",
       "| 2 | chr1  |  61967364 |  61967450 | A00358:815:HKYVYDSX3:4:1101:10167:28776 | 60 | - |\n",
       "| 3 | chr2  |  76105739 |  76105849 | A00358:815:HKYVYDSX3:4:1101:10176:13072 | 60 | - |\n",
       "| 4 | chr12 | 115324439 | 115324497 | A00358:815:HKYVYDSX3:4:1101:10411:27884 |  0 | - |\n",
       "| 5 | chr2  |   9321643 |   9321755 | A00358:815:HKYVYDSX3:4:1101:10447:5869  | 60 | - |\n",
       "| 6 | chr11 |  92778236 |  92778342 | A00358:815:HKYVYDSX3:4:1101:10547:20165 |  0 | + |\n",
       "\n"
      ],
      "text/plain": [
       "  X1    X2        X3        X4                                      X5 X6\n",
       "1 chr21  47984457  47984489 A00358:815:HKYVYDSX3:4:1101:10167:28776 60 + \n",
       "2 chr1   61967364  61967450 A00358:815:HKYVYDSX3:4:1101:10167:28776 60 - \n",
       "3 chr2   76105739  76105849 A00358:815:HKYVYDSX3:4:1101:10176:13072 60 - \n",
       "4 chr12 115324439 115324497 A00358:815:HKYVYDSX3:4:1101:10411:27884  0 - \n",
       "5 chr2    9321643   9321755 A00358:815:HKYVYDSX3:4:1101:10447:5869  60 - \n",
       "6 chr11  92778236  92778342 A00358:815:HKYVYDSX3:4:1101:10547:20165  0 + "
      ]
     },
     "metadata": {},
     "output_type": "display_data"
    }
   ],
   "source": [
    "R2bed %>% head()"
   ]
  },
  {
   "cell_type": "code",
   "execution_count": 16,
   "metadata": {
    "vscode": {
     "languageId": "r"
    }
   },
   "outputs": [],
   "source": [
    "R2bed <- R2bed %>% mutate(start = ifelse(X6==\"+\",X2,X3),end = start+1) %>% select(X1,start,end,X4,X5,X6) %>% arrange(X1,start,end)\n"
   ]
  },
  {
   "cell_type": "code",
   "execution_count": 24,
   "metadata": {
    "vscode": {
     "languageId": "r"
    }
   },
   "outputs": [
    {
     "data": {
      "text/html": [
       "<table class=\"dataframe\">\n",
       "<caption>A data.frame: 6 × 6</caption>\n",
       "<thead>\n",
       "\t<tr><th></th><th scope=col>X1</th><th scope=col>start</th><th scope=col>end</th><th scope=col>X4</th><th scope=col>X5</th><th scope=col>X6</th></tr>\n",
       "\t<tr><th></th><th scope=col>&lt;chr&gt;</th><th scope=col>&lt;dbl&gt;</th><th scope=col>&lt;dbl&gt;</th><th scope=col>&lt;chr&gt;</th><th scope=col>&lt;dbl&gt;</th><th scope=col>&lt;chr&gt;</th></tr>\n",
       "</thead>\n",
       "<tbody>\n",
       "\t<tr><th scope=row>1</th><td>chr1</td><td>10001</td><td>10002</td><td>A00358:815:HKYVYDSX3:4:1140:7554:22748 </td><td>0</td><td>+</td></tr>\n",
       "\t<tr><th scope=row>2</th><td>chr1</td><td>10002</td><td>10003</td><td>A00358:815:HKYVYDSX3:4:1261:26512:28776</td><td>0</td><td>+</td></tr>\n",
       "\t<tr><th scope=row>3</th><td>chr1</td><td>10003</td><td>10004</td><td>A00358:815:HKYVYDSX3:4:1668:10999:14497</td><td>0</td><td>+</td></tr>\n",
       "\t<tr><th scope=row>4</th><td>chr1</td><td>10007</td><td>10008</td><td>A00358:815:HKYVYDSX3:4:1102:11171:32424</td><td>0</td><td>+</td></tr>\n",
       "\t<tr><th scope=row>5</th><td>chr1</td><td>10008</td><td>10009</td><td>A00358:815:HKYVYDSX3:4:1277:22752:11271</td><td>0</td><td>+</td></tr>\n",
       "\t<tr><th scope=row>6</th><td>chr1</td><td>10009</td><td>10010</td><td>A00358:815:HKYVYDSX3:4:2218:14687:8797 </td><td>0</td><td>+</td></tr>\n",
       "</tbody>\n",
       "</table>\n"
      ],
      "text/latex": [
       "A data.frame: 6 × 6\n",
       "\\begin{tabular}{r|llllll}\n",
       "  & X1 & start & end & X4 & X5 & X6\\\\\n",
       "  & <chr> & <dbl> & <dbl> & <chr> & <dbl> & <chr>\\\\\n",
       "\\hline\n",
       "\t1 & chr1 & 10001 & 10002 & A00358:815:HKYVYDSX3:4:1140:7554:22748  & 0 & +\\\\\n",
       "\t2 & chr1 & 10002 & 10003 & A00358:815:HKYVYDSX3:4:1261:26512:28776 & 0 & +\\\\\n",
       "\t3 & chr1 & 10003 & 10004 & A00358:815:HKYVYDSX3:4:1668:10999:14497 & 0 & +\\\\\n",
       "\t4 & chr1 & 10007 & 10008 & A00358:815:HKYVYDSX3:4:1102:11171:32424 & 0 & +\\\\\n",
       "\t5 & chr1 & 10008 & 10009 & A00358:815:HKYVYDSX3:4:1277:22752:11271 & 0 & +\\\\\n",
       "\t6 & chr1 & 10009 & 10010 & A00358:815:HKYVYDSX3:4:2218:14687:8797  & 0 & +\\\\\n",
       "\\end{tabular}\n"
      ],
      "text/markdown": [
       "\n",
       "A data.frame: 6 × 6\n",
       "\n",
       "| <!--/--> | X1 &lt;chr&gt; | start &lt;dbl&gt; | end &lt;dbl&gt; | X4 &lt;chr&gt; | X5 &lt;dbl&gt; | X6 &lt;chr&gt; |\n",
       "|---|---|---|---|---|---|---|\n",
       "| 1 | chr1 | 10001 | 10002 | A00358:815:HKYVYDSX3:4:1140:7554:22748  | 0 | + |\n",
       "| 2 | chr1 | 10002 | 10003 | A00358:815:HKYVYDSX3:4:1261:26512:28776 | 0 | + |\n",
       "| 3 | chr1 | 10003 | 10004 | A00358:815:HKYVYDSX3:4:1668:10999:14497 | 0 | + |\n",
       "| 4 | chr1 | 10007 | 10008 | A00358:815:HKYVYDSX3:4:1102:11171:32424 | 0 | + |\n",
       "| 5 | chr1 | 10008 | 10009 | A00358:815:HKYVYDSX3:4:1277:22752:11271 | 0 | + |\n",
       "| 6 | chr1 | 10009 | 10010 | A00358:815:HKYVYDSX3:4:2218:14687:8797  | 0 | + |\n",
       "\n"
      ],
      "text/plain": [
       "  X1   start end   X4                                      X5 X6\n",
       "1 chr1 10001 10002 A00358:815:HKYVYDSX3:4:1140:7554:22748  0  + \n",
       "2 chr1 10002 10003 A00358:815:HKYVYDSX3:4:1261:26512:28776 0  + \n",
       "3 chr1 10003 10004 A00358:815:HKYVYDSX3:4:1668:10999:14497 0  + \n",
       "4 chr1 10007 10008 A00358:815:HKYVYDSX3:4:1102:11171:32424 0  + \n",
       "5 chr1 10008 10009 A00358:815:HKYVYDSX3:4:1277:22752:11271 0  + \n",
       "6 chr1 10009 10010 A00358:815:HKYVYDSX3:4:2218:14687:8797  0  + "
      ]
     },
     "metadata": {},
     "output_type": "display_data"
    }
   ],
   "source": [
    "R2bed %>% head()"
   ]
  },
  {
   "cell_type": "code",
   "execution_count": 20,
   "metadata": {
    "vscode": {
     "languageId": "r"
    }
   },
   "outputs": [],
   "source": [
    "R2bed_cluster <- bedtoolsr::bt.cluster(R2bed,d=max_sep_distance)"
   ]
  },
  {
   "cell_type": "code",
   "execution_count": 25,
   "metadata": {
    "vscode": {
     "languageId": "r"
    }
   },
   "outputs": [],
   "source": [
    "names(R2bed_cluster) <- c(\"chrom\",\"start\",\"end\",\"readid\",\"mapping_qual\",\"strand\",\"cluster\")"
   ]
  },
  {
   "cell_type": "code",
   "execution_count": 27,
   "metadata": {
    "vscode": {
     "languageId": "r"
    }
   },
   "outputs": [],
   "source": [
    "readid <- R2bed_cluster %>% filter(mapping_qual >= min_mapping_qual) %>% group_by(cluster) %>%\n",
    "                    arrange(desc(mapping_qual)) %>%slice(1) %>% ungroup() %>% select(readid) %>% unique()"
   ]
  },
  {
   "cell_type": "code",
   "execution_count": null,
   "metadata": {
    "vscode": {
     "languageId": "r"
    }
   },
   "outputs": [],
   "source": [
    "R1.tabfastq <- read_table2(R1.tabfastq_path,col_names = c(\"readid\",\"index\",\"seq\",\"qual\")) %>% right_join(readid) %>% select(-index)"
   ]
  },
  {
   "cell_type": "code",
   "execution_count": null,
   "metadata": {
    "vscode": {
     "languageId": "r"
    }
   },
   "outputs": [],
   "source": [
    "R1 = read_table2(R1.tabfastq_path,col_names = c(\"readid\",\"index\",\"seq\",\"qual\"))"
   ]
  }
 ],
 "metadata": {
  "kernelspec": {
   "display_name": "R4.1.3",
   "language": "R",
   "name": "ir_r"
  },
  "language_info": {
   "codemirror_mode": "r",
   "file_extension": ".r",
   "mimetype": "text/x-r-source",
   "name": "R",
   "pygments_lexer": "r",
   "version": "4.1.3"
  },
  "orig_nbformat": 4,
  "vscode": {
   "interpreter": {
    "hash": "4ed9c8ede4860074e7098111fdb4be905eca9aafab9fc4fe8faa532342c82f8c"
   }
  }
 },
 "nbformat": 4,
 "nbformat_minor": 2
}
