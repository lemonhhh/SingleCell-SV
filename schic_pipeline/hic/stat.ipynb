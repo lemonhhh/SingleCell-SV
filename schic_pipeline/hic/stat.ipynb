{
 "cells": [
  {
   "cell_type": "code",
   "execution_count": 1,
   "metadata": {
    "vscode": {
     "languageId": "r"
    }
   },
   "outputs": [
    {
     "name": "stderr",
     "output_type": "stream",
     "text": [
      "── \u001b[1mAttaching packages\u001b[22m ─────────────────────────────────────── tidyverse 1.3.2 ──\n",
      "\u001b[32m✔\u001b[39m \u001b[34mggplot2\u001b[39m 3.3.6      \u001b[32m✔\u001b[39m \u001b[34mpurrr  \u001b[39m 0.3.4 \n",
      "\u001b[32m✔\u001b[39m \u001b[34mtibble \u001b[39m 3.1.8      \u001b[32m✔\u001b[39m \u001b[34mdplyr  \u001b[39m 1.0.10\n",
      "\u001b[32m✔\u001b[39m \u001b[34mtidyr  \u001b[39m 1.2.1      \u001b[32m✔\u001b[39m \u001b[34mstringr\u001b[39m 1.4.1 \n",
      "\u001b[32m✔\u001b[39m \u001b[34mreadr  \u001b[39m 2.1.2      \u001b[32m✔\u001b[39m \u001b[34mforcats\u001b[39m 0.5.2 \n",
      "── \u001b[1mConflicts\u001b[22m ────────────────────────────────────────── tidyverse_conflicts() ──\n",
      "\u001b[31m✖\u001b[39m \u001b[34mdplyr\u001b[39m::\u001b[32mfilter()\u001b[39m masks \u001b[34mstats\u001b[39m::filter()\n",
      "\u001b[31m✖\u001b[39m \u001b[34mdplyr\u001b[39m::\u001b[32mlag()\u001b[39m    masks \u001b[34mstats\u001b[39m::lag()\n",
      "Registered S3 method overwritten by 'GGally':\n",
      "  method from   \n",
      "  +.gg   ggplot2\n",
      "\n"
     ]
    }
   ],
   "source": [
    "library(tidyverse)\n",
    "library(ggpubr)\n",
    "library(GGally)\n",
    "library(yaml)\n",
    "library(patchwork)\n",
    "#library(Seurat)\n",
    "#library(ggvenn)"
   ]
  },
  {
   "cell_type": "code",
   "execution_count": 2,
   "metadata": {
    "vscode": {
     "languageId": "r"
    }
   },
   "outputs": [],
   "source": [
    "#read config\n",
    "config <- read_yaml(file = \"../CHARM/config.yaml\")"
   ]
  },
  {
   "cell_type": "code",
   "execution_count": 6,
   "metadata": {
    "vscode": {
     "languageId": "r"
    }
   },
   "outputs": [
    {
     "name": "stderr",
     "output_type": "stream",
     "text": [
      "\n",
      "\u001b[36m──\u001b[39m \u001b[1mColumn specification\u001b[22m \u001b[36m────────────────────────────────────────────────────────\u001b[39m\n",
      "cols(\n",
      "  X1 = \u001b[31mcol_character()\u001b[39m,\n",
      "  X2 = \u001b[32mcol_double()\u001b[39m\n",
      ")\n",
      "\n",
      "\n",
      "\u001b[36m──\u001b[39m \u001b[1mColumn specification\u001b[22m \u001b[36m────────────────────────────────────────────────────────\u001b[39m\n",
      "cols(\n",
      "  X1 = \u001b[31mcol_character()\u001b[39m,\n",
      "  X2 = \u001b[32mcol_double()\u001b[39m\n",
      ")\n",
      "\n",
      "\n",
      "\u001b[36m──\u001b[39m \u001b[1mColumn specification\u001b[22m \u001b[36m────────────────────────────────────────────────────────\u001b[39m\n",
      "cols(\n",
      "  X1 = \u001b[31mcol_character()\u001b[39m,\n",
      "  X2 = \u001b[32mcol_double()\u001b[39m\n",
      ")\n",
      "\n"
     ]
    }
   ],
   "source": [
    "#FIXME:这几个数值要不要改,原来是/4*300/1G\n",
    "\n",
    "Raw <- read_table(\"../stat/raw.fq.stat\",col_names=F) %>% arrange(X1) %>% rowwise() %>% mutate(X2 = X2,X1 = strsplit(X1,split = \"/\")[[1]][3],X1 = strsplit(X1,split = \"_\")[[1]][1])\n",
    "DNA <- read_table(\"../stat/dna.fq.stat\",col_names=F) %>% arrange(X1) %>% rowwise()%>% mutate(X2 = X2,X1 = strsplit(X1,split = \"/\")[[1]][3])\n",
    "RNA <- read_table(\"../stat/rna.fq.stat\",col_names=F) %>% arrange(X1) %>% rowwise() %>% mutate(X2 = X2,X1 = strsplit(X1,split = \"/\")[[1]][3])\n"
   ]
  },
  {
   "cell_type": "code",
   "execution_count": 7,
   "metadata": {
    "vscode": {
     "languageId": "r"
    }
   },
   "outputs": [
    {
     "name": "stderr",
     "output_type": "stream",
     "text": [
      "\n",
      "\u001b[36m──\u001b[39m \u001b[1mColumn specification\u001b[22m \u001b[36m────────────────────────────────────────────────────────\u001b[39m\n",
      "cols(\n",
      "  X1 = \u001b[31mcol_character()\u001b[39m,\n",
      "  X2 = \u001b[32mcol_double()\u001b[39m\n",
      ")\n",
      "\n",
      "\n",
      "\u001b[36m──\u001b[39m \u001b[1mColumn specification\u001b[22m \u001b[36m────────────────────────────────────────────────────────\u001b[39m\n",
      "cols(\n",
      "  X1 = \u001b[31mcol_character()\u001b[39m,\n",
      "  X2 = \u001b[32mcol_double()\u001b[39m\n",
      ")\n",
      "\n",
      "Warning message:\n",
      "“`read_table2()` was deprecated in readr 2.0.0.\n",
      "Please use `read_table()` instead.”\n",
      "\n",
      "\u001b[36m──\u001b[39m \u001b[1mColumn specification\u001b[22m \u001b[36m────────────────────────────────────────────────────────\u001b[39m\n",
      "cols(\n",
      "  X1 = \u001b[31mcol_character()\u001b[39m,\n",
      "  X2 = \u001b[32mcol_double()\u001b[39m\n",
      ")\n",
      "\n",
      "Warning message:\n",
      "“`read_table2()` was deprecated in readr 2.0.0.\n",
      "Please use `read_table()` instead.”\n",
      "\n",
      "\u001b[36m──\u001b[39m \u001b[1mColumn specification\u001b[22m \u001b[36m────────────────────────────────────────────────────────\u001b[39m\n",
      "cols(\n",
      "  X1 = \u001b[31mcol_character()\u001b[39m,\n",
      "  X2 = \u001b[32mcol_double()\u001b[39m\n",
      ")\n",
      "\n",
      "Warning message:\n",
      "“`read_table2()` was deprecated in readr 2.0.0.\n",
      "Please use `read_table()` instead.”\n",
      "\n",
      "\u001b[36m──\u001b[39m \u001b[1mColumn specification\u001b[22m \u001b[36m────────────────────────────────────────────────────────\u001b[39m\n",
      "cols(\n",
      "  X1 = \u001b[31mcol_character()\u001b[39m,\n",
      "  X2 = \u001b[32mcol_double()\u001b[39m\n",
      ")\n",
      "\n",
      "Warning message:\n",
      "“`read_table2()` was deprecated in readr 2.0.0.\n",
      "Please use `read_table()` instead.”\n",
      "\n",
      "\u001b[36m──\u001b[39m \u001b[1mColumn specification\u001b[22m \u001b[36m────────────────────────────────────────────────────────\u001b[39m\n",
      "cols(\n",
      "  X1 = \u001b[31mcol_character()\u001b[39m,\n",
      "  X2 = \u001b[32mcol_double()\u001b[39m\n",
      ")\n",
      "\n"
     ]
    }
   ],
   "source": [
    "raw_pairs <- read_table(\"../stat/raw.pairs.stat\",col_names=F) %>% arrange(X1) %>% rowwise() %>% mutate(X1 = strsplit(X1,split = \"/\")[[1]][3])\n",
    "pairs_dedup <- read_table(\"../stat/pairs.dedup.stat\",col_names=F) %>% arrange(X1) %>% rowwise() %>% mutate(X1 = strsplit(X1,split = \"/\")[[1]][3])\n",
    "pairs_c1 <- read_table2(\"../stat/pairs.c1.stat\",col_names=F)%>% arrange(X1) %>%rowwise() %>% mutate(X1 = strsplit(X1,split = \"/\")[[1]][5]) %>% mutate(X1 = str_replace(X1,\".pairs.gz\",\"\"))\n",
    "pairs_c12 <- read_table2(\"../stat/pairs.c12.stat\",col_names=F)%>% arrange(X1) %>%rowwise() %>% mutate(X1 = strsplit(X1,split = \"/\")[[1]][5]) %>% mutate(X1 = str_replace(X1,\".pairs.gz\",\"\"))\n",
    "pairs_c123 <- read_table2(\"../stat/pairs.c123.stat\",col_names=F)%>% arrange(X1) %>%rowwise() %>% mutate(X1 = strsplit(X1,split = \"/\")[[1]][5]) %>% mutate(X1 = str_replace(X1,\".pairs.gz\",\"\"))\n",
    "inter_pairs_c123 <- read_table2(file = \"../stat/inter.pairs.c123.stat\",col_names = F) %>% arrange(X1) %>%rowwise() %>% mutate(X1 = strsplit(X1,split = \"/\")[[1]][5]) %>% mutate(X1 = str_replace(X1,\".pairs.gz\",\"\"))"
   ]
  },
  {
   "cell_type": "code",
   "execution_count": 8,
   "metadata": {
    "vscode": {
     "languageId": "r"
    }
   },
   "outputs": [
    {
     "name": "stderr",
     "output_type": "stream",
     "text": [
      "\n",
      "\u001b[36m──\u001b[39m \u001b[1mColumn specification\u001b[22m \u001b[36m────────────────────────────────────────────────────────\u001b[39m\n",
      "cols(\n",
      "  X1 = \u001b[31mcol_character()\u001b[39m,\n",
      "  X2 = \u001b[32mcol_double()\u001b[39m\n",
      ")\n",
      "\n"
     ]
    }
   ],
   "source": [
    "yperx <- read_table(\"../stat/yperx.stat\",col_names=F) %>% arrange(X1) %>% rowwise() %>% mutate(X1 = strsplit(X1,split = \"/\")[[1]][2])"
   ]
  },
  {
   "cell_type": "code",
   "execution_count": 9,
   "metadata": {
    "vscode": {
     "languageId": "r"
    }
   },
   "outputs": [],
   "source": [
    "#merge\n",
    "stat <- Raw %>% left_join(DNA,by=\"X1\") %>% left_join(RNA,by=\"X1\") %>% left_join(yperx,by=\"X1\") %>% left_join(raw_pairs,by=\"X1\") %>% left_join(pairs_dedup,by=\"X1\") %>% \n",
    "    left_join(pairs_c1,by=\"X1\") %>% left_join(pairs_c12,by=\"X1\")%>% left_join(pairs_c123,by=\"X1\") %>% left_join(inter_pairs_c123,by=\"X1\")"
   ]
  },
  {
   "cell_type": "code",
   "execution_count": 10,
   "metadata": {
    "vscode": {
     "languageId": "r"
    }
   },
   "outputs": [
    {
     "name": "stderr",
     "output_type": "stream",
     "text": [
      "\n",
      "\u001b[36m──\u001b[39m \u001b[1mColumn specification\u001b[22m \u001b[36m────────────────────────────────────────────────────────\u001b[39m\n",
      "cols(\n",
      "  gene = \u001b[31mcol_character()\u001b[39m,\n",
      "  ACEC001 = \u001b[32mcol_double()\u001b[39m,\n",
      "  ACEC002 = \u001b[32mcol_double()\u001b[39m,\n",
      "  ACEC003 = \u001b[32mcol_double()\u001b[39m,\n",
      "  ACEC004 = \u001b[32mcol_double()\u001b[39m,\n",
      "  ACEC005 = \u001b[32mcol_double()\u001b[39m,\n",
      "  AcACEC = \u001b[32mcol_double()\u001b[39m\n",
      ")\n",
      "\n"
     ]
    }
   ],
   "source": [
    "RNAres <- read_table(\"../result/RNA_Res/counts.gene.total.format.tsv\")\n",
    "featureStat <- cbind(as.data.frame(colSums(RNAres %>% select(-gene))),colSums(RNAres %>% select(-gene) != 0)) %>% rownames_to_column(\"X1\")"
   ]
  },
  {
   "cell_type": "code",
   "execution_count": 11,
   "metadata": {
    "vscode": {
     "languageId": "r"
    }
   },
   "outputs": [
    {
     "name": "stderr",
     "output_type": "stream",
     "text": [
      "\n",
      "\u001b[36m──\u001b[39m \u001b[1mColumn specification\u001b[22m \u001b[36m────────────────────────────────────────────────────────\u001b[39m\n",
      "cols(\n",
      "  gene = \u001b[31mcol_character()\u001b[39m,\n",
      "  ACEC001 = \u001b[32mcol_double()\u001b[39m,\n",
      "  ACEC002 = \u001b[32mcol_double()\u001b[39m,\n",
      "  ACEC003 = \u001b[32mcol_double()\u001b[39m,\n",
      "  ACEC004 = \u001b[32mcol_double()\u001b[39m,\n",
      "  ACEC005 = \u001b[32mcol_double()\u001b[39m,\n",
      "  AcACEC = \u001b[32mcol_double()\u001b[39m\n",
      ")\n",
      "\n"
     ]
    }
   ],
   "source": [
    "RNAresExon <- read_table(\"../result/RNA_Res/counts.exon.total.format.tsv\")\n",
    "featureStatExon <- cbind(as.data.frame(colSums(RNAresExon %>% select(-gene))),colSums(RNAresExon %>% select(-gene) != 0))  %>% rownames_to_column(\"X1\")"
   ]
  },
  {
   "cell_type": "code",
   "execution_count": 12,
   "metadata": {
    "vscode": {
     "languageId": "r"
    }
   },
   "outputs": [
    {
     "name": "stderr",
     "output_type": "stream",
     "text": [
      "Warning message:\n",
      "“`read_table2()` was deprecated in readr 2.0.0.\n",
      "Please use `read_table()` instead.”\n",
      "\n",
      "\u001b[36m──\u001b[39m \u001b[1mColumn specification\u001b[22m \u001b[36m────────────────────────────────────────────────────────\u001b[39m\n",
      "cols(\n",
      "  gene = \u001b[31mcol_character()\u001b[39m,\n",
      "  ACEC001 = \u001b[32mcol_double()\u001b[39m,\n",
      "  ACEC002 = \u001b[32mcol_double()\u001b[39m,\n",
      "  ACEC003 = \u001b[32mcol_double()\u001b[39m,\n",
      "  ACEC004 = \u001b[32mcol_double()\u001b[39m,\n",
      "  ACEC005 = \u001b[32mcol_double()\u001b[39m,\n",
      "  AcACEC = \u001b[32mcol_double()\u001b[39m\n",
      ")\n",
      "\n",
      "Warning message:\n",
      "“`read_table2()` was deprecated in readr 2.0.0.\n",
      "Please use `read_table()` instead.”\n",
      "\n",
      "\u001b[36m──\u001b[39m \u001b[1mColumn specification\u001b[22m \u001b[36m────────────────────────────────────────────────────────\u001b[39m\n",
      "cols(\n",
      "  gene = \u001b[31mcol_character()\u001b[39m,\n",
      "  ACEC001 = \u001b[32mcol_double()\u001b[39m,\n",
      "  ACEC002 = \u001b[32mcol_double()\u001b[39m,\n",
      "  ACEC003 = \u001b[32mcol_double()\u001b[39m,\n",
      "  ACEC004 = \u001b[32mcol_double()\u001b[39m,\n",
      "  ACEC005 = \u001b[32mcol_double()\u001b[39m,\n",
      "  AcACEC = \u001b[32mcol_double()\u001b[39m\n",
      ")\n",
      "\n"
     ]
    }
   ],
   "source": [
    "#是否区分父本母本\n",
    "config$if_RNA_snp_spli <- TRUE\n",
    "if(config$if_RNA_snp_split){\n",
    "    RNAresGenome1 <- read_table2(\"../result/RNA_Res/counts.gene.genome1.tsv\")\n",
    "    RNAresGenome2 <- read_table2(\"../result/RNA_Res/counts.gene.genome2.tsv\")\n",
    "    featureStatGenome1 <- cbind(as.data.frame(colSums(RNAresGenome1 %>% select(-gene))),colSums(RNAresGenome1 %>% select(-gene) != 0)) %>% rownames_to_column(\"X1\")\n",
    "    featureStatGenome2 <- cbind(as.data.frame(colSums(RNAresGenome2 %>% select(-gene))),colSums(RNAresGenome2 %>% select(-gene) != 0)) %>% rownames_to_column(\"X1\")\n",
    "    stat <- stat %>% left_join(featureStat,by=\"X1\") %>% left_join(featureStatExon,by=\"X1\") %>% left_join(featureStatGenome1,by=\"X1\")  %>% left_join(featureStatGenome2,by=\"X1\")\n",
    "    names(stat) <- c(\"cellname\",\"Rawreads\",\"DNAreads\",\"RNAreads\",\"yperx\",\"raw_pairs\",\"pairs_dedup\",\"pairs_clean1\",\"pairs_clean2\",\"pairs_clean3\",\"inter_pairs_clean3\",\n",
    "                     \"UMIs_gene\",\"genes_gene\",\"UMIs_exon\",\"genes_exon\",\"UMIs_gene_genome1\",\"genes_gene_genome1\",\"UMIs_gene_genome2\",\"genes_gene_genome2\")\n",
    "} else{\n",
    "    stat <- stat %>% left_join(featureStat,by=\"X1\") %>% left_join(featureStatExon,by=\"X1\") \n",
    "    names(stat) <- c(\"cellname\",\"Rawreads\",\"DNAreads\",\"RNAreads\",\"yperx\",\"raw_pairs\",\"pairs_dedup\",\"pairs_clean1\",\"pairs_clean2\",\"pairs_clean3\",\"inter_pairs_clean3\",\n",
    "                     \"UMIs_gene\",\"genes_gene\",\"UMIs_exon\",\"genes_exon\")\n",
    "}"
   ]
  },
  {
   "cell_type": "code",
   "execution_count": 13,
   "metadata": {
    "vscode": {
     "languageId": "r"
    }
   },
   "outputs": [
    {
     "name": "stderr",
     "output_type": "stream",
     "text": [
      "\n",
      "\u001b[36m──\u001b[39m \u001b[1mColumn specification\u001b[22m \u001b[36m────────────────────────────────────────────────────────\u001b[39m\n",
      "cols(\n",
      "  X1 = \u001b[31mcol_character()\u001b[39m,\n",
      "  X2 = \u001b[31mcol_character()\u001b[39m,\n",
      "  X3 = \u001b[31mcol_character()\u001b[39m,\n",
      "  X4 = \u001b[31mcol_character()\u001b[39m,\n",
      "  X5 = \u001b[32mcol_double()\u001b[39m\n",
      ")\n",
      "\n",
      "\u001b[1m\u001b[22mJoining, by = \"cellname\"\n"
     ]
    }
   ],
   "source": [
    "config$if_structure <- TRUE\n",
    "if(config$if_structure){\n",
    "    rmsd <- read_table(\"../stat/rmsd.info\",col_names = F) %>% rowwise() %>% mutate(X1=str_split(X1,pattern = fixed(\"/\")),cellname = X1[1], res = str_split(X1[3], fixed(\".\"))[[1]][2],TOP3_RMSD = X5) %>% select(cellname,res,TOP3_RMSD) %>% spread(res,TOP3_RMSD) %>% arrange(cellname)\n",
    "    stat <- stat %>% left_join(rmsd)\n",
    "}"
   ]
  },
  {
   "cell_type": "code",
   "execution_count": 14,
   "metadata": {
    "vscode": {
     "languageId": "r"
    }
   },
   "outputs": [
    {
     "data": {
      "text/html": [
       "<table class=\"dataframe\">\n",
       "<caption>A rowwise_df: 12 × 23</caption>\n",
       "<thead>\n",
       "\t<tr><th scope=col>cellname</th><th scope=col>Rawreads</th><th scope=col>DNAreads</th><th scope=col>RNAreads</th><th scope=col>yperx</th><th scope=col>raw_pairs</th><th scope=col>pairs_dedup</th><th scope=col>pairs_clean1</th><th scope=col>pairs_clean2</th><th scope=col>pairs_clean3</th><th scope=col>⋯</th><th scope=col>UMIs_exon</th><th scope=col>genes_exon</th><th scope=col>UMIs_gene_genome1</th><th scope=col>genes_gene_genome1</th><th scope=col>UMIs_gene_genome2</th><th scope=col>genes_gene_genome2</th><th scope=col>1m</th><th scope=col>200k</th><th scope=col>20k</th><th scope=col>50k</th></tr>\n",
       "\t<tr><th scope=col>&lt;chr&gt;</th><th scope=col>&lt;dbl&gt;</th><th scope=col>&lt;dbl&gt;</th><th scope=col>&lt;dbl&gt;</th><th scope=col>&lt;dbl&gt;</th><th scope=col>&lt;dbl&gt;</th><th scope=col>&lt;dbl&gt;</th><th scope=col>&lt;dbl&gt;</th><th scope=col>&lt;dbl&gt;</th><th scope=col>&lt;dbl&gt;</th><th scope=col>⋯</th><th scope=col>&lt;dbl&gt;</th><th scope=col>&lt;dbl&gt;</th><th scope=col>&lt;dbl&gt;</th><th scope=col>&lt;dbl&gt;</th><th scope=col>&lt;dbl&gt;</th><th scope=col>&lt;dbl&gt;</th><th scope=col>&lt;dbl&gt;</th><th scope=col>&lt;dbl&gt;</th><th scope=col>&lt;dbl&gt;</th><th scope=col>&lt;dbl&gt;</th></tr>\n",
       "</thead>\n",
       "<tbody>\n",
       "\t<tr><td>AcACEC </td><td>49478513</td><td>48187731</td><td>1283576</td><td>0.000930</td><td>14898515</td><td>11608873</td><td>  98278</td><td>  56494</td><td>  56475</td><td>⋯</td><td>49462</td><td>21829</td><td>15271</td><td>7290</td><td>15467</td><td>7443</td><td>14.90796566</td><td>27.04997172</td><td>56.6198743</td><td>42.0438349</td></tr>\n",
       "\t<tr><td>AcCH   </td><td>54534020</td><td>54975486</td><td>     32</td><td>0.000714</td><td>19627010</td><td>14387527</td><td> 299030</td><td> 246316</td><td> 246288</td><td>⋯</td><td>   NA</td><td>   NA</td><td>   NA</td><td>  NA</td><td>   NA</td><td>  NA</td><td>14.34330327</td><td>25.82800893</td><td>54.5573077</td><td>40.5464101</td></tr>\n",
       "\t<tr><td>ACEC001</td><td>10125135</td><td> 9956591</td><td> 137178</td><td>0.001999</td><td> 3188977</td><td>  750346</td><td> 748629</td><td> 626428</td><td> 626315</td><td>⋯</td><td> 1061</td><td>  975</td><td>  462</td><td> 422</td><td>  489</td><td> 438</td><td> 0.11974493</td><td> 0.21420310</td><td> 0.7215551</td><td> 0.3692131</td></tr>\n",
       "\t<tr><td>ACEC002</td><td> 9796166</td><td> 9611707</td><td> 151343</td><td>0.001800</td><td> 2744529</td><td>  694469</td><td> 691789</td><td> 573107</td><td> 572999</td><td>⋯</td><td> 1255</td><td> 1162</td><td>  609</td><td> 538</td><td>  679</td><td> 578</td><td> 0.17437566</td><td> 0.24756473</td><td> 1.0275267</td><td> 0.5607622</td></tr>\n",
       "\t<tr><td>ACEC003</td><td>11976507</td><td>11613822</td><td> 300105</td><td>0.000649</td><td> 4217239</td><td> 1165618</td><td>1151802</td><td>1041239</td><td>1040967</td><td>⋯</td><td> 2523</td><td> 2194</td><td> 1035</td><td> 878</td><td> 1001</td><td> 835</td><td> 0.08391313</td><td> 0.18529710</td><td> 0.6243373</td><td> 0.3194716</td></tr>\n",
       "\t<tr><td>ACEC004</td><td>14001534</td><td>13585932</td><td> 345880</td><td>0.001425</td><td> 4367575</td><td>  972667</td><td> 969120</td><td> 867698</td><td> 867513</td><td>⋯</td><td> 1876</td><td> 1712</td><td>  916</td><td> 789</td><td>  920</td><td> 775</td><td> 0.03150880</td><td> 0.05826526</td><td> 0.3676854</td><td> 0.1792004</td></tr>\n",
       "\t<tr><td>ACEC005</td><td>14791301</td><td>14102791</td><td> 567263</td><td>0.001138</td><td> 4989584</td><td> 1002834</td><td> 994352</td><td> 881681</td><td> 881515</td><td>⋯</td><td> 2161</td><td> 1812</td><td>  925</td><td> 781</td><td> 1016</td><td> 825</td><td> 0.04878526</td><td> 0.13627211</td><td> 0.6145058</td><td> 0.3420219</td></tr>\n",
       "\t<tr><td>CH001  </td><td> 6994165</td><td> 6994139</td><td>      2</td><td>0.001203</td><td> 2833039</td><td>  923193</td><td> 911189</td><td> 821221</td><td> 820869</td><td>⋯</td><td>   NA</td><td>   NA</td><td>   NA</td><td>  NA</td><td>   NA</td><td>  NA</td><td> 0.08425960</td><td> 0.24739357</td><td> 1.1384441</td><td> 0.6437287</td></tr>\n",
       "\t<tr><td>CH002  </td><td>10653674</td><td>10653655</td><td>      1</td><td>0.000988</td><td> 4093991</td><td> 1185806</td><td>1172392</td><td>1060525</td><td>1060208</td><td>⋯</td><td>   NA</td><td>   NA</td><td>   NA</td><td>  NA</td><td>   NA</td><td>  NA</td><td> 0.11435588</td><td> 0.17081405</td><td> 0.8012774</td><td> 0.4135539</td></tr>\n",
       "\t<tr><td>CH003  </td><td>10488415</td><td>10488350</td><td>      2</td><td>0.001313</td><td> 4394284</td><td>  995084</td><td> 990560</td><td> 891636</td><td> 891324</td><td>⋯</td><td>   NA</td><td>   NA</td><td>   NA</td><td>  NA</td><td>   NA</td><td>  NA</td><td> 0.02042807</td><td> 0.07748641</td><td> 0.4809493</td><td> 0.2240332</td></tr>\n",
       "\t<tr><td>CH004  </td><td> 9403679</td><td> 9403648</td><td>      0</td><td>0.001175</td><td> 3912167</td><td> 1498682</td><td>1441353</td><td>1329988</td><td>1329416</td><td>⋯</td><td>   NA</td><td>   NA</td><td>   NA</td><td>  NA</td><td>   NA</td><td>  NA</td><td> 0.10400397</td><td> 0.16877176</td><td> 0.7367060</td><td> 0.3758438</td></tr>\n",
       "\t<tr><td>CH005  </td><td> 9163155</td><td> 9163124</td><td>      2</td><td>0.000841</td><td> 3470416</td><td> 1008733</td><td> 996924</td><td> 900695</td><td> 900331</td><td>⋯</td><td>   NA</td><td>   NA</td><td>   NA</td><td>  NA</td><td>   NA</td><td>  NA</td><td> 0.05915739</td><td> 0.15084883</td><td> 0.7763317</td><td> 0.4110265</td></tr>\n",
       "</tbody>\n",
       "</table>\n"
      ],
      "text/latex": [
       "A rowwise\\_df: 12 × 23\n",
       "\\begin{tabular}{lllllllllllllllllllll}\n",
       " cellname & Rawreads & DNAreads & RNAreads & yperx & raw\\_pairs & pairs\\_dedup & pairs\\_clean1 & pairs\\_clean2 & pairs\\_clean3 & ⋯ & UMIs\\_exon & genes\\_exon & UMIs\\_gene\\_genome1 & genes\\_gene\\_genome1 & UMIs\\_gene\\_genome2 & genes\\_gene\\_genome2 & 1m & 200k & 20k & 50k\\\\\n",
       " <chr> & <dbl> & <dbl> & <dbl> & <dbl> & <dbl> & <dbl> & <dbl> & <dbl> & <dbl> & ⋯ & <dbl> & <dbl> & <dbl> & <dbl> & <dbl> & <dbl> & <dbl> & <dbl> & <dbl> & <dbl>\\\\\n",
       "\\hline\n",
       "\t AcACEC  & 49478513 & 48187731 & 1283576 & 0.000930 & 14898515 & 11608873 &   98278 &   56494 &   56475 & ⋯ & 49462 & 21829 & 15271 & 7290 & 15467 & 7443 & 14.90796566 & 27.04997172 & 56.6198743 & 42.0438349\\\\\n",
       "\t AcCH    & 54534020 & 54975486 &      32 & 0.000714 & 19627010 & 14387527 &  299030 &  246316 &  246288 & ⋯ &    NA &    NA &    NA &   NA &    NA &   NA & 14.34330327 & 25.82800893 & 54.5573077 & 40.5464101\\\\\n",
       "\t ACEC001 & 10125135 &  9956591 &  137178 & 0.001999 &  3188977 &   750346 &  748629 &  626428 &  626315 & ⋯ &  1061 &   975 &   462 &  422 &   489 &  438 &  0.11974493 &  0.21420310 &  0.7215551 &  0.3692131\\\\\n",
       "\t ACEC002 &  9796166 &  9611707 &  151343 & 0.001800 &  2744529 &   694469 &  691789 &  573107 &  572999 & ⋯ &  1255 &  1162 &   609 &  538 &   679 &  578 &  0.17437566 &  0.24756473 &  1.0275267 &  0.5607622\\\\\n",
       "\t ACEC003 & 11976507 & 11613822 &  300105 & 0.000649 &  4217239 &  1165618 & 1151802 & 1041239 & 1040967 & ⋯ &  2523 &  2194 &  1035 &  878 &  1001 &  835 &  0.08391313 &  0.18529710 &  0.6243373 &  0.3194716\\\\\n",
       "\t ACEC004 & 14001534 & 13585932 &  345880 & 0.001425 &  4367575 &   972667 &  969120 &  867698 &  867513 & ⋯ &  1876 &  1712 &   916 &  789 &   920 &  775 &  0.03150880 &  0.05826526 &  0.3676854 &  0.1792004\\\\\n",
       "\t ACEC005 & 14791301 & 14102791 &  567263 & 0.001138 &  4989584 &  1002834 &  994352 &  881681 &  881515 & ⋯ &  2161 &  1812 &   925 &  781 &  1016 &  825 &  0.04878526 &  0.13627211 &  0.6145058 &  0.3420219\\\\\n",
       "\t CH001   &  6994165 &  6994139 &       2 & 0.001203 &  2833039 &   923193 &  911189 &  821221 &  820869 & ⋯ &    NA &    NA &    NA &   NA &    NA &   NA &  0.08425960 &  0.24739357 &  1.1384441 &  0.6437287\\\\\n",
       "\t CH002   & 10653674 & 10653655 &       1 & 0.000988 &  4093991 &  1185806 & 1172392 & 1060525 & 1060208 & ⋯ &    NA &    NA &    NA &   NA &    NA &   NA &  0.11435588 &  0.17081405 &  0.8012774 &  0.4135539\\\\\n",
       "\t CH003   & 10488415 & 10488350 &       2 & 0.001313 &  4394284 &   995084 &  990560 &  891636 &  891324 & ⋯ &    NA &    NA &    NA &   NA &    NA &   NA &  0.02042807 &  0.07748641 &  0.4809493 &  0.2240332\\\\\n",
       "\t CH004   &  9403679 &  9403648 &       0 & 0.001175 &  3912167 &  1498682 & 1441353 & 1329988 & 1329416 & ⋯ &    NA &    NA &    NA &   NA &    NA &   NA &  0.10400397 &  0.16877176 &  0.7367060 &  0.3758438\\\\\n",
       "\t CH005   &  9163155 &  9163124 &       2 & 0.000841 &  3470416 &  1008733 &  996924 &  900695 &  900331 & ⋯ &    NA &    NA &    NA &   NA &    NA &   NA &  0.05915739 &  0.15084883 &  0.7763317 &  0.4110265\\\\\n",
       "\\end{tabular}\n"
      ],
      "text/markdown": [
       "\n",
       "A rowwise_df: 12 × 23\n",
       "\n",
       "| cellname &lt;chr&gt; | Rawreads &lt;dbl&gt; | DNAreads &lt;dbl&gt; | RNAreads &lt;dbl&gt; | yperx &lt;dbl&gt; | raw_pairs &lt;dbl&gt; | pairs_dedup &lt;dbl&gt; | pairs_clean1 &lt;dbl&gt; | pairs_clean2 &lt;dbl&gt; | pairs_clean3 &lt;dbl&gt; | ⋯ ⋯ | UMIs_exon &lt;dbl&gt; | genes_exon &lt;dbl&gt; | UMIs_gene_genome1 &lt;dbl&gt; | genes_gene_genome1 &lt;dbl&gt; | UMIs_gene_genome2 &lt;dbl&gt; | genes_gene_genome2 &lt;dbl&gt; | 1m &lt;dbl&gt; | 200k &lt;dbl&gt; | 20k &lt;dbl&gt; | 50k &lt;dbl&gt; |\n",
       "|---|---|---|---|---|---|---|---|---|---|---|---|---|---|---|---|---|---|---|---|---|\n",
       "| AcACEC  | 49478513 | 48187731 | 1283576 | 0.000930 | 14898515 | 11608873 |   98278 |   56494 |   56475 | ⋯ | 49462 | 21829 | 15271 | 7290 | 15467 | 7443 | 14.90796566 | 27.04997172 | 56.6198743 | 42.0438349 |\n",
       "| AcCH    | 54534020 | 54975486 |      32 | 0.000714 | 19627010 | 14387527 |  299030 |  246316 |  246288 | ⋯ |    NA |    NA |    NA |   NA |    NA |   NA | 14.34330327 | 25.82800893 | 54.5573077 | 40.5464101 |\n",
       "| ACEC001 | 10125135 |  9956591 |  137178 | 0.001999 |  3188977 |   750346 |  748629 |  626428 |  626315 | ⋯ |  1061 |   975 |   462 |  422 |   489 |  438 |  0.11974493 |  0.21420310 |  0.7215551 |  0.3692131 |\n",
       "| ACEC002 |  9796166 |  9611707 |  151343 | 0.001800 |  2744529 |   694469 |  691789 |  573107 |  572999 | ⋯ |  1255 |  1162 |   609 |  538 |   679 |  578 |  0.17437566 |  0.24756473 |  1.0275267 |  0.5607622 |\n",
       "| ACEC003 | 11976507 | 11613822 |  300105 | 0.000649 |  4217239 |  1165618 | 1151802 | 1041239 | 1040967 | ⋯ |  2523 |  2194 |  1035 |  878 |  1001 |  835 |  0.08391313 |  0.18529710 |  0.6243373 |  0.3194716 |\n",
       "| ACEC004 | 14001534 | 13585932 |  345880 | 0.001425 |  4367575 |   972667 |  969120 |  867698 |  867513 | ⋯ |  1876 |  1712 |   916 |  789 |   920 |  775 |  0.03150880 |  0.05826526 |  0.3676854 |  0.1792004 |\n",
       "| ACEC005 | 14791301 | 14102791 |  567263 | 0.001138 |  4989584 |  1002834 |  994352 |  881681 |  881515 | ⋯ |  2161 |  1812 |   925 |  781 |  1016 |  825 |  0.04878526 |  0.13627211 |  0.6145058 |  0.3420219 |\n",
       "| CH001   |  6994165 |  6994139 |       2 | 0.001203 |  2833039 |   923193 |  911189 |  821221 |  820869 | ⋯ |    NA |    NA |    NA |   NA |    NA |   NA |  0.08425960 |  0.24739357 |  1.1384441 |  0.6437287 |\n",
       "| CH002   | 10653674 | 10653655 |       1 | 0.000988 |  4093991 |  1185806 | 1172392 | 1060525 | 1060208 | ⋯ |    NA |    NA |    NA |   NA |    NA |   NA |  0.11435588 |  0.17081405 |  0.8012774 |  0.4135539 |\n",
       "| CH003   | 10488415 | 10488350 |       2 | 0.001313 |  4394284 |   995084 |  990560 |  891636 |  891324 | ⋯ |    NA |    NA |    NA |   NA |    NA |   NA |  0.02042807 |  0.07748641 |  0.4809493 |  0.2240332 |\n",
       "| CH004   |  9403679 |  9403648 |       0 | 0.001175 |  3912167 |  1498682 | 1441353 | 1329988 | 1329416 | ⋯ |    NA |    NA |    NA |   NA |    NA |   NA |  0.10400397 |  0.16877176 |  0.7367060 |  0.3758438 |\n",
       "| CH005   |  9163155 |  9163124 |       2 | 0.000841 |  3470416 |  1008733 |  996924 |  900695 |  900331 | ⋯ |    NA |    NA |    NA |   NA |    NA |   NA |  0.05915739 |  0.15084883 |  0.7763317 |  0.4110265 |\n",
       "\n"
      ],
      "text/plain": [
       "   cellname Rawreads DNAreads RNAreads yperx    raw_pairs pairs_dedup\n",
       "1  AcACEC   49478513 48187731 1283576  0.000930 14898515  11608873   \n",
       "2  AcCH     54534020 54975486      32  0.000714 19627010  14387527   \n",
       "3  ACEC001  10125135  9956591  137178  0.001999  3188977    750346   \n",
       "4  ACEC002   9796166  9611707  151343  0.001800  2744529    694469   \n",
       "5  ACEC003  11976507 11613822  300105  0.000649  4217239   1165618   \n",
       "6  ACEC004  14001534 13585932  345880  0.001425  4367575    972667   \n",
       "7  ACEC005  14791301 14102791  567263  0.001138  4989584   1002834   \n",
       "8  CH001     6994165  6994139       2  0.001203  2833039    923193   \n",
       "9  CH002    10653674 10653655       1  0.000988  4093991   1185806   \n",
       "10 CH003    10488415 10488350       2  0.001313  4394284    995084   \n",
       "11 CH004     9403679  9403648       0  0.001175  3912167   1498682   \n",
       "12 CH005     9163155  9163124       2  0.000841  3470416   1008733   \n",
       "   pairs_clean1 pairs_clean2 pairs_clean3 ⋯ UMIs_exon genes_exon\n",
       "1    98278        56494        56475      ⋯ 49462     21829     \n",
       "2   299030       246316       246288      ⋯    NA        NA     \n",
       "3   748629       626428       626315      ⋯  1061       975     \n",
       "4   691789       573107       572999      ⋯  1255      1162     \n",
       "5  1151802      1041239      1040967      ⋯  2523      2194     \n",
       "6   969120       867698       867513      ⋯  1876      1712     \n",
       "7   994352       881681       881515      ⋯  2161      1812     \n",
       "8   911189       821221       820869      ⋯    NA        NA     \n",
       "9  1172392      1060525      1060208      ⋯    NA        NA     \n",
       "10  990560       891636       891324      ⋯    NA        NA     \n",
       "11 1441353      1329988      1329416      ⋯    NA        NA     \n",
       "12  996924       900695       900331      ⋯    NA        NA     \n",
       "   UMIs_gene_genome1 genes_gene_genome1 UMIs_gene_genome2 genes_gene_genome2\n",
       "1  15271             7290               15467             7443              \n",
       "2     NA               NA                  NA               NA              \n",
       "3    462              422                 489              438              \n",
       "4    609              538                 679              578              \n",
       "5   1035              878                1001              835              \n",
       "6    916              789                 920              775              \n",
       "7    925              781                1016              825              \n",
       "8     NA               NA                  NA               NA              \n",
       "9     NA               NA                  NA               NA              \n",
       "10    NA               NA                  NA               NA              \n",
       "11    NA               NA                  NA               NA              \n",
       "12    NA               NA                  NA               NA              \n",
       "   1m          200k        20k        50k       \n",
       "1  14.90796566 27.04997172 56.6198743 42.0438349\n",
       "2  14.34330327 25.82800893 54.5573077 40.5464101\n",
       "3   0.11974493  0.21420310  0.7215551  0.3692131\n",
       "4   0.17437566  0.24756473  1.0275267  0.5607622\n",
       "5   0.08391313  0.18529710  0.6243373  0.3194716\n",
       "6   0.03150880  0.05826526  0.3676854  0.1792004\n",
       "7   0.04878526  0.13627211  0.6145058  0.3420219\n",
       "8   0.08425960  0.24739357  1.1384441  0.6437287\n",
       "9   0.11435588  0.17081405  0.8012774  0.4135539\n",
       "10  0.02042807  0.07748641  0.4809493  0.2240332\n",
       "11  0.10400397  0.16877176  0.7367060  0.3758438\n",
       "12  0.05915739  0.15084883  0.7763317  0.4110265"
      ]
     },
     "metadata": {},
     "output_type": "display_data"
    }
   ],
   "source": [
    "stat"
   ]
  },
  {
   "cell_type": "code",
   "execution_count": 15,
   "metadata": {
    "vscode": {
     "languageId": "r"
    }
   },
   "outputs": [
    {
     "name": "stderr",
     "output_type": "stream",
     "text": [
      "\n",
      "\u001b[36m──\u001b[39m \u001b[1mColumn specification\u001b[22m \u001b[36m────────────────────────────────────────────────────────\u001b[39m\n",
      "cols(\n",
      "  X1 = \u001b[31mcol_character()\u001b[39m,\n",
      "  X2 = \u001b[32mcol_double()\u001b[39m\n",
      ")\n",
      "\n",
      "\u001b[1m\u001b[22mJoining, by = \"cellname\"\n",
      "\n",
      "\u001b[36m──\u001b[39m \u001b[1mColumn specification\u001b[22m \u001b[36m────────────────────────────────────────────────────────\u001b[39m\n",
      "cols(\n",
      "  X1 = \u001b[31mcol_character()\u001b[39m,\n",
      "  X2 = \u001b[32mcol_double()\u001b[39m\n",
      ")\n",
      "\n",
      "\u001b[1m\u001b[22mJoining, by = \"cellname\"\n",
      "\u001b[1m\u001b[22mJoining, by = \"cellname\"\n",
      "\u001b[1m\u001b[22mJoining, by = \"cellname\"\n"
     ]
    }
   ],
   "source": [
    "config$if_cuttag<- TRUE\n",
    "\n",
    "if (config$if_cuttag){\n",
    "    reads <- tibble(\"cellname\"=NA)\n",
    "    #TODO:数量改了\n",
    "    temp <- read_table(\"../stat/ct.read.stat\",col_names = F) %>% rowwise() %>% mutate(X1 = str_split(X1,pattern =\"/\")[[1]][3],X2 = X2)\n",
    "    names(temp) <- c(\"cellname\",\"ct_reads\")\n",
    "    reads <- reads %>% full_join(temp)\n",
    "    reads <- reads %>% filter(!is.na(cellname))\n",
    "\n",
    "    frag <- tibble(\"cellname\"=NA)\n",
    "    temp <- read_table(\"../stat/ct.frag.stat\",col_names = F) %>% rowwise() %>% mutate(X1 = str_extract(X1,pattern = \"(?<=\\\\/)[A-Za-z0-9-]+(?=\\\\.)\"))\n",
    "    \n",
    "    names(temp) <- c(\"cellname\",\"ct_frag\")\n",
    "    frag <- frag %>% full_join(temp)\n",
    "    frag <- frag %>% filter(!is.na(cellname))\n",
    "    reads <- reads %>% left_join(frag)\n",
    "\n",
    "    #连接\n",
    "    stat <- stat %>% full_join(reads)\n",
    "}\n",
    "\n"
   ]
  },
  {
   "cell_type": "code",
   "execution_count": 16,
   "metadata": {
    "vscode": {
     "languageId": "r"
    }
   },
   "outputs": [
    {
     "name": "stderr",
     "output_type": "stream",
     "text": [
      "\n",
      "\u001b[36m──\u001b[39m \u001b[1mColumn specification\u001b[22m \u001b[36m────────────────────────────────────────────────────────\u001b[39m\n",
      "cols(\n",
      "  X1 = \u001b[31mcol_character()\u001b[39m,\n",
      "  X2 = \u001b[32mcol_double()\u001b[39m\n",
      ")\n",
      "\n",
      "\u001b[1m\u001b[22mJoining, by = \"cellname\"\n",
      "\n",
      "\u001b[36m──\u001b[39m \u001b[1mColumn specification\u001b[22m \u001b[36m────────────────────────────────────────────────────────\u001b[39m\n",
      "cols(\n",
      "  X1 = \u001b[31mcol_character()\u001b[39m,\n",
      "  X2 = \u001b[32mcol_double()\u001b[39m\n",
      ")\n",
      "\n",
      "\u001b[1m\u001b[22mJoining, by = \"cellname\"\n",
      "\u001b[1m\u001b[22mJoining, by = \"cellname\"\n",
      "\u001b[1m\u001b[22mJoining, by = \"cellname\"\n"
     ]
    }
   ],
   "source": [
    "config$if_atac <- TRUE\n",
    "if (config$if_atac){\n",
    "    reads <- tibble(\"cellname\"=NA)\n",
    "    #TODO:数量改了\n",
    "    temp <- read_table(\"../stat/atac.read.stat\",col_names = F) %>% rowwise() %>% mutate(X1 = str_split(X1,pattern =\"/\")[[1]][3],X2 = X2)\n",
    "    names(temp) <- c(\"cellname\",\"atac_reads\")\n",
    "    reads <- reads %>% full_join(temp)\n",
    "    reads <- reads %>% filter(!is.na(cellname))\n",
    "\n",
    "    frag <- tibble(\"cellname\"=NA)\n",
    "    temp <- read_table(\"../stat/atac.frag.stat\",col_names = F) %>% rowwise() %>% mutate(X1 = str_extract(X1,pattern = \"(?<=\\\\/)[A-Za-z0-9-]+(?=\\\\.)\"))\n",
    "    \n",
    "    names(temp) <- c(\"cellname\",\"atac_frag\")\n",
    "    frag <- frag %>% full_join(temp)\n",
    "    frag <- frag %>% filter(!is.na(cellname))\n",
    "    reads <- reads %>% left_join(frag)\n",
    "\n",
    "    #连接\n",
    "    stat <- stat %>% full_join(reads)\n",
    "}\n"
   ]
  },
  {
   "cell_type": "code",
   "execution_count": 17,
   "metadata": {
    "vscode": {
     "languageId": "r"
    }
   },
   "outputs": [],
   "source": [
    "#这里也改了*300/1G\n",
    "plot <- stat %>% mutate(RNAreadsRatio = RNAreads/(RNAreads+DNAreads),\n",
    "                        pairsPerRead = raw_pairs/DNAreads,\n",
    "                        pairsValidRatio = pairs_clean3/raw_pairs,\n",
    "                        interPairsRatio = inter_pairs_clean3/pairs_clean3) \n",
    "#plot[is.na(plot)]<-0"
   ]
  },
  {
   "cell_type": "code",
   "execution_count": 18,
   "metadata": {
    "vscode": {
     "languageId": "r"
    }
   },
   "outputs": [
    {
     "data": {
      "text/html": [
       "<table class=\"dataframe\">\n",
       "<caption>A rowwise_df: 12 × 31</caption>\n",
       "<thead>\n",
       "\t<tr><th scope=col>cellname</th><th scope=col>Rawreads</th><th scope=col>DNAreads</th><th scope=col>RNAreads</th><th scope=col>yperx</th><th scope=col>raw_pairs</th><th scope=col>pairs_dedup</th><th scope=col>pairs_clean1</th><th scope=col>pairs_clean2</th><th scope=col>pairs_clean3</th><th scope=col>⋯</th><th scope=col>20k</th><th scope=col>50k</th><th scope=col>ct_reads</th><th scope=col>ct_frag</th><th scope=col>atac_reads</th><th scope=col>atac_frag</th><th scope=col>RNAreadsRatio</th><th scope=col>pairsPerRead</th><th scope=col>pairsValidRatio</th><th scope=col>interPairsRatio</th></tr>\n",
       "\t<tr><th scope=col>&lt;chr&gt;</th><th scope=col>&lt;dbl&gt;</th><th scope=col>&lt;dbl&gt;</th><th scope=col>&lt;dbl&gt;</th><th scope=col>&lt;dbl&gt;</th><th scope=col>&lt;dbl&gt;</th><th scope=col>&lt;dbl&gt;</th><th scope=col>&lt;dbl&gt;</th><th scope=col>&lt;dbl&gt;</th><th scope=col>&lt;dbl&gt;</th><th scope=col>⋯</th><th scope=col>&lt;dbl&gt;</th><th scope=col>&lt;dbl&gt;</th><th scope=col>&lt;dbl&gt;</th><th scope=col>&lt;dbl&gt;</th><th scope=col>&lt;dbl&gt;</th><th scope=col>&lt;dbl&gt;</th><th scope=col>&lt;dbl&gt;</th><th scope=col>&lt;dbl&gt;</th><th scope=col>&lt;dbl&gt;</th><th scope=col>&lt;dbl&gt;</th></tr>\n",
       "</thead>\n",
       "<tbody>\n",
       "\t<tr><td>AcACEC </td><td>49478513</td><td>48187731</td><td>1283576</td><td>0.000930</td><td>14898515</td><td>11608873</td><td>  98278</td><td>  56494</td><td>  56475</td><td>⋯</td><td>56.6198743</td><td>42.0438349</td><td> 1328401</td><td>  848792</td><td>34618073</td><td>16130333</td><td>2.594587e-02</td><td>0.3091765</td><td>0.003790646</td><td>0.03128818</td></tr>\n",
       "\t<tr><td>AcCH   </td><td>54534020</td><td>54975486</td><td>     32</td><td>0.000714</td><td>19627010</td><td>14387527</td><td> 299030</td><td> 246316</td><td> 246288</td><td>⋯</td><td>54.5573077</td><td>40.5464101</td><td>34917133</td><td>14940931</td><td>      39</td><td>      32</td><td>5.820773e-07</td><td>0.3570139</td><td>0.012548422</td><td>0.04373335</td></tr>\n",
       "\t<tr><td>ACEC001</td><td>10125135</td><td> 9956591</td><td> 137178</td><td>0.001999</td><td> 3188977</td><td>  750346</td><td> 748629</td><td> 626428</td><td> 626315</td><td>⋯</td><td> 0.7215551</td><td> 0.3692131</td><td>  142440</td><td>    8406</td><td> 4053722</td><td>  162579</td><td>1.359036e-02</td><td>0.3202880</td><td>0.196399974</td><td>0.39476462</td></tr>\n",
       "\t<tr><td>ACEC002</td><td> 9796166</td><td> 9611707</td><td> 151343</td><td>0.001800</td><td> 2744529</td><td>  694469</td><td> 691789</td><td> 573107</td><td> 572999</td><td>⋯</td><td> 1.0275267</td><td> 0.5607622</td><td>  110153</td><td>    9488</td><td> 5598230</td><td>  360234</td><td>1.550161e-02</td><td>0.2855402</td><td>0.208778628</td><td>0.26732507</td></tr>\n",
       "\t<tr><td>ACEC003</td><td>11976507</td><td>11613822</td><td> 300105</td><td>0.000649</td><td> 4217239</td><td> 1165618</td><td>1151802</td><td>1041239</td><td>1040967</td><td>⋯</td><td> 0.6243373</td><td> 0.3194716</td><td>  303277</td><td>   15460</td><td> 5732338</td><td>  213615</td><td>2.518943e-02</td><td>0.3631224</td><td>0.246836141</td><td>0.29681440</td></tr>\n",
       "\t<tr><td>ACEC004</td><td>14001534</td><td>13585932</td><td> 345880</td><td>0.001425</td><td> 4367575</td><td>  972667</td><td> 969120</td><td> 867698</td><td> 867513</td><td>⋯</td><td> 0.3676854</td><td> 0.1792004</td><td>  216809</td><td>   10120</td><td> 7100575</td><td>  217592</td><td>2.482663e-02</td><td>0.3214778</td><td>0.198625782</td><td>0.33923757</td></tr>\n",
       "\t<tr><td>ACEC005</td><td>14791301</td><td>14102791</td><td> 567263</td><td>0.001138</td><td> 4989584</td><td> 1002834</td><td> 994352</td><td> 881681</td><td> 881515</td><td>⋯</td><td> 0.6145058</td><td> 0.3420219</td><td>  639621</td><td>   19519</td><td> 4073894</td><td>  103050</td><td>3.866809e-02</td><td>0.3538012</td><td>0.176671041</td><td>0.33342144</td></tr>\n",
       "\t<tr><td>CH001  </td><td> 6994165</td><td> 6994139</td><td>      2</td><td>0.001203</td><td> 2833039</td><td>  923193</td><td> 911189</td><td> 821221</td><td> 820869</td><td>⋯</td><td> 1.1384441</td><td> 0.6437287</td><td> 2252536</td><td>  194568</td><td>       4</td><td>       0</td><td>2.859536e-07</td><td>0.4050590</td><td>0.289748570</td><td>0.20312376</td></tr>\n",
       "\t<tr><td>CH002  </td><td>10653674</td><td>10653655</td><td>      1</td><td>0.000988</td><td> 4093991</td><td> 1185806</td><td>1172392</td><td>1060525</td><td>1060208</td><td>⋯</td><td> 0.8012774</td><td> 0.4135539</td><td> 4738863</td><td>  369097</td><td>       6</td><td>       6</td><td>9.386449e-08</td><td>0.3842804</td><td>0.258966861</td><td>0.24884174</td></tr>\n",
       "\t<tr><td>CH003  </td><td>10488415</td><td>10488350</td><td>      2</td><td>0.001313</td><td> 4394284</td><td>  995084</td><td> 990560</td><td> 891636</td><td> 891324</td><td>⋯</td><td> 0.4809493</td><td> 0.2240332</td><td> 1725288</td><td>   69886</td><td>       1</td><td>      NA</td><td>1.906877e-07</td><td>0.4189681</td><td>0.202837140</td><td>0.20416930</td></tr>\n",
       "\t<tr><td>CH004  </td><td> 9403679</td><td> 9403648</td><td>      0</td><td>0.001175</td><td> 3912167</td><td> 1498682</td><td>1441353</td><td>1329988</td><td>1329416</td><td>⋯</td><td> 0.7367060</td><td> 0.3758438</td><td> 2541816</td><td>  224002</td><td>       4</td><td>       2</td><td>0.000000e+00</td><td>0.4160265</td><td>0.339815759</td><td>0.21557060</td></tr>\n",
       "\t<tr><td>CH005  </td><td> 9163155</td><td> 9163124</td><td>      2</td><td>0.000841</td><td> 3470416</td><td> 1008733</td><td> 996924</td><td> 900695</td><td> 900331</td><td>⋯</td><td> 0.7763317</td><td> 0.4110265</td><td> 3144971</td><td>  222714</td><td>       5</td><td>       3</td><td>2.182661e-07</td><td>0.3787372</td><td>0.259430282</td><td>0.21156330</td></tr>\n",
       "</tbody>\n",
       "</table>\n"
      ],
      "text/latex": [
       "A rowwise\\_df: 12 × 31\n",
       "\\begin{tabular}{lllllllllllllllllllll}\n",
       " cellname & Rawreads & DNAreads & RNAreads & yperx & raw\\_pairs & pairs\\_dedup & pairs\\_clean1 & pairs\\_clean2 & pairs\\_clean3 & ⋯ & 20k & 50k & ct\\_reads & ct\\_frag & atac\\_reads & atac\\_frag & RNAreadsRatio & pairsPerRead & pairsValidRatio & interPairsRatio\\\\\n",
       " <chr> & <dbl> & <dbl> & <dbl> & <dbl> & <dbl> & <dbl> & <dbl> & <dbl> & <dbl> & ⋯ & <dbl> & <dbl> & <dbl> & <dbl> & <dbl> & <dbl> & <dbl> & <dbl> & <dbl> & <dbl>\\\\\n",
       "\\hline\n",
       "\t AcACEC  & 49478513 & 48187731 & 1283576 & 0.000930 & 14898515 & 11608873 &   98278 &   56494 &   56475 & ⋯ & 56.6198743 & 42.0438349 &  1328401 &   848792 & 34618073 & 16130333 & 2.594587e-02 & 0.3091765 & 0.003790646 & 0.03128818\\\\\n",
       "\t AcCH    & 54534020 & 54975486 &      32 & 0.000714 & 19627010 & 14387527 &  299030 &  246316 &  246288 & ⋯ & 54.5573077 & 40.5464101 & 34917133 & 14940931 &       39 &       32 & 5.820773e-07 & 0.3570139 & 0.012548422 & 0.04373335\\\\\n",
       "\t ACEC001 & 10125135 &  9956591 &  137178 & 0.001999 &  3188977 &   750346 &  748629 &  626428 &  626315 & ⋯ &  0.7215551 &  0.3692131 &   142440 &     8406 &  4053722 &   162579 & 1.359036e-02 & 0.3202880 & 0.196399974 & 0.39476462\\\\\n",
       "\t ACEC002 &  9796166 &  9611707 &  151343 & 0.001800 &  2744529 &   694469 &  691789 &  573107 &  572999 & ⋯ &  1.0275267 &  0.5607622 &   110153 &     9488 &  5598230 &   360234 & 1.550161e-02 & 0.2855402 & 0.208778628 & 0.26732507\\\\\n",
       "\t ACEC003 & 11976507 & 11613822 &  300105 & 0.000649 &  4217239 &  1165618 & 1151802 & 1041239 & 1040967 & ⋯ &  0.6243373 &  0.3194716 &   303277 &    15460 &  5732338 &   213615 & 2.518943e-02 & 0.3631224 & 0.246836141 & 0.29681440\\\\\n",
       "\t ACEC004 & 14001534 & 13585932 &  345880 & 0.001425 &  4367575 &   972667 &  969120 &  867698 &  867513 & ⋯ &  0.3676854 &  0.1792004 &   216809 &    10120 &  7100575 &   217592 & 2.482663e-02 & 0.3214778 & 0.198625782 & 0.33923757\\\\\n",
       "\t ACEC005 & 14791301 & 14102791 &  567263 & 0.001138 &  4989584 &  1002834 &  994352 &  881681 &  881515 & ⋯ &  0.6145058 &  0.3420219 &   639621 &    19519 &  4073894 &   103050 & 3.866809e-02 & 0.3538012 & 0.176671041 & 0.33342144\\\\\n",
       "\t CH001   &  6994165 &  6994139 &       2 & 0.001203 &  2833039 &   923193 &  911189 &  821221 &  820869 & ⋯ &  1.1384441 &  0.6437287 &  2252536 &   194568 &        4 &        0 & 2.859536e-07 & 0.4050590 & 0.289748570 & 0.20312376\\\\\n",
       "\t CH002   & 10653674 & 10653655 &       1 & 0.000988 &  4093991 &  1185806 & 1172392 & 1060525 & 1060208 & ⋯ &  0.8012774 &  0.4135539 &  4738863 &   369097 &        6 &        6 & 9.386449e-08 & 0.3842804 & 0.258966861 & 0.24884174\\\\\n",
       "\t CH003   & 10488415 & 10488350 &       2 & 0.001313 &  4394284 &   995084 &  990560 &  891636 &  891324 & ⋯ &  0.4809493 &  0.2240332 &  1725288 &    69886 &        1 &       NA & 1.906877e-07 & 0.4189681 & 0.202837140 & 0.20416930\\\\\n",
       "\t CH004   &  9403679 &  9403648 &       0 & 0.001175 &  3912167 &  1498682 & 1441353 & 1329988 & 1329416 & ⋯ &  0.7367060 &  0.3758438 &  2541816 &   224002 &        4 &        2 & 0.000000e+00 & 0.4160265 & 0.339815759 & 0.21557060\\\\\n",
       "\t CH005   &  9163155 &  9163124 &       2 & 0.000841 &  3470416 &  1008733 &  996924 &  900695 &  900331 & ⋯ &  0.7763317 &  0.4110265 &  3144971 &   222714 &        5 &        3 & 2.182661e-07 & 0.3787372 & 0.259430282 & 0.21156330\\\\\n",
       "\\end{tabular}\n"
      ],
      "text/markdown": [
       "\n",
       "A rowwise_df: 12 × 31\n",
       "\n",
       "| cellname &lt;chr&gt; | Rawreads &lt;dbl&gt; | DNAreads &lt;dbl&gt; | RNAreads &lt;dbl&gt; | yperx &lt;dbl&gt; | raw_pairs &lt;dbl&gt; | pairs_dedup &lt;dbl&gt; | pairs_clean1 &lt;dbl&gt; | pairs_clean2 &lt;dbl&gt; | pairs_clean3 &lt;dbl&gt; | ⋯ ⋯ | 20k &lt;dbl&gt; | 50k &lt;dbl&gt; | ct_reads &lt;dbl&gt; | ct_frag &lt;dbl&gt; | atac_reads &lt;dbl&gt; | atac_frag &lt;dbl&gt; | RNAreadsRatio &lt;dbl&gt; | pairsPerRead &lt;dbl&gt; | pairsValidRatio &lt;dbl&gt; | interPairsRatio &lt;dbl&gt; |\n",
       "|---|---|---|---|---|---|---|---|---|---|---|---|---|---|---|---|---|---|---|---|---|\n",
       "| AcACEC  | 49478513 | 48187731 | 1283576 | 0.000930 | 14898515 | 11608873 |   98278 |   56494 |   56475 | ⋯ | 56.6198743 | 42.0438349 |  1328401 |   848792 | 34618073 | 16130333 | 2.594587e-02 | 0.3091765 | 0.003790646 | 0.03128818 |\n",
       "| AcCH    | 54534020 | 54975486 |      32 | 0.000714 | 19627010 | 14387527 |  299030 |  246316 |  246288 | ⋯ | 54.5573077 | 40.5464101 | 34917133 | 14940931 |       39 |       32 | 5.820773e-07 | 0.3570139 | 0.012548422 | 0.04373335 |\n",
       "| ACEC001 | 10125135 |  9956591 |  137178 | 0.001999 |  3188977 |   750346 |  748629 |  626428 |  626315 | ⋯ |  0.7215551 |  0.3692131 |   142440 |     8406 |  4053722 |   162579 | 1.359036e-02 | 0.3202880 | 0.196399974 | 0.39476462 |\n",
       "| ACEC002 |  9796166 |  9611707 |  151343 | 0.001800 |  2744529 |   694469 |  691789 |  573107 |  572999 | ⋯ |  1.0275267 |  0.5607622 |   110153 |     9488 |  5598230 |   360234 | 1.550161e-02 | 0.2855402 | 0.208778628 | 0.26732507 |\n",
       "| ACEC003 | 11976507 | 11613822 |  300105 | 0.000649 |  4217239 |  1165618 | 1151802 | 1041239 | 1040967 | ⋯ |  0.6243373 |  0.3194716 |   303277 |    15460 |  5732338 |   213615 | 2.518943e-02 | 0.3631224 | 0.246836141 | 0.29681440 |\n",
       "| ACEC004 | 14001534 | 13585932 |  345880 | 0.001425 |  4367575 |   972667 |  969120 |  867698 |  867513 | ⋯ |  0.3676854 |  0.1792004 |   216809 |    10120 |  7100575 |   217592 | 2.482663e-02 | 0.3214778 | 0.198625782 | 0.33923757 |\n",
       "| ACEC005 | 14791301 | 14102791 |  567263 | 0.001138 |  4989584 |  1002834 |  994352 |  881681 |  881515 | ⋯ |  0.6145058 |  0.3420219 |   639621 |    19519 |  4073894 |   103050 | 3.866809e-02 | 0.3538012 | 0.176671041 | 0.33342144 |\n",
       "| CH001   |  6994165 |  6994139 |       2 | 0.001203 |  2833039 |   923193 |  911189 |  821221 |  820869 | ⋯ |  1.1384441 |  0.6437287 |  2252536 |   194568 |        4 |        0 | 2.859536e-07 | 0.4050590 | 0.289748570 | 0.20312376 |\n",
       "| CH002   | 10653674 | 10653655 |       1 | 0.000988 |  4093991 |  1185806 | 1172392 | 1060525 | 1060208 | ⋯ |  0.8012774 |  0.4135539 |  4738863 |   369097 |        6 |        6 | 9.386449e-08 | 0.3842804 | 0.258966861 | 0.24884174 |\n",
       "| CH003   | 10488415 | 10488350 |       2 | 0.001313 |  4394284 |   995084 |  990560 |  891636 |  891324 | ⋯ |  0.4809493 |  0.2240332 |  1725288 |    69886 |        1 |       NA | 1.906877e-07 | 0.4189681 | 0.202837140 | 0.20416930 |\n",
       "| CH004   |  9403679 |  9403648 |       0 | 0.001175 |  3912167 |  1498682 | 1441353 | 1329988 | 1329416 | ⋯ |  0.7367060 |  0.3758438 |  2541816 |   224002 |        4 |        2 | 0.000000e+00 | 0.4160265 | 0.339815759 | 0.21557060 |\n",
       "| CH005   |  9163155 |  9163124 |       2 | 0.000841 |  3470416 |  1008733 |  996924 |  900695 |  900331 | ⋯ |  0.7763317 |  0.4110265 |  3144971 |   222714 |        5 |        3 | 2.182661e-07 | 0.3787372 | 0.259430282 | 0.21156330 |\n",
       "\n"
      ],
      "text/plain": [
       "   cellname Rawreads DNAreads RNAreads yperx    raw_pairs pairs_dedup\n",
       "1  AcACEC   49478513 48187731 1283576  0.000930 14898515  11608873   \n",
       "2  AcCH     54534020 54975486      32  0.000714 19627010  14387527   \n",
       "3  ACEC001  10125135  9956591  137178  0.001999  3188977    750346   \n",
       "4  ACEC002   9796166  9611707  151343  0.001800  2744529    694469   \n",
       "5  ACEC003  11976507 11613822  300105  0.000649  4217239   1165618   \n",
       "6  ACEC004  14001534 13585932  345880  0.001425  4367575    972667   \n",
       "7  ACEC005  14791301 14102791  567263  0.001138  4989584   1002834   \n",
       "8  CH001     6994165  6994139       2  0.001203  2833039    923193   \n",
       "9  CH002    10653674 10653655       1  0.000988  4093991   1185806   \n",
       "10 CH003    10488415 10488350       2  0.001313  4394284    995084   \n",
       "11 CH004     9403679  9403648       0  0.001175  3912167   1498682   \n",
       "12 CH005     9163155  9163124       2  0.000841  3470416   1008733   \n",
       "   pairs_clean1 pairs_clean2 pairs_clean3 ⋯ 20k        50k        ct_reads\n",
       "1    98278        56494        56475      ⋯ 56.6198743 42.0438349  1328401\n",
       "2   299030       246316       246288      ⋯ 54.5573077 40.5464101 34917133\n",
       "3   748629       626428       626315      ⋯  0.7215551  0.3692131   142440\n",
       "4   691789       573107       572999      ⋯  1.0275267  0.5607622   110153\n",
       "5  1151802      1041239      1040967      ⋯  0.6243373  0.3194716   303277\n",
       "6   969120       867698       867513      ⋯  0.3676854  0.1792004   216809\n",
       "7   994352       881681       881515      ⋯  0.6145058  0.3420219   639621\n",
       "8   911189       821221       820869      ⋯  1.1384441  0.6437287  2252536\n",
       "9  1172392      1060525      1060208      ⋯  0.8012774  0.4135539  4738863\n",
       "10  990560       891636       891324      ⋯  0.4809493  0.2240332  1725288\n",
       "11 1441353      1329988      1329416      ⋯  0.7367060  0.3758438  2541816\n",
       "12  996924       900695       900331      ⋯  0.7763317  0.4110265  3144971\n",
       "   ct_frag  atac_reads atac_frag RNAreadsRatio pairsPerRead pairsValidRatio\n",
       "1    848792 34618073   16130333  2.594587e-02  0.3091765    0.003790646    \n",
       "2  14940931       39         32  5.820773e-07  0.3570139    0.012548422    \n",
       "3      8406  4053722     162579  1.359036e-02  0.3202880    0.196399974    \n",
       "4      9488  5598230     360234  1.550161e-02  0.2855402    0.208778628    \n",
       "5     15460  5732338     213615  2.518943e-02  0.3631224    0.246836141    \n",
       "6     10120  7100575     217592  2.482663e-02  0.3214778    0.198625782    \n",
       "7     19519  4073894     103050  3.866809e-02  0.3538012    0.176671041    \n",
       "8    194568        4          0  2.859536e-07  0.4050590    0.289748570    \n",
       "9    369097        6          6  9.386449e-08  0.3842804    0.258966861    \n",
       "10    69886        1         NA  1.906877e-07  0.4189681    0.202837140    \n",
       "11   224002        4          2  0.000000e+00  0.4160265    0.339815759    \n",
       "12   222714        5          3  2.182661e-07  0.3787372    0.259430282    \n",
       "   interPairsRatio\n",
       "1  0.03128818     \n",
       "2  0.04373335     \n",
       "3  0.39476462     \n",
       "4  0.26732507     \n",
       "5  0.29681440     \n",
       "6  0.33923757     \n",
       "7  0.33342144     \n",
       "8  0.20312376     \n",
       "9  0.24884174     \n",
       "10 0.20416930     \n",
       "11 0.21557060     \n",
       "12 0.21156330     "
      ]
     },
     "metadata": {},
     "output_type": "display_data"
    }
   ],
   "source": [
    "plot"
   ]
  },
  {
   "cell_type": "code",
   "execution_count": 19,
   "metadata": {
    "vscode": {
     "languageId": "r"
    }
   },
   "outputs": [],
   "source": [
    "plot %>% write_tsv(\"summary.stat.tsv\")"
   ]
  },
  {
   "cell_type": "code",
   "execution_count": 11,
   "metadata": {
    "vscode": {
     "languageId": "r"
    }
   },
   "outputs": [
    {
     "data": {
      "text/plain": [
       "   cellname            Rawreads         DNAreads         RNAreads       \n",
       " Length:192         Min.   :0.3023   Min.   :0.2973   Min.   :0.002575  \n",
       " Class :character   1st Qu.:2.4015   1st Qu.:2.2635   1st Qu.:0.046244  \n",
       " Mode  :character   Median :4.1420   Median :3.8554   Median :0.152186  \n",
       "                    Mean   :4.0641   Mean   :3.8001   Mean   :0.230230  \n",
       "                    3rd Qu.:5.5827   3rd Qu.:5.1283   3rd Qu.:0.336940  \n",
       "                    Max.   :8.5390   Max.   :8.1782   Max.   :1.275965  \n",
       "     yperx            raw_pairs        pairs_dedup      pairs_clean1   \n",
       " Min.   :0.000965   Min.   :  65874   Min.   : 51698   Min.   : 51559  \n",
       " 1st Qu.:0.005006   1st Qu.: 662960   1st Qu.:307964   1st Qu.:305150  \n",
       " Median :0.005871   Median :1322358   Median :373257   Median :368597  \n",
       " Mean   :0.007437   Mean   :1363911   Mean   :375294   Mean   :371832  \n",
       " 3rd Qu.:0.006839   3rd Qu.:1912474   3rd Qu.:448309   3rd Qu.:444313  \n",
       " Max.   :0.095524   Max.   :3351396   Max.   :671798   Max.   :666881  \n",
       "  pairs_clean2     pairs_clean3    inter_pairs_clean3   UMIs_gene    \n",
       " Min.   : 38278   Min.   : 38256   Min.   :  2358     Min.   : 1089  \n",
       " 1st Qu.:249524   1st Qu.:249382   1st Qu.: 38669     1st Qu.:12664  \n",
       " Median :300630   Median :300487   Median : 51970     Median :21246  \n",
       " Mean   :306350   Mean   :306195   Mean   : 58491     Mean   :21753  \n",
       " 3rd Qu.:377661   3rd Qu.:377505   3rd Qu.: 76351     3rd Qu.:28429  \n",
       " Max.   :579838   Max.   :579571   Max.   :169865     Max.   :61488  \n",
       "   genes_gene      UMIs_exon       genes_exon         1m          \n",
       " Min.   :  843   Min.   :  288   Min.   : 231   Min.   : 0.00010  \n",
       " 1st Qu.: 4641   1st Qu.: 3034   1st Qu.:1934   1st Qu.: 0.01543  \n",
       " Median : 6148   Median : 4976   Median :2684   Median : 0.02729  \n",
       " Mean   : 5866   Mean   : 5240   Mean   :2627   Mean   : 0.36276  \n",
       " 3rd Qu.: 7262   3rd Qu.: 7064   3rd Qu.:3385   3rd Qu.: 0.05656  \n",
       " Max.   :10587   Max.   :15314   Max.   :5545   Max.   :11.13833  \n",
       "      200k               20k               50k          RNAreadsRatio     \n",
       " Min.   : 0.01925   Min.   : 0.2499   Min.   : 0.1020   Min.   :0.001055  \n",
       " 1st Qu.: 0.09540   1st Qu.: 0.6558   1st Qu.: 0.3288   1st Qu.:0.017698  \n",
       " Median : 0.15178   Median : 0.8845   Median : 0.4713   Median :0.040404  \n",
       " Mean   : 0.79352   Mean   : 2.4823   Mean   : 1.5695   Mean   :0.049147  \n",
       " 3rd Qu.: 0.24502   3rd Qu.: 1.1802   3rd Qu.: 0.6511   3rd Qu.:0.076898  \n",
       " Max.   :20.56410   Max.   :47.1944   Max.   :33.9624   Max.   :0.177651  \n",
       "  pairsPerRead     pairsValidRatio   interPairsRatio  \n",
       " Min.   :0.02890   Min.   :0.05421   Min.   :0.05622  \n",
       " 1st Qu.:0.08101   1st Qu.:0.16257   1st Qu.:0.15142  \n",
       " Median :0.10644   Median :0.30034   Median :0.17539  \n",
       " Mean   :0.10371   Mean   :0.29585   Mean   :0.18256  \n",
       " 3rd Qu.:0.12873   3rd Qu.:0.41799   3rd Qu.:0.20980  \n",
       " Max.   :0.15601   Max.   :0.58075   Max.   :0.36213  "
      ]
     },
     "metadata": {},
     "output_type": "display_data"
    }
   ],
   "source": [
    "options(repr.matrix.max.cols=50, repr.matrix.max.rows=100)\n",
    "plot %>% summary()"
   ]
  }
 ],
 "metadata": {
  "kernelspec": {
   "display_name": "R4.1.3",
   "language": "R",
   "name": "ir_r"
  },
  "language_info": {
   "codemirror_mode": "r",
   "file_extension": ".r",
   "mimetype": "text/x-r-source",
   "name": "R",
   "pygments_lexer": "r",
   "version": "4.1.3"
  }
 },
 "nbformat": 4,
 "nbformat_minor": 4
}
