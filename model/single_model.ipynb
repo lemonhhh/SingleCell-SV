{
 "cells": [
  {
   "cell_type": "code",
   "execution_count": 1,
   "metadata": {},
   "outputs": [],
   "source": [
    "import torch\n",
    "from torch import nn\n",
    "from torch.nn import functional as F\n",
    "from torch.utils import data  # 获取迭代数据\n",
    "from torch.utils.data import Dataset, TensorDataset, DataLoader, random_split\n",
    "from torch.autograd import Variable  # 获取变量\n",
    "\n",
    "import torch.optim as optim\n",
    "from torch.optim.lr_scheduler import ReduceLROnPlateau\n",
    "\n",
    "from torchensemble import VotingClassifier, FusionClassifier\n",
    "\n",
    "import matplotlib.pyplot as plt\n",
    "import numpy as np\n",
    "import pandas as pd\n",
    "\n",
    "import datetime\n",
    "import time"
   ]
  },
  {
   "cell_type": "code",
   "execution_count": 2,
   "metadata": {},
   "outputs": [],
   "source": [
    "#setting\n",
    "batch_size = 16\n",
    "learning_rate = 0.01\n",
    "epochs = 10\n",
    "clip = 0.01\n",
    "\n",
    "no_cuda = False\n",
    "use_cuda = not no_cuda and torch.cuda.is_available()\n",
    "device = torch.device(\"cuda:0\" if use_cuda else \"cpu\")"
   ]
  },
  {
   "cell_type": "code",
   "execution_count": 3,
   "metadata": {},
   "outputs": [],
   "source": [
    "#imputation后的\n",
    "\n",
    "all_data = np.load(\"../input_data/data_imputation.npy\")\n",
    "all_label = np.load(\"../input_data/label_imputation_binary.npy\")"
   ]
  },
  {
   "cell_type": "code",
   "execution_count": 4,
   "metadata": {},
   "outputs": [],
   "source": [
    "#包装成数据集\n",
    "all_data = torch.from_numpy(all_data).to(device)\n",
    "all_label = torch.from_numpy(all_label).to(device)\n",
    "\n",
    "all_data = all_data.float()\n",
    "all_label = all_label.long()\n",
    "#pack to dataset\n",
    "dataset = TensorDataset(all_data, all_label)\n"
   ]
  },
  {
   "cell_type": "code",
   "execution_count": 5,
   "metadata": {},
   "outputs": [
    {
     "name": "stdout",
     "output_type": "stream",
     "text": [
      "train_dataset: 16444\n",
      "test_dataset: 4112\n",
      "batch_size: 16\n"
     ]
    }
   ],
   "source": [
    "#划分训练集和测试集\n",
    "\n",
    "seed = 30\n",
    "split_ratio = 0.8\n",
    "\n",
    "num_train = int(len(dataset) * split_ratio)\n",
    "num_test = len(dataset) - num_train\n",
    "\n",
    "train_dataset, test_dataset = random_split(dataset, [num_train, num_test],\n",
    "                                                             torch.Generator().manual_seed(seed))\n",
    "#Load to DataLoader\n",
    "print(\"train_dataset:\", len(train_dataset))\n",
    "print(\"test_dataset:\", len(test_dataset))\n",
    "print(\"batch_size:\", batch_size)\n",
    "train_loader = torch.utils.data.DataLoader(dataset=train_dataset, batch_size=batch_size, shuffle=True)\n",
    "test_loader = torch.utils.data.DataLoader(dataset=test_dataset, batch_size=batch_size, shuffle=False)\n",
    "\n"
   ]
  },
  {
   "cell_type": "code",
   "execution_count": null,
   "metadata": {},
   "outputs": [],
   "source": []
  },
  {
   "attachments": {},
   "cell_type": "markdown",
   "metadata": {},
   "source": [
    "## model"
   ]
  },
  {
   "cell_type": "code",
   "execution_count": 6,
   "metadata": {},
   "outputs": [],
   "source": [
    "class EagleC_CNN(nn.Module):\n",
    "    def __init__(self):\n",
    "        super().__init__()\n",
    "        #卷积\n",
    "        self.features_ = nn.Sequential(nn.Conv2d(in_channels=1, out_channels=32, kernel_size=3, stride=1, padding=1)\n",
    "                                       , nn.ReLU(inplace=True)\n",
    "                                       , nn.MaxPool2d(2)\n",
    "\n",
    "                                       , nn.Conv2d(32, 64, 3, stride=1, padding=1)\n",
    "                                       , nn.ReLU(inplace=True)\n",
    "                                       , nn.MaxPool2d(2)\n",
    "                                       )\n",
    "        #分类\n",
    "        #根据net输出的形状确定\n",
    "        self.clf_ = nn.Sequential(nn.Dropout(0.5)\n",
    "                                  , nn.Linear(64 * 5 * 5, 512)\n",
    "                                  , nn.ReLU(inplace=True)\n",
    "                                  , nn.Linear(512, 6)\n",
    "                                  , nn.Sigmoid()\n",
    "                                  )\n",
    "\n",
    "    def forward(self, x):\n",
    "        x = self.features_(x)  #用特征提取的架构提取特征\n",
    "        x = x.view(-1, 64 * 5 * 5)  #调整数据结构，拉平数据\n",
    "        output = self.clf_(x)\n",
    "        return output"
   ]
  },
  {
   "attachments": {},
   "cell_type": "markdown",
   "metadata": {},
   "source": [
    "## train"
   ]
  },
  {
   "cell_type": "code",
   "execution_count": 7,
   "metadata": {},
   "outputs": [],
   "source": [
    "def IterOnce(net,criterion,opt,x,y):\n",
    "    '''\n",
    "    对模型进行一次迭代的函数\n",
    "    net:实例化后的架构\n",
    "    criterion:损失函数\n",
    "    opt:优化器\n",
    "    x:一个batch中所有的样本\n",
    "    y:一个batch中所有样本的真实标签\n",
    "    '''\n",
    "    sigma = net.forward(x)\n",
    "    loss = criterion(sigma, y)\n",
    "    loss.backward()\n",
    "    opt.step()\n",
    "    opt.zero_grad(set_to_none=True)#节省内存\n",
    "    #预测的标签\n",
    "    yhat = torch.max(sigma, 1)[1]\n",
    "    correct = torch.sum(yhat == y)\n",
    "    return correct,loss\n",
    "\n",
    "def TestOnce(net,criterion,x,y):\n",
    "    '''\n",
    "    对一组数据进行测试并输出测试结果的函数\n",
    "    net:训练之后的架构\n",
    "    criterion：损失函数\n",
    "    x：要测试的数据的所有样本\n",
    "    y:要测试的数据的真实标签\n",
    "    '''\n",
    "    with torch.no_grad():\n",
    "        sigma = net.forward(x)\n",
    "        loss = criterion(sigma, y)\n",
    "        yhat = torch.max(sigma, 1)[1]\n",
    "        correct = torch.sum(yhat == y)\n",
    "    return correct,loss\n",
    "\n"
   ]
  },
  {
   "cell_type": "code",
   "execution_count": null,
   "metadata": {},
   "outputs": [],
   "source": [
    "#提前停止\n",
    "class EarlyStopping():\n",
    "    ''' \n",
    "    在测试集上的损失连续几个epochs不再降低的时候，提前停止\n",
    "    val_loss：测试集/验证集上这个epoch的损失\n",
    "    '''\n",
    "\n",
    "    def __init__(self,patience=5,tol=0.0005):\n",
    "        ''' \n",
    "        patience:连续patience个epochs上损失不再降低的时候，停止迭代\n",
    "        tol:阈值，当新损失与旧损失之间的差异小于tol时，认为模型不再提升\n",
    "        '''"
   ]
  }
 ],
 "metadata": {
  "kernelspec": {
   "display_name": "sv",
   "language": "python",
   "name": "python3"
  },
  "language_info": {
   "codemirror_mode": {
    "name": "ipython",
    "version": 3
   },
   "file_extension": ".py",
   "mimetype": "text/x-python",
   "name": "python",
   "nbconvert_exporter": "python",
   "pygments_lexer": "ipython3",
   "version": "3.8.13"
  },
  "orig_nbformat": 4,
  "vscode": {
   "interpreter": {
    "hash": "0c2b4c422c51196e5a13ef0382ae654019ed0bc9e75f046108fddc534a620d08"
   }
  }
 },
 "nbformat": 4,
 "nbformat_minor": 2
}
