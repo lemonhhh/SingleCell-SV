{
 "cells": [
  {
   "cell_type": "code",
   "execution_count": 17,
   "metadata": {},
   "outputs": [],
   "source": [
    "import torch\n",
    "from torch import nn\n",
    "from torch.nn import functional as F\n",
    "from torch.utils import data  # 获取迭代数据\n",
    "from torch.utils.data import Dataset, TensorDataset, DataLoader, random_split\n",
    "from torch.autograd import Variable  # 获取变量\n",
    "\n",
    "import torch.optim as optim\n",
    "from torch.optim.lr_scheduler import ReduceLROnPlateau\n",
    "\n",
    "from torchvision import models as m \n",
    "from torchinfo import summary\n",
    "\n",
    "import matplotlib.pyplot as plt\n",
    "import numpy as np\n",
    "import pandas as pd\n",
    "\n",
    "import datetime\n",
    "import time"
   ]
  },
  {
   "cell_type": "code",
   "execution_count": 18,
   "metadata": {},
   "outputs": [],
   "source": [
    "#setting\n",
    "batch_size = 64\n",
    "learning_rate = 0.01\n",
    "epochs = 10\n",
    "clip = 0.01\n",
    "\n",
    "no_cuda = False\n",
    "use_cuda = not no_cuda and torch.cuda.is_available()\n",
    "device = torch.device(\"cuda:0\" if use_cuda else \"cpu\")"
   ]
  },
  {
   "attachments": {},
   "cell_type": "markdown",
   "metadata": {},
   "source": [
    "## load data"
   ]
  },
  {
   "cell_type": "code",
   "execution_count": 19,
   "metadata": {},
   "outputs": [],
   "source": [
    "#imputation后的\n",
    "\n",
    "# all_data = np.load(\"../input_data/data_imputation.npy\")\n",
    "# all_label = np.load(\"../input_data/label_imputation_binary.npy\")\n",
    "\n",
    "all_data = np.load(\"../input_data/data.npy\")\n",
    "all_label = np.load(\"../input_data/label.npy\")\n",
    "all_label[all_label != 0] = 1"
   ]
  },
  {
   "cell_type": "code",
   "execution_count": 20,
   "metadata": {},
   "outputs": [],
   "source": [
    "#包装成数据集\n",
    "all_data = torch.from_numpy(all_data).to(device)\n",
    "all_label = torch.from_numpy(all_label).to(device)\n",
    "\n",
    "all_data = all_data.float()\n",
    "all_label = all_label.long()\n",
    "#pack to dataset\n",
    "dataset = TensorDataset(all_data, all_label)\n"
   ]
  },
  {
   "cell_type": "code",
   "execution_count": 30,
   "metadata": {},
   "outputs": [
    {
     "name": "stdout",
     "output_type": "stream",
     "text": [
      "train_dataset: 9896\n",
      "validation_dataset: 3298\n",
      "test_dataset: 3300\n",
      "batch_size: 64\n"
     ]
    }
   ],
   "source": [
    "#划分训练集和测试集\n",
    "\n",
    "seed = 30\n",
    "train_ratio = 0.6\n",
    "validation_ratio = 0.2\n",
    "test_ratio = 0.2\n",
    "\n",
    "num_train = int(len(dataset) * train_ratio)\n",
    "num_validation = int(len(dataset) * validation_ratio)\n",
    "num_test = int(len(dataset) - num_train - num_validation)\n",
    "\n",
    "train_dataset, validation_dataset, test_dataset = random_split(dataset, [num_train, num_validation,num_test],\n",
    "                                                             torch.Generator().manual_seed(seed))\n",
    "#Load to DataLoader\n",
    "print(\"train_dataset:\", len(train_dataset))\n",
    "print(\"validation_dataset:\", len(validation_dataset))\n",
    "print(\"test_dataset:\", len(test_dataset))\n",
    "print(\"batch_size:\", batch_size)\n",
    "\n",
    "#load to dataloader\n",
    "train_loader = torch.utils.data.DataLoader(dataset=train_dataset, batch_size=batch_size, shuffle=True)\n",
    "validation_loader = torch.utils.data.DataLoader(dataset=validation_dataset, batch_size=batch_size, shuffle=False)\n",
    "test_loader = torch.utils.data.DataLoader(dataset=test_dataset, batch_size=batch_size, shuffle=False)\n",
    "\n"
   ]
  },
  {
   "attachments": {},
   "cell_type": "markdown",
   "metadata": {},
   "source": [
    "## model"
   ]
  },
  {
   "attachments": {},
   "cell_type": "markdown",
   "metadata": {},
   "source": [
    "O = (I-K+2P)/S + 1"
   ]
  },
  {
   "attachments": {},
   "cell_type": "markdown",
   "metadata": {},
   "source": [
    "### EagleC"
   ]
  },
  {
   "cell_type": "code",
   "execution_count": 22,
   "metadata": {},
   "outputs": [],
   "source": [
    "class EagleC_CNN(nn.Module):\n",
    "    def __init__(self):\n",
    "        super().__init__()\n",
    "        #卷积\n",
    "        self.features_ = nn.Sequential(nn.Conv2d(in_channels=1, out_channels=32, kernel_size=3, stride=1, padding=1)\n",
    "                                       , nn.ReLU(inplace=True)\n",
    "                                       , nn.MaxPool2d(2)\n",
    "\n",
    "                                       , nn.Conv2d(32, 64, 3, stride=1, padding=1)\n",
    "                                       , nn.ReLU(inplace=True)\n",
    "                                       , nn.MaxPool2d(2)\n",
    "                                       )\n",
    "        #分类\n",
    "        #根据net输出的形状确定\n",
    "        self.clf_ = nn.Sequential(nn.Dropout(0.5)\n",
    "                                  , nn.Linear(64 * 5 * 5, 512)\n",
    "                                  , nn.ReLU(inplace=True)\n",
    "                                #   , nn.Linear(512, 6) \n",
    "                                  ,nn.Linear(512, 2) \n",
    "                                  , nn.Sigmoid()\n",
    "                                  )\n",
    "\n",
    "    def forward(self, x):\n",
    "        x = self.features_(x)  #用特征提取的架构提取特征\n",
    "        x = x.view(-1, 64 * 5 * 5)  #调整数据结构，拉平数据\n",
    "        output = self.clf_(x)\n",
    "        return output"
   ]
  },
  {
   "attachments": {},
   "cell_type": "markdown",
   "metadata": {},
   "source": [
    "### Simple net"
   ]
  },
  {
   "cell_type": "code",
   "execution_count": 23,
   "metadata": {},
   "outputs": [],
   "source": [
    "class example_net(nn.Module):\n",
    "    def __init__(self):\n",
    "        super().__init__()\n",
    "        self.conv1 = nn.Conv2d(in_channels=1,out_channels=6,kernel_size=5)\n",
    "        self.pool = nn.MaxPool2d(2,2)\n",
    "        self.conv2 = nn.Conv2d(6,16,5)\n",
    "        #这个64要好好算，觉得应该是256啊\n",
    "        self.fc1 = nn.Linear(64,20)\n",
    "        self.fc2 = nn.Linear(20,10)\n",
    "        self.fc3 = nn.Linear(10,2)\n",
    "\n",
    "    def forward(self,x):\n",
    "        x = self.pool(F.relu(self.conv1(x)))\n",
    "        x = self.pool(F.relu(self.conv2(x)))\n",
    "        x = torch.flatten(x,1)#展开\n",
    "        # x = x.view(-1,16*4*4)\n",
    "        x = F.relu(self.fc1(x))\n",
    "        x = F.relu(self.fc2(x))\n",
    "        x = self.fc3(x)\n",
    "        return x"
   ]
  },
  {
   "attachments": {},
   "cell_type": "markdown",
   "metadata": {},
   "source": [
    "### Resnet"
   ]
  },
  {
   "cell_type": "code",
   "execution_count": 24,
   "metadata": {},
   "outputs": [],
   "source": [
    "resnet18_ = m.resnet18()\n",
    "class MyResNet(nn.Module):\n",
    "    def __init__(self):\n",
    "        super().__init__()\n",
    "        self.block1 = nn.Sequential(nn.Conv2d(in_channels=1,out_channels=64,kernel_size=3,stride=1,padding=1,bias=False)\n",
    "                                    ,resnet18_.bn1 \n",
    "                                    ,resnet18_.relu \n",
    "                                     )\n",
    "        self.block2 = resnet18_.layer2 #128*11*11\n",
    "        self.block3 = resnet18_.layer3 #256*6*6\n",
    "        #自适应平均池化+线性层 \n",
    "        self.avgpool = resnet18_.avgpool #256*1*1\n",
    "        #输出的线性层\n",
    "        self.fc = nn.Linear(in_features=256,out_features=2,bias=True)\n",
    "    \n",
    "    def forward(self,x):\n",
    "        x = self.block1(x)\n",
    "        x = self.block2(x)\n",
    "        x = self.block3(x)\n",
    "        x = self.avgpool(x)\n",
    "        x = x.view(x.shape[0],256)\n",
    "        x = self.fc(x)\n",
    "        return x"
   ]
  },
  {
   "attachments": {},
   "cell_type": "markdown",
   "metadata": {},
   "source": [
    "## train"
   ]
  },
  {
   "cell_type": "code",
   "execution_count": 32,
   "metadata": {},
   "outputs": [],
   "source": [
    "def IterOnce(net,criterion,opt,x,y):\n",
    "    '''\n",
    "    对模型进行一次迭代的函数\n",
    "    net:实例化后的架构\n",
    "    criterion:损失函数\n",
    "    opt:优化器\n",
    "    x:一个batch中所有的样本\n",
    "    y:一个batch中所有样本的真实标签\n",
    "    '''\n",
    "    sigma = net.forward(x)\n",
    "    loss = criterion(sigma, y)\n",
    "    loss.backward()\n",
    "    opt.step()\n",
    "    opt.zero_grad(set_to_none=True)#节省内存\n",
    "    #预测的标签\n",
    "    yhat = torch.max(sigma, 1)[1]\n",
    "    correct = torch.sum(yhat == y)\n",
    "    return correct,loss\n",
    "\n",
    "#在测试数据上运行\n",
    "def TestOnce(net,criterion,x,y):\n",
    "    '''\n",
    "    对一组数据进行测试并输出测试结果的函数\n",
    "    net:训练之后的架构\n",
    "    criterion：损失函数\n",
    "    x：要测试的数据的所有样本\n",
    "    y:要测试的数据的真实标签\n",
    "    '''\n",
    "    with torch.no_grad():\n",
    "        sigma = net.forward(x)\n",
    "        loss = criterion(sigma, y)\n",
    "        #最大的就是预测的标签\n",
    "        yhat = torch.max(sigma, 1)[1]\n",
    "        correct = torch.sum(yhat == y)\n",
    "    return correct,loss\n",
    "\n",
    "\n",
    "#提前停止\n",
    "class EarlyStopping():\n",
    "    ''' \n",
    "    在测试集上的损失连续几个epochs不再降低的时候，提前停止\n",
    "    val_loss：测试集/验证集上这个epoch的损失\n",
    "    '''\n",
    "\n",
    "    def __init__(self,patience=5,tol=0.0005):\n",
    "        ''' \n",
    "        patience:连续patience个epochs上损失不再降低的时候，停止迭代\n",
    "        tol:阈值，当新损失与旧损失之间的差异小于tol时，认为模型不再提升\n",
    "        '''\n",
    "        self.patience = patience\n",
    "        self.tol = tol\n",
    "        self.counter = 0 #连续x次低于tol\n",
    "        self.lowest_loss = None #用于记录历史最低损失，在没有历史最低损失之前为None\n",
    "        self.early_stop = False #是否提前停止\n",
    "\n",
    "    def __call__(self,val_loss):\n",
    "        ''' \n",
    "        val_loss：外部输入的实际损失\n",
    "        '''\n",
    "        if self.lowest_loss == None:\n",
    "            self.lowest_loss = val_loss\n",
    "        elif self.lowest_loss - val_loss > self.tol:\n",
    "            self.lowest_loss = val_loss\n",
    "            self.counter = 0\n",
    "        elif self.lowest_loss - val_loss < self.tol:\n",
    "            self.counter += 1\n",
    "            print(\"\\t NOTICE: Early stopping counter {} of {}\".format(self.counter,self.patience))\n",
    "\n",
    "        \n",
    "        if self.counter >= self.patience:\n",
    "            self.early_stop = True\n",
    "            print(\"\\t NOTICE: Early stopping Activated\")\n",
    "        return self.early_stop\n",
    "\n",
    "\n",
    "#训练与测试的函数\n",
    "def fit_test(net,batchdata,testdata,criterion,opt,epochs,tol,modelname,PATH):\n",
    "    ''' \n",
    "    对模型进行训练，并在每个epoch后输出训练集和测试集上的准确率，以实现模型监控\n",
    "    \n",
    "    参数说明：\n",
    "    net:实例化后的网络\n",
    "    batchdata:使用DataLoader包装后的训练集\n",
    "    testdata:使用DataLoader包装后的测试集\n",
    "    criterion:损失函数\n",
    "    opt:优化器\n",
    "    epochs:训练的轮数\n",
    "    tol:提前停止的阈值\n",
    "    modelname:模型的名称\n",
    "    PATH:模型的保存路径\n",
    "    '''\n",
    "\n",
    "    SamplePerEpoch = batchdata.dataset.__len__()\n",
    "    allsamples = SamplePerEpoch*epochs\n",
    "    trainedsamples = 0\n",
    "    trainlosslist = []\n",
    "    testlosslist = []\n",
    "    trainacclist = []\n",
    "    testacclist = []\n",
    "\n",
    "    early_stopping = EarlyStopping(patience=5,tol=tol)\n",
    "    highestacc = None\n",
    "\n",
    "    for epoch in range(1,epochs+1):\n",
    "        #训练\n",
    "        net.train() \n",
    "        correct_train = 0\n",
    "        loss_train = 0\n",
    "        \n",
    "        for batch_idx,(x,y) in enumerate(batchdata):\n",
    "            y = y.view(x.shape[0])\n",
    "            #写的迭代一次的训练函数\n",
    "            correct,loss = IterOnce(net,criterion,opt,x,y)\n",
    "            #计算样本总量、总的correct与loss\n",
    "            trainedsamples += x.shape[0] #已经训练的样本数量\n",
    "            \n",
    "            correct_train += correct\n",
    "            loss_train += loss\n",
    "\n",
    "            #监控训练进程\n",
    "            if (batch_idx+1) % 100 == 0:\n",
    "                print(\"\\t Train Epoch: {} [{}/{} ({:.0f}%)]\\t Loss: {:.6f}\".format(epoch,trainedsamples,allsamples,100.*trainedsamples/allsamples,loss_train/trainedsamples))\n",
    "\n",
    "        TrainAccThisEpoch = float(correct_train*100)/SamplePerEpoch\n",
    "        TrainLossThisEpoch = float(loss_train)/SamplePerEpoch\n",
    "        trainlosslist.append(TrainLossThisEpoch)\n",
    "        trainacclist.append(TrainAccThisEpoch)\n",
    "\n",
    "        #测试\n",
    "        #测试模式\n",
    "        net.eval()\n",
    "\n",
    "        #测试集上的准确率\n",
    "        correct_test = 0\n",
    "        loss_test = 0\n",
    "        TestSample = testdata.dataset.__len__()\n",
    "\n",
    "        for x,y in testdata:\n",
    "            y = y.view(x.shape[0])#调整shape\n",
    "            correct,loss = TestOnce(net,criterion,x,y)\n",
    "            #计算总的correct与loss\n",
    "            correct_test += correct\n",
    "            loss_test += loss\n",
    "\n",
    "        TestAccThisEpoch = float(correct_test*100)/TestSample\n",
    "        TestLossThisEpoch = float(loss_test)/TestSample\n",
    "        testlosslist.append(TestLossThisEpoch)\n",
    "        testacclist.append(TestAccThisEpoch)     \n",
    "\n",
    "        #对于每一个epoch，打印训练和测试结果\n",
    "        print(\"\\t Train Epoch: {} \\t Train Loss: {:.6f} \\t Train Acc: {:.2f}%\".format(epoch,TrainLossThisEpoch,TrainAccThisEpoch))\n",
    "        print(\"\\t Test Epoch: {} \\t Test Loss: {:.6f} \\t Test Acc: {:.2f}%\".format(epoch,TestLossThisEpoch,TestAccThisEpoch))\n",
    "\n",
    "        #对于每一个epoch，保存测试集准确率最高的模型的权重\n",
    "        if (highestacc == None) or (TestAccThisEpoch > highestacc):\n",
    "            highestacc = TestAccThisEpoch\n",
    "            torch.save(net.state_dict(),PATH+modelname+'.pt')\n",
    "            print(\"\\t NOTICE: Model Saved\")\n",
    "\n",
    "\n",
    "        #提前停止\n",
    "        early_stop = early_stopping(TestLossThisEpoch)\n",
    "\n",
    "        if early_stop == True:\n",
    "            print(\"\\t NOTICE: Early Stopping Activated\")\n",
    "            break\n",
    "\n",
    "    print(\"【DONE】\")\n",
    "    return trainlosslist,testlosslist,trainacclist,testacclist\n",
    "\n",
    "\n",
    "\n",
    "def full_procedure(batchdata,testdata,net,epochs,modelname,PATH,lr=0.001,alpha=0.99,gamma=0,tol=10**(-5),wd=0):\n",
    "    #随机数种子\n",
    "    torch.manual_seed(1)\n",
    "    #损失函数\n",
    "    criterion = nn.CrossEntropyLoss(reduction=\"sum\")\n",
    "\n",
    "    #优化算法\n",
    "    opt = optim.RMSprop(net.parameters(),lr=lr,alpha=alpha,momentum=gamma,weight_decay=wd)\n",
    "\n",
    "    #训练\n",
    "    trainloss,testloss,trainacc,testacc = fit_test(net,batchdata,testdata,criterion,opt,epochs,tol,modelname,PATH)\n",
    "\n",
    "    return trainloss,testloss,trainacc,testacc\n",
    "\n",
    "\n",
    "#绘图函数\n",
    "def plot_train_test(trainloss,testloss,title):\n",
    "    plt.figure(figsize=(10,7))\n",
    "    plt.plot(trainloss,label=\"Train\",color=\"blue\")\n",
    "    plt.plot(testloss,label=\"Test\",color=\"red\")\n",
    "    plt.xlabel('Epochs')\n",
    "    plt.ylabel(title)\n",
    "    plt.title(title)\n",
    "    plt.legend()\n",
    "    plt.show()\n"
   ]
  },
  {
   "cell_type": "code",
   "execution_count": 34,
   "metadata": {},
   "outputs": [
    {
     "name": "stdout",
     "output_type": "stream",
     "text": [
      "CNN\n"
     ]
    },
    {
     "data": {
      "text/plain": [
       "<torch._C.Generator at 0x2b88df4c0950>"
      ]
     },
     "execution_count": 34,
     "metadata": {},
     "output_type": "execute_result"
    }
   ],
   "source": [
    "PATH = \"/share/home/mliu/sc_sv/model\"\n",
    "modelname = \"CNN\"\n",
    "print(modelname)\n",
    "torch.manual_seed(1)"
   ]
  },
  {
   "cell_type": "code",
   "execution_count": 35,
   "metadata": {},
   "outputs": [
    {
     "name": "stdout",
     "output_type": "stream",
     "text": [
      "\t Train Epoch: 1 [6400/197920 (3%)]\t Loss: 0.437068\n",
      "\t Train Epoch: 1 \t Train Loss: 0.440219 \t Train Acc: 87.17%\n",
      "\t Test Epoch: 1 \t Test Loss: 0.430909 \t Test Acc: 88.24%\n",
      "\t NOTICE: Model Saved\n",
      "\t Train Epoch: 2 [16296/197920 (8%)]\t Loss: 0.173102\n",
      "\t Train Epoch: 2 \t Train Loss: 0.438767 \t Train Acc: 87.45%\n",
      "\t Test Epoch: 2 \t Test Loss: 0.430909 \t Test Acc: 88.24%\n",
      "\t NOTICE: Early stopping counter 1 of 5\n",
      "\t Train Epoch: 3 [26192/197920 (13%)]\t Loss: 0.107280\n",
      "\t Train Epoch: 3 \t Train Loss: 0.438767 \t Train Acc: 87.45%\n",
      "\t Test Epoch: 3 \t Test Loss: 0.430909 \t Test Acc: 88.24%\n",
      "\t NOTICE: Early stopping counter 2 of 5\n",
      "\t Train Epoch: 4 [36088/197920 (18%)]\t Loss: 0.077834\n",
      "\t Train Epoch: 4 \t Train Loss: 0.438767 \t Train Acc: 87.45%\n",
      "\t Test Epoch: 4 \t Test Loss: 0.430909 \t Test Acc: 88.24%\n",
      "\t NOTICE: Early stopping counter 3 of 5\n",
      "\t Train Epoch: 5 [45984/197920 (23%)]\t Loss: 0.060649\n",
      "\t Train Epoch: 5 \t Train Loss: 0.438767 \t Train Acc: 87.45%\n",
      "\t Test Epoch: 5 \t Test Loss: 0.430909 \t Test Acc: 88.24%\n",
      "\t NOTICE: Early stopping counter 4 of 5\n",
      "\t Train Epoch: 6 [55880/197920 (28%)]\t Loss: 0.050696\n",
      "\t Train Epoch: 6 \t Train Loss: 0.438767 \t Train Acc: 87.45%\n",
      "\t Test Epoch: 6 \t Test Loss: 0.430909 \t Test Acc: 88.24%\n",
      "\t NOTICE: Early stopping counter 5 of 5\n",
      "\t NOTICE: Early stopping Activated\n",
      "\t NOTICE: Early Stopping Activated\n",
      "【DONE】\n"
     ]
    }
   ],
   "source": [
    "\n",
    "net = EagleC_CNN()\n",
    "# net = example_net()\n",
    "# net = MyResNet()\n",
    "trainloss,testloss,trainacc,testacc = full_procedure(train_loader,validation_loader,net,epochs=20,modelname=modelname,PATH=PATH)\n",
    "\n"
   ]
  },
  {
   "cell_type": "code",
   "execution_count": 36,
   "metadata": {},
   "outputs": [
    {
     "data": {
      "image/png": "[encoded data removed]",
      "text/plain": [
       "<Figure size 1000x700 with 1 Axes>"
      ]
     },
     "metadata": {},
     "output_type": "display_data"
    },
    {
     "data": {
      "image/png": "[encoded data removed]",
      "text/plain": [
       "<Figure size 1000x700 with 1 Axes>"
      ]
     },
     "metadata": {},
     "output_type": "display_data"
    }
   ],
   "source": [
    "plot_train_test(trainloss,testloss,\"loss\")\n",
    "plot_train_test(trainacc,testacc,\"Acc\")"
   ]
  },
  {
   "cell_type": "code",
   "execution_count": 43,
   "metadata": {},
   "outputs": [],
   "source": [
    "def eval(net,testloader,classnum):\n",
    "    net.eval()\n",
    "\n",
    "    correct = 0\n",
    "    total = 0\n",
    "\n",
    "    target_num = torch.zeros((1,classnum))\n",
    "    predict_num = torch.zeros((1,classnum))\n",
    "    acc_num = torch.zeros((1,classnum))\n",
    "\n",
    "    for batch_idx, (inputs, targets) in enumerate(testloader):\n",
    "\n",
    "        inputs, targets = Variable(inputs, volatile=True), Variable(targets)\n",
    "        outputs = net(inputs)\n",
    "\n",
    "        # loss is variable , if add it(+=loss) directly, there will be a bigger ang bigger graph.\n",
    "\n",
    "        _, predicted = torch.max(outputs.data, 1)\n",
    "        total += targets.size(0)\n",
    "        correct += predicted.eq(targets.data).cpu().sum()\n",
    "\n",
    "        pre_mask = torch.zeros(outputs.size()).scatter_(1, predicted.cpu().view(-1, 1), 1.)\n",
    "        predict_num += pre_mask.sum(0)\n",
    "        tar_mask = torch.zeros(outputs.size()).scatter_(1, targets.data.cpu().view(-1, 1), 1.)\n",
    "        target_num += tar_mask.sum(0)\n",
    "        acc_mask = pre_mask*tar_mask\n",
    "        acc_num += acc_mask.sum(0)\n",
    "\n",
    "    recall = acc_num/target_num\n",
    "    precision = acc_num/predict_num\n",
    "    F1 = 2*recall*precision/(recall+precision)\n",
    "    accuracy = acc_num.sum(1)/target_num.sum(1)\n",
    "\n",
    "#精度调整\n",
    "    recall = (recall.numpy()[0]*100).round(3)\n",
    "    precision = (precision.numpy()[0]*100).round(3)\n",
    "    F1 = (F1.numpy()[0]*100).round(3)\n",
    "    accuracy = (accuracy.numpy()[0]*100).round(3)\n",
    "\n",
    "# 打印格式方便复制\n",
    "    print('recall',\" \".join('%s' % id for id in recall))\n",
    "    print('precision',\" \".join('%s' % id for id in precision))\n",
    "    print('F1',\" \".join('%s' % id for id in F1))\n",
    "    print('accuracy',accuracy)"
   ]
  },
  {
   "cell_type": "code",
   "execution_count": 44,
   "metadata": {},
   "outputs": [
    {
     "name": "stderr",
     "output_type": "stream",
     "text": [
      "/tmp/ipykernel_266878/3554988854.py:13: UserWarning: volatile was removed and now has no effect. Use `with torch.no_grad():` instead.\n",
      "  inputs, targets = Variable(inputs, volatile=True), Variable(targets)\n"
     ]
    },
    {
     "name": "stdout",
     "output_type": "stream",
     "text": [
      "recall 0.0 100.0\n",
      "precision nan 88.303\n",
      "F1 nan 93.788\n",
      "accuracy 88.303\n"
     ]
    }
   ],
   "source": [
    "eval(net,test_loader,2)"
   ]
  }
 ],
 "metadata": {
  "kernelspec": {
   "display_name": "sv",
   "language": "python",
   "name": "python3"
  },
  "language_info": {
   "codemirror_mode": {
    "name": "ipython",
    "version": 3
   },
   "file_extension": ".py",
   "mimetype": "text/x-python",
   "name": "python",
   "nbconvert_exporter": "python",
   "pygments_lexer": "ipython3",
   "version": "3.8.13"
  },
  "orig_nbformat": 4,
  "vscode": {
   "interpreter": {
    "hash": "0c2b4c422c51196e5a13ef0382ae654019ed0bc9e75f046108fddc534a620d08"
   }
  }
 },
 "nbformat": 4,
 "nbformat_minor": 2
}
