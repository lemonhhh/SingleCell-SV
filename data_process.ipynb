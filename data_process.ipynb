{
 "cells": [
  {
   "cell_type": "code",
   "execution_count": 1,
   "metadata": {},
   "outputs": [],
   "source": [
    "import os\n",
    "import torch\n",
    "\n",
    "import matplotlib.pyplot as plt\n",
    "import seaborn as sns\n",
    "\n",
    "import numpy as np\n",
    "import pandas as pd\n",
    "\n",
    "import cooler\n",
    "\n",
    "#import imputation function\n",
    "from imputation.imputation import *"
   ]
  },
  {
   "cell_type": "code",
   "execution_count": 11,
   "metadata": {},
   "outputs": [],
   "source": [
    "#生成21*21的随机np array\n",
    "tmp1 = np.random.rand(21,21)\n",
    "tmp2 = np.random.rand(21,21)"
   ]
  },
  {
   "cell_type": "code",
   "execution_count": 15,
   "metadata": {},
   "outputs": [],
   "source": [
    "#创建空矩阵\n",
    "raw = np.array([])"
   ]
  },
  {
   "cell_type": "code",
   "execution_count": 14,
   "metadata": {},
   "outputs": [
    {
     "data": {
      "text/plain": [
       "(2, 21, 21)"
      ]
     },
     "execution_count": 14,
     "metadata": {},
     "output_type": "execute_result"
    }
   ],
   "source": [
    "np.stack((tmp1,tmp2),axis=0).shape"
   ]
  },
  {
   "cell_type": "code",
   "execution_count": 16,
   "metadata": {},
   "outputs": [
    {
     "ename": "ValueError",
     "evalue": "all input arrays must have the same shape",
     "output_type": "error",
     "traceback": [
      "\u001b[0;31m---------------------------------------------------------------------------\u001b[0m",
      "\u001b[0;31mValueError\u001b[0m                                Traceback (most recent call last)",
      "Cell \u001b[0;32mIn[16], line 1\u001b[0m\n\u001b[0;32m----> 1\u001b[0m np\u001b[39m.\u001b[39;49mstack((raw,tmp1),axis\u001b[39m=\u001b[39;49m\u001b[39m0\u001b[39;49m)\n",
      "File \u001b[0;32m<__array_function__ internals>:180\u001b[0m, in \u001b[0;36mstack\u001b[0;34m(*args, **kwargs)\u001b[0m\n",
      "File \u001b[0;32m~/anaconda3/envs/sv/lib/python3.8/site-packages/numpy/core/shape_base.py:426\u001b[0m, in \u001b[0;36mstack\u001b[0;34m(arrays, axis, out)\u001b[0m\n\u001b[1;32m    424\u001b[0m shapes \u001b[39m=\u001b[39m {arr\u001b[39m.\u001b[39mshape \u001b[39mfor\u001b[39;00m arr \u001b[39min\u001b[39;00m arrays}\n\u001b[1;32m    425\u001b[0m \u001b[39mif\u001b[39;00m \u001b[39mlen\u001b[39m(shapes) \u001b[39m!=\u001b[39m \u001b[39m1\u001b[39m:\n\u001b[0;32m--> 426\u001b[0m     \u001b[39mraise\u001b[39;00m \u001b[39mValueError\u001b[39;00m(\u001b[39m'\u001b[39m\u001b[39mall input arrays must have the same shape\u001b[39m\u001b[39m'\u001b[39m)\n\u001b[1;32m    428\u001b[0m result_ndim \u001b[39m=\u001b[39m arrays[\u001b[39m0\u001b[39m]\u001b[39m.\u001b[39mndim \u001b[39m+\u001b[39m \u001b[39m1\u001b[39m\n\u001b[1;32m    429\u001b[0m axis \u001b[39m=\u001b[39m normalize_axis_index(axis, result_ndim)\n",
      "\u001b[0;31mValueError\u001b[0m: all input arrays must have the same shape"
     ]
    }
   ],
   "source": [
    "\n",
    "np.stack((raw,tmp1),axis=0)"
   ]
  },
  {
   "cell_type": "code",
   "execution_count": 2,
   "metadata": {},
   "outputs": [],
   "source": [
    "#config\n",
    "resolution_rwr=100000\n",
    "logscale=False\n",
    "pad=1\n",
    "std=1\n",
    "rp=0.5 #restart probability to balance th information between global and local network structures\n",
    "tol=0.01 #是什么意思\n",
    "window_size=500000000\n",
    "step_size=10000000\n",
    "output_dist=500000000\n",
    "min_cutoff=0\n",
    "n_iters=20"
   ]
  },
  {
   "attachments": {},
   "cell_type": "markdown",
   "metadata": {},
   "source": [
    "## pos data"
   ]
  },
  {
   "cell_type": "code",
   "execution_count": 3,
   "metadata": {},
   "outputs": [
    {
     "name": "stderr",
     "output_type": "stream",
     "text": [
      "/tmp/ipykernel_73472/4095032312.py:3: SettingWithCopyWarning: \n",
      "A value is trying to be set on a copy of a slice from a DataFrame.\n",
      "Try using .loc[row_indexer,col_indexer] = value instead\n",
      "\n",
      "See the caveats in the documentation: https://pandas.pydata.org/pandas-docs/stable/user_guide/indexing.html#returning-a-view-versus-a-copy\n",
      "  k562_list['diff'] = (k562_list['breakpoint2'] - k562_list['breakpoint1'])/1000\n"
     ]
    }
   ],
   "source": [
    "sv_list = pd.read_csv(\"./ref_data/sv_list.csv\")\n",
    "k562_list = sv_list[sv_list['Cell Line']==\"K562\"]\n",
    "k562_list['diff'] = (k562_list['breakpoint2'] - k562_list['breakpoint1'])/1000"
   ]
  },
  {
   "cell_type": "code",
   "execution_count": 5,
   "metadata": {},
   "outputs": [],
   "source": [
    "#选择chrom1=chrom2的\n",
    "k562_list_intra = k562_list[k562_list['chrom1']==k562_list['chrom2']]\n",
    "k562_list_intra.index = range(len(k562_list_intra))"
   ]
  },
  {
   "cell_type": "code",
   "execution_count": 6,
   "metadata": {},
   "outputs": [],
   "source": [
    "#列出raw_data/K562/cooler/文件夹下所有的文件\n",
    "file_list = os.listdir(\"./raw_data/scihic/K562/cooler/\")\n",
    "#读取所有的mcool文件\n",
    "mcool_list = [i for i in file_list if i.endswith(\".mcool\")]\n",
    "#读取所有文件名中不包含bulk的\n"
   ]
  },
  {
   "attachments": {},
   "cell_type": "markdown",
   "metadata": {},
   "source": [
    "## neg data"
   ]
  },
  {
   "cell_type": "code",
   "execution_count": 8,
   "metadata": {},
   "outputs": [],
   "source": [
    "#列出raw_data/K562/cooler/文件夹下所有的文件\n",
    "gm12878_file_list = os.listdir(\"./raw_data/scihic/GM12878/cooler/\")\n",
    "#读取所有的mcool文件\n",
    "gm12878_mcool_list = [i for i in gm12878_file_list if i.endswith(\".mcool\")]\n"
   ]
  },
  {
   "attachments": {},
   "cell_type": "markdown",
   "metadata": {},
   "source": [
    "### 1-gm12878和cancer cell的SV对应的区域的"
   ]
  },
  {
   "cell_type": "code",
   "execution_count": 5,
   "metadata": {},
   "outputs": [],
   "source": [
    "def get_neg_submatrix_intra(clr,window,label_list,impute=False,resolution=100000\n",
    "                            ,logscale=False,pad=1,std=1,rp=0.5,tol=0.01,window_size=500000000\n",
    "                            ,step_size=10000000,output_dist=500000000,min_cutoff=0,n_iters=20):\n",
    "    '''\n",
    "    label_list都是intra的sv\n",
    "    '''\n",
    "    \n",
    "    #找到有label对应的位置\n",
    "    neg_data_list = []\n",
    "    neg_label_list = []\n",
    "    \n",
    "    #遍历每一个sv的breakpoint\n",
    "    for i in range(len(label_list)):\n",
    "        #chrom1=chrom2\n",
    "        chrom1 = label_list['chrom1'].iat[i]\n",
    "        chrom2 = label_list['chrom2'].iat[i]\n",
    "        #只取chromosome1的bin\n",
    "        bin_table = clr.bins().fetch(chrom1)[:]\n",
    "        #需要重新设置index\n",
    "        bin_table.index = range(len(bin_table))\n",
    "        \n",
    "        breakpoint1 = label_list['breakpoint1'].iat[i]\n",
    "        breakpoint2 = label_list['breakpoint2'].iat[i]\n",
    "        \n",
    "        #找到对应的bin\n",
    "        bin1 = bin_table[(bin_table['chrom']==chrom1) &(bin_table['start'] < breakpoint1 ) & (breakpoint1 < bin_table['end'] )]\n",
    "        bin2 = bin_table[(bin_table['chrom']==chrom2) &(bin_table['start'] < breakpoint2 ) & (breakpoint2 < bin_table['end'] )]\n",
    "\n",
    "        #breakpoint的坐标\n",
    "        x_c = bin1.index[0]#得到的是索引\n",
    "        y_c = bin2.index[0]\n",
    "        \n",
    "        x1 = x_c - int((window-1)/2)\n",
    "        x2 = x_c + int((window-1)/2)\n",
    "        \n",
    "        y1 = y_c - int((window-1)/2)\n",
    "        y2 = y_c + int((window-1)/2)\n",
    "        \n",
    "        \n",
    "        #如果x1或y1小于0，就取0\n",
    "        if x1 < 0:\n",
    "            x1 = 0\n",
    "            x2 = window-1\n",
    "        if y1 < 0:\n",
    "            y1 = 0\n",
    "            y2 = window-1\n",
    "        #如果x2或y2大于区域的长度，就取区域的长度\n",
    "        max_length= clr.matrix(balance=False).fetch(chrom1).shape[0]\n",
    "\n",
    "        if x2 > max_length:\n",
    "            x2 = max_length-1\n",
    "            x1 = max_length-window\n",
    "        if y2 > max_length:\n",
    "            y2 = max_length-1\n",
    "            y1 = max_length-window\n",
    "        \n",
    "    \n",
    "        if impute:\n",
    "            #impute by rwr\n",
    "            matrix = imputation_rwr(clr,chrom1,resolution,logscale,pad,std,rp,tol,window_size\n",
    "                    ,step_size,output_dist,min_cutoff,n_iters)\n",
    "            #将matrix转成array\n",
    "            matrix = np.array(matrix)\n",
    "            \n",
    "        else:\n",
    "            #raw matrix\n",
    "            matrix = clr.matrix(balance=False)[:]\n",
    "        #fetch submatrix\n",
    "        submatrix = matrix[x1:x2+1, y1:y2+1]\n",
    "\n",
    "        \n",
    "        #pos_data_list中添加submatrix\n",
    "        neg_data_list.append(submatrix)\n",
    "        neg_label_list.append(\"no\")\n",
    "\n",
    "    return neg_data_list,neg_label_list\n",
    "\n"
   ]
  },
  {
   "cell_type": "code",
   "execution_count": 14,
   "metadata": {},
   "outputs": [
    {
     "ename": "",
     "evalue": "",
     "output_type": "error",
     "traceback": [
      "\u001b[1;31m在当前单元格或上一个单元格中执行代码时 Kernel 崩溃。请查看单元格中的代码，以确定故障的可能原因。有关详细信息，请单击 <a href='https://aka.ms/vscodeJupyterKernelCrash'>此处</a>。有关更多详细信息，请查看 Jupyter <a href='command:jupyter.viewOutput'>log</a>。"
     ]
    },
    {
     "ename": "",
     "evalue": "",
     "output_type": "error",
     "traceback": [
      "\u001b[1;31mCanceled future for execute_request message before replies were done"
     ]
    }
   ],
   "source": [
    "resolution = 100000\n",
    "window = 21\n",
    "cool_dir = \"raw_data/scihic/GM12878/cooler/\"\n",
    "#读取所有的mcool文件\n",
    "neg_data_list = []\n",
    "neg_label_list = []\n",
    "\n",
    "#按细胞做处理\n",
    "for mc in gm12878_mcool_list:\n",
    "    clr = cooler.Cooler(cool_dir+mc+\"::/resolutions/\"+str(resolution))\n",
    "    \n",
    "    #取对应位置的\n",
    "    sc_neg_data_list,sc_neg_label_list = get_neg_submatrix_intra(clr,window,k562_list_intra\n",
    "                                                                ,True,resolution_rwr,\n",
    "                                                                logscale,pad,std,rp,tol,\n",
    "                                                                window_size,step_size,\n",
    "                                                                output_dist,min_cutoff,n_iters) \n",
    "    \n",
    "    neg_data_list.append(sc_neg_data_list)\n",
    "    neg_label_list.append(sc_neg_label_list)\n",
    "\n",
    "#fetch data from list    \n",
    "neg_data_list = [item for sublist in neg_data_list for item in sublist]\n",
    "neg_label_list = [item for sublist in neg_label_list for item in sublist]\n",
    "\n",
    "\n",
    "neg_data_array = np.dstack(neg_data_list)\n",
    "neg_data_array = np.rollaxis(neg_data_array,-1)\n",
    "neg_label_list = np.array(neg_label_list)\n",
    "\n",
    "#保存\n",
    "np.save(\"input_data/gm12878_data_intra_imputation_correspond.npy\",neg_data_array)\n",
    "np.save(\"input_data/gm12878_label_intra_imputation_correspond.npy\",neg_label_list)\n"
   ]
  },
  {
   "cell_type": "code",
   "execution_count": 117,
   "metadata": {},
   "outputs": [],
   "source": [
    "\n",
    "ef get_random_matrix_gm12878(num_sample,window,clr):\n",
    "    rand_data_list = []\n",
    "    rand_label_list = []\n",
    "    for i in range(num_sample):\n",
    "        whole_matrix = clr.matrix(balance=False)[:]\n",
    "        x = np.random.randint(0,whole_matrix.shape[0]-window)\n",
    "        y = np.random.randint(0,whole_matrix.shape[1]-window)\n",
    "        submatrix = whole_matrix[x:x+window,y:y+window]\n",
    "        rand_data_list.append(submatrix)\n",
    "        label = \"no\"\n",
    "        rand_label_list.append(label)\n",
    "    return rand_data_list,rand_label_list\n"
   ]
  },
  {
   "cell_type": "code",
   "execution_count": 118,
   "metadata": {},
   "outputs": [],
   "source": [
    "cool_dir = \"raw_data/scihic/GM12878/cooler/\"\n",
    "resolution = 200000\n",
    "window = 21\n",
    "num = 5\n",
    "\n",
    "neg12878_data_list = []\n",
    "neg12878_label_list = []\n",
    "\n",
    "for mc in gm12878_mcool_list:\n",
    "    clr = cooler.Cooler(cool_dir+mc+\"::/resolutions/\"+str(resolution))\n",
    "    sc_neg_data_list,sc_neg_label_list = get_random_matrix_gm12878(num,window,clr)\n",
    "    neg12878_data_list.append(sc_neg_data_list)\n",
    "    neg12878_label_list.append(sc_neg_label_list)\n",
    "\n",
    "neg12878_data_list = [item for sublist in neg12878_data_list for item in sublist]\n",
    "neg12878_label_list = [item for sublist in neg12878_label_list for item in sublist]\n",
    "neg12878_data_list = np.array(neg12878_data_list)\n",
    "neg12878_label_list = np.array(neg12878_label_list)\n",
    "#数据类型\n",
    "neg12878_data_list = neg12878_data_list.astype(np.float32)\n",
    "#保存\n",
    "np.save(\"input_data/neg12878_data_list.npy\",neg12878_data_list)\n",
    "np.save(\"input_data/neg12878_label_list.npy\",neg12878_label_list)\n"
   ]
  },
  {
   "cell_type": "code",
   "execution_count": 127,
   "metadata": {},
   "outputs": [],
   "source": [
    "#for K562\n",
    "def determine_label(tmp_bin_x,tmp_bin_y,k562_list):\n",
    "    \n",
    "    label = \"no\"\n",
    "    for i in range(len(tmp_bin_x)):\n",
    "        chr1 = tmp_bin_x['chrom'].iat[i]\n",
    "        start1 = tmp_bin_x['start'].iat[i]\n",
    "        end1 = tmp_bin_x['end'].iat[i]\n",
    "        for j in range(len(tmp_bin_y)):\n",
    "            chr2 = tmp_bin_y['chrom'].iat[j]\n",
    "            start2 = tmp_bin_y['start'].iat[j]\n",
    "            end2 = tmp_bin_y['end'].iat[j]\n",
    "\n",
    "            for m in range(len(k562_list)):\n",
    "                chrom1 = k562_list['chrom1'].iat[m]\n",
    "                chrom2 = k562_list['chrom2'].iat[m]\n",
    "                breakpoint1 = k562_list['breakpoint1'].iat[m]\n",
    "                breakpoint2 = k562_list['breakpoint2'].iat[m]\n",
    "                string = k562_list['strands'].iat[m]\n",
    "                if (chr1 == chrom1 and chr2==chrom2 and (breakpoint1 > start1 and breakpoint1<end1) and (breakpoint2 > start2 and breakpoint2<end2) ):\n",
    "                    label = string\n",
    "                    break\n",
    "                elif (chr1 == chrom2 and chr2==chrom1 and (breakpoint1 > start2 and breakpoint1<end2) and (breakpoint2 > start1 and breakpoint2<end1)):\n",
    "                    label = string\n",
    "                    break\n",
    "            if label != \"no\":\n",
    "                break\n",
    "        if label != \"no\":\n",
    "            break\n",
    "    return label\n",
    "\n",
    "#从K562中获得\n",
    "#很少，但吧\n",
    "neg_data_list = []\n",
    "neg_label_list = []\n",
    "\n",
    "\n",
    "sample_x1=np.random.randint(7000, size=(50))\n",
    "sample_y1=np.random.randint(7000, size=(50))\n",
    "sample_x2 = sample_x1 + window\n",
    "sample_y2 = sample_y1 + window\n",
    "\n",
    "for x,y in zip(sample_x1,sample_y1):\n",
    "    submatrix = matrix1[x:x+window, y:y+window]\n",
    "    nozeron = np.count_nonzero(submatrix)\n",
    "    tmp_bin_x = bin_table.loc[x:x+window,:]\n",
    "    tmp_bin_y = bin_table.loc[y:y+window,:]\n",
    "    #得到标签\n",
    "    label = determine_label(tmp_bin_x,tmp_bin_y,k562_list)\n",
    "\n",
    "    neg_data_list.append(submatrix)\n",
    "    neg_label_list.append(label)        "
   ]
  },
  {
   "cell_type": "code",
   "execution_count": 126,
   "metadata": {},
   "outputs": [],
   "source": [
    "\n"
   ]
  },
  {
   "attachments": {},
   "cell_type": "markdown",
   "metadata": {},
   "source": [
    "### 2-gm12878 loop附近的"
   ]
  },
  {
   "cell_type": "code",
   "execution_count": 133,
   "metadata": {},
   "outputs": [],
   "source": [
    "#读loop的数据\n",
    "loop_path = \"/share/home/mliu/sc_sv/raw_data/GM12878/GSE63525_GM12878_primary+replicate_HiCCUPS_looplist.txt.gz\"\n",
    "gm12878_loop_list = pd.read_csv(loop_path,sep=\"\\t\",compression='gzip')[['chr1','x1','x2','chr2','y1','y2']]\n"
   ]
  },
  {
   "cell_type": "code",
   "execution_count": 138,
   "metadata": {},
   "outputs": [],
   "source": [
    "gm12878_loop_list['chr1'] = gm12878_loop_list['chr1'].apply(lambda x: \"chr\"+str(x))\n",
    "gm12878_loop_list['chr2'] = gm12878_loop_list['chr2'].apply(lambda x: \"chr\"+str(x))"
   ]
  },
  {
   "cell_type": "code",
   "execution_count": 174,
   "metadata": {},
   "outputs": [],
   "source": [
    "\n",
    "#随机选择其中的n个位点，取\n",
    "def get_neg_loop_matrix(clr,window,loop_list,n_sample,impute,resolution_rwr,\n",
    "                        logscale,pad,std,rp,tol,\n",
    "                        window_size,step_size,\n",
    "                        output_dist,min_cutoff,n_iters):\n",
    "    \n",
    "    neg_data_list = []\n",
    "    neg_label_list = []\n",
    "    #在loop_list中随机取n行\n",
    "    sample_loop_list = loop_list.sample(n=n_sample)\n",
    "    for i in range(len(sample_loop_list)):\n",
    "        chrom1 = sample_loop_list['chr1'].iat[i]\n",
    "        chrom2 = sample_loop_list['chr2'].iat[i]\n",
    "\n",
    "        bin_table = clr.bins().fetch(chrom1)[:]\n",
    "        bin_table.index = range(len(bin_table))\n",
    "\n",
    "        pos1 = (sample_loop_list['x1'].iat[i] + sample_loop_list['x2'].iat[i])/2\n",
    "        pos2 = (sample_loop_list['y1'].iat[i] + sample_loop_list['y2'].iat[i])/2\n",
    "\n",
    "        #找到对应的bin\n",
    "\n",
    "        bin1 = bin_table[(bin_table['start']<=pos1) & (bin_table['end']>=pos1)]\n",
    "        bin2 = bin_table[(bin_table['start']<=pos2) & (bin_table['end']>=pos2)]\n",
    "\n",
    "        #index用来fetch矩阵\n",
    "        x_c = bin1.index[0]\n",
    "        y_c = bin2.index[0]\n",
    "\n",
    "        x1 = x_c - int((window-1)/2)\n",
    "        x2 = x_c + int((window-1)/2)\n",
    "\n",
    "        \n",
    "        y1 = y_c - int((window-1)/2)\n",
    "        y2 = y_c + int((window-1)/2)\n",
    "\n",
    "        if x1 < 0:\n",
    "            x1 = 0\n",
    "            x2 = window-1\n",
    "        if y1 < 0:\n",
    "            y1 = 0\n",
    "            y2 = window-1\n",
    "        #如果x2或y2大于区域的长度，就取区域的长度\n",
    "        max_length= clr.matrix(balance=False).fetch(chrom1).shape[0]\n",
    "\n",
    "        if x2 > max_length:\n",
    "            x2 = max_length-1\n",
    "            x1 = max_length-window\n",
    "        if y2 > max_length:\n",
    "            y2 = max_length-1\n",
    "            y1 = max_length-window\n",
    "        \n",
    "        if impute:\n",
    "            #impute by rwr\n",
    "            matrix = imputation_rwr(clr,chrom1,resolution,logscale,pad,std,rp,tol,window_size\n",
    "                    ,step_size,output_dist,min_cutoff,n_iters)\n",
    "            #将matrix转成array\n",
    "            matrix = np.array(matrix)\n",
    "            \n",
    "        else:\n",
    "            #raw matrix\n",
    "            matrix = clr.matrix(balance=False)[:]\n",
    "        #fetch submatrix\n",
    "        submatrix = matrix[x1:x2+1, y1:y2+1]\n",
    "\n",
    "        if(submatrix.shape[0]==window):\n",
    "            neg_data_list.append(submatrix)\n",
    "            neg_label_list.append(\"no\")\n",
    "    \n",
    "    return neg_data_list,neg_label_list\n",
    "\n"
   ]
  },
  {
   "cell_type": "code",
   "execution_count": 175,
   "metadata": {},
   "outputs": [
    {
     "ename": "",
     "evalue": "",
     "output_type": "error",
     "traceback": [
      "\u001b[1;31m在当前单元格或上一个单元格中执行代码时 Kernel 崩溃。请查看单元格中的代码，以确定故障的可能原因。有关详细信息，请单击 <a href='https://aka.ms/vscodeJupyterKernelCrash'>此处</a>。有关更多详细信息，请查看 Jupyter <a href='command:jupyter.viewOutput'>log</a>。"
     ]
    },
    {
     "ename": "",
     "evalue": "",
     "output_type": "error",
     "traceback": [
      "\u001b[1;31mCanceled future for execute_request message before replies were done"
     ]
    }
   ],
   "source": [
    "resolution = 100000\n",
    "window = 21\n",
    "cool_dir = \"raw_data/scihic/GM12878/cooler/\"\n",
    "n_sample = 10\n",
    "#读取所有的mcool文件\n",
    "neg_data_list = []\n",
    "neg_label_list = []\n",
    "\n",
    "#按细胞做处理\n",
    "for mc in gm12878_mcool_list:\n",
    "    clr = cooler.Cooler(cool_dir+mc+\"::/resolutions/\"+str(resolution))\n",
    "    \n",
    "    #取对应位置的\n",
    "    sc_neg_data_list,sc_neg_label_list = get_neg_loop_matrix(clr,window,gm12878_loop_list,\n",
    "                                                                n_sample\n",
    "                                                                ,True\n",
    "                                                                ,resolution_rwr,\n",
    "                                                                logscale,pad,std,rp,tol,\n",
    "                                                                window_size,step_size,\n",
    "                                                                output_dist,min_cutoff,n_iters) \n",
    "    \n",
    "    neg_data_list.append(sc_neg_data_list)\n",
    "    neg_label_list.append(sc_neg_label_list)\n",
    "\n",
    "#fetch data from list    \n",
    "neg_data_list = [item for sublist in neg_data_list for item in sublist]\n",
    "neg_label_list = [item for sublist in neg_label_list for item in sublist]\n",
    "\n",
    "#FIXME:here\n",
    "neg_data_array = np.dstack(neg_data_list)\n",
    "neg_data_array = np.rollaxis(neg_data_array,-1)\n",
    "neg_label_list = np.array(neg_label_list)\n",
    "\n",
    "#保存\n",
    "np.save(\"input_data/gm12878_data_intra_imputation_loop.npy\",neg_data_array)\n",
    "np.save(\"input_data/gm12878_label_intra_imputation_loop.npy\",neg_label_list)\n"
   ]
  },
  {
   "cell_type": "code",
   "execution_count": 172,
   "metadata": {},
   "outputs": [
    {
     "ename": "ValueError",
     "evalue": "all the input array dimensions for the concatenation axis must match exactly, but along dimension 1, the array at index 0 has size 21 and the array at index 819 has size 20",
     "output_type": "error",
     "traceback": [
      "\u001b[0;31m---------------------------------------------------------------------------\u001b[0m",
      "\u001b[0;31mValueError\u001b[0m                                Traceback (most recent call last)",
      "Cell \u001b[0;32mIn[172], line 3\u001b[0m\n\u001b[1;32m      1\u001b[0m \u001b[39m#去掉neg_data_list中shape为20*20的元素\u001b[39;00m\n\u001b[1;32m      2\u001b[0m neg_data_list_new \u001b[39m=\u001b[39m [item \u001b[39mfor\u001b[39;00m item \u001b[39min\u001b[39;00m neg_data_list \u001b[39mif\u001b[39;00m item\u001b[39m.\u001b[39mshape[\u001b[39m0\u001b[39m]\u001b[39m==\u001b[39m\u001b[39m21\u001b[39m]\n\u001b[0;32m----> 3\u001b[0m neg_data_array \u001b[39m=\u001b[39m np\u001b[39m.\u001b[39;49mdstack(neg_data_list_new)\n\u001b[1;32m      4\u001b[0m neg_data_array \u001b[39m=\u001b[39m np\u001b[39m.\u001b[39mrollaxis(neg_data_array,\u001b[39m-\u001b[39m\u001b[39m1\u001b[39m)\n\u001b[1;32m      5\u001b[0m neg_label_list \u001b[39m=\u001b[39m np\u001b[39m.\u001b[39marray(neg_label_list)\n",
      "File \u001b[0;32m<__array_function__ internals>:180\u001b[0m, in \u001b[0;36mdstack\u001b[0;34m(*args, **kwargs)\u001b[0m\n",
      "File \u001b[0;32m~/anaconda3/envs/sv/lib/python3.8/site-packages/numpy/lib/shape_base.py:723\u001b[0m, in \u001b[0;36mdstack\u001b[0;34m(tup)\u001b[0m\n\u001b[1;32m    721\u001b[0m \u001b[39mif\u001b[39;00m \u001b[39mnot\u001b[39;00m \u001b[39misinstance\u001b[39m(arrs, \u001b[39mlist\u001b[39m):\n\u001b[1;32m    722\u001b[0m     arrs \u001b[39m=\u001b[39m [arrs]\n\u001b[0;32m--> 723\u001b[0m \u001b[39mreturn\u001b[39;00m _nx\u001b[39m.\u001b[39;49mconcatenate(arrs, \u001b[39m2\u001b[39;49m)\n",
      "File \u001b[0;32m<__array_function__ internals>:180\u001b[0m, in \u001b[0;36mconcatenate\u001b[0;34m(*args, **kwargs)\u001b[0m\n",
      "\u001b[0;31mValueError\u001b[0m: all the input array dimensions for the concatenation axis must match exactly, but along dimension 1, the array at index 0 has size 21 and the array at index 819 has size 20"
     ]
    }
   ],
   "source": [
    "#去掉neg_data_list中shape为20*20的元素\n",
    "neg_data_list_new = [item for item in neg_data_list if item.shape[0]==21]\n",
    "neg_data_array = np.dstack(neg_data_list_new)\n",
    "neg_data_array = np.rollaxis(neg_data_array,-1)\n",
    "neg_label_list = np.array(neg_label_list)"
   ]
  },
  {
   "cell_type": "code",
   "execution_count": 2,
   "metadata": {},
   "outputs": [],
   "source": [
    "import numpy as np\n",
    "test = np.load(\"input_data/gm12878_data_intra_imputation_loop.npy\")"
   ]
  },
  {
   "cell_type": "code",
   "execution_count": 4,
   "metadata": {},
   "outputs": [
    {
     "data": {
      "text/plain": [
       "(3423, 21, 21)"
      ]
     },
     "execution_count": 4,
     "metadata": {},
     "output_type": "execute_result"
    }
   ],
   "source": [
    "test.shape"
   ]
  },
  {
   "attachments": {},
   "cell_type": "markdown",
   "metadata": {},
   "source": [
    "## 整合数据"
   ]
  },
  {
   "cell_type": "code",
   "execution_count": 13,
   "metadata": {},
   "outputs": [],
   "source": [
    "label_dic = {'++':1,'+-':2,'-+':3,'--':4,'loop':-1,'cor':-2,'cancer_no':-3}"
   ]
  },
  {
   "cell_type": "code",
   "execution_count": 35,
   "metadata": {},
   "outputs": [],
   "source": [
    "#old version: window = 21\n",
    "# pos_data_no_impute = np.load(\"input_data/pos_data_intra.npy\")\n",
    "# pos_label_no_impute = np.load(\"input_data/pos_label_intra.npy\")\n",
    "\n",
    "# neg_data_no_impute_cor = np.load(\"input_data/gm12878_data_intra_correspond_noimpute.npy\")\n",
    "# neg_label_no_impute_cor = np.load(\"input_data/gm12878_label_intra_correspond_noimpute.npy\")\n",
    "\n",
    "# neg_data_no_impute_loop = np.load(\"input_data/gm12878_data_intra_loop_noimpute.npy\")\n",
    "# neg_label_no_impute_loop = np.load(\"input_data/gm12878_label_intra_loop_noimpute.npy\")\n",
    "\n",
    "\n",
    "# pos_data_impute = np.load(\"input_data/pos_data_intra_imputation.npy\")\n",
    "# pos_label_impute = np.load(\"input_data/pos_label_intra_imputation.npy\")\n",
    "\n",
    "# neg_data_impute_cor = np.load(\"input_data/gm12878_data_intra_imputation_correspond.npy\")\n",
    "# neg_label_impute_cor = np.load(\"input_data/gm12878_label_intra_imputation_correspond.npy\")\n",
    "\n",
    "# neg_data_impute_loop = np.load(\"input_data/gm12878_data_intra_imputation_loop.npy\")\n",
    "# neg_label_impute_loop = np.load(\"input_data/gm12878_label_intra_imputation_loop.npy\")"
   ]
  },
  {
   "cell_type": "code",
   "execution_count": 24,
   "metadata": {},
   "outputs": [
    {
     "name": "stdout",
     "output_type": "stream",
     "text": [
      "-----raw------\n",
      "pos_data_w21_noimpute.shape: (11988, 21, 21)\n",
      "pos_label_w21_noimpute.shape: (11988,)\n",
      "neg_data_w21_cor_noimpute.shape: (5270, 21, 21)\n",
      "neg_label_w21_cor_noimpute.shape: (5270,)\n",
      "neg_data_w21_loop_noimpute.shape: (6269, 21, 21)\n",
      "neg_label_w21_loop_noimpute.shape: (6269,)\n",
      "neg_data_w21_cancer_noimpute.shape: (14291, 21, 21)\n",
      "neg_label_w21_cancer_noimpute.shape: (14291,)\n",
      "---merge neg---\n",
      "neg_data_w21_noimpute.shape: (25830, 21, 21)\n",
      "neg_label_w21_noimpute.shape: (25830,)\n",
      "---merge all---\n",
      "data_w21_noimpute.shape: (37818, 1, 21, 21)\n",
      "label_w21_noimpute.shape: (37818,)\n",
      "---label distribution---\n",
      "pos_label_w21_noimpute: (array(['++', '+-', '-+', '--', 'cancer_no', 'cor', 'loop'], dtype='<U9'), array([  666,  4662,  5328,  1332, 14291,  5270,  6269]))\n"
     ]
    }
   ],
   "source": [
    "#raw\n",
    "print(\"-----raw------\")\n",
    "window=21\n",
    "pos_data_w21_noimpute = np.load(\"input_data/pos_data_w21_noimpute.npy\")\n",
    "pos_label_w21_noimpute = np.load(\"input_data/pos_label_w21_noimpute.npy\")\n",
    "print(\"pos_data_w21_noimpute.shape:\",pos_data_w21_noimpute.shape)\n",
    "print(\"pos_label_w21_noimpute.shape:\",pos_label_w21_noimpute.shape)\n",
    "neg_data_w21_cor_noimpute = np.load(\"input_data/neg_data_cor_w21_noimpute.npy\") \n",
    "neg_label_w21_cor_noimpute = np.load(\"input_data/neg_label_cor_w21_noimpute.npy\")\n",
    "print(\"neg_data_w21_cor_noimpute.shape:\",neg_data_w21_cor_noimpute.shape)\n",
    "print(\"neg_label_w21_cor_noimpute.shape:\",neg_label_w21_cor_noimpute.shape)\n",
    "neg_data_w21_loop_noimpute = np.load(\"input_data/neg_data_loop_w21_noimpute.npy\")\n",
    "neg_label_w21_loop_noimpute = np.load(\"input_data/neg_label_loop_w21_noimpute.npy\")\n",
    "print(\"neg_data_w21_loop_noimpute.shape:\",neg_data_w21_loop_noimpute.shape)\n",
    "print(\"neg_label_w21_loop_noimpute.shape:\",neg_label_w21_loop_noimpute.shape)\n",
    "neg_data_w21_cancer_noimpute = np.load(\"input_data/neg_data_cancer_w21_noimpute.npy\")\n",
    "neg_label_w21_cancer_noimpute = np.load(\"input_data/neg_label_cancer_w21_noimpute.npy\")\n",
    "print(\"neg_data_w21_cancer_noimpute.shape:\",neg_data_w21_cancer_noimpute.shape)\n",
    "print(\"neg_label_w21_cancer_noimpute.shape:\",neg_label_w21_cancer_noimpute.shape)\n",
    "#合并neg的数据\n",
    "neg_data_w21_noimpute = np.concatenate((neg_data_w21_cor_noimpute,neg_data_w21_loop_noimpute,neg_data_w21_cancer_noimpute),axis=0)\n",
    "neg_label_w21_noimpute = np.concatenate((neg_label_w21_cor_noimpute,neg_label_w21_loop_noimpute,neg_label_w21_cancer_noimpute),axis=0)\n",
    "print(\"---merge neg---\")\n",
    "print(\"neg_data_w21_noimpute.shape:\",neg_data_w21_noimpute.shape)\n",
    "print(\"neg_label_w21_noimpute.shape:\",neg_label_w21_noimpute.shape)\n",
    "#合并所有数据\n",
    "data_w21_noimpute = np.concatenate((pos_data_w21_noimpute,neg_data_w21_noimpute),axis=0)\n",
    "label_w21_noimpute = np.concatenate((pos_label_w21_noimpute,neg_label_w21_noimpute),axis=0)\n",
    "print(\"---merge all---\")\n",
    "data_w21_noimpute = data_w21_noimpute.reshape(data_w21_noimpute.shape[0],1,window,window)\n",
    "print(\"data_w21_noimpute.shape:\",data_w21_noimpute.shape)\n",
    "print(\"label_w21_noimpute.shape:\",label_w21_noimpute.shape)\n",
    "#标签分布\n",
    "print(\"---label distribution---\")\n",
    "print(\"pos_label_w21_noimpute:\",np.unique(label_w21_noimpute,return_counts=True))\n",
    "#标签转换\n",
    "label_w21_noimpute_index = [label_dic[i] for i in label_w21_noimpute]\n",
    "\n",
    "#保存数据\n",
    "np.save('input_data/data_w21_noimpute.npy',data_w21_noimpute)   \n",
    "np.save('input_data/label_w21_noimpute.npy',label_w21_noimpute_index)\n"
   ]
  },
  {
   "cell_type": "code",
   "execution_count": 25,
   "metadata": {},
   "outputs": [
    {
     "name": "stdout",
     "output_type": "stream",
     "text": [
      "-----raw------\n",
      "pos_data_w28_noimpute.shape: (11988, 28, 28)\n",
      "pos_label_w28_noimpute.shape: (11988,)\n",
      "neg_data_w28_cor_noimpute.shape: (5876, 28, 28)\n",
      "neg_label_w28_cor_noimpute.shape: (5876,)\n",
      "neg_data_w28_loop_noimpute.shape: (6917, 28, 28)\n",
      "neg_label_w28_loop_noimpute.shape: (6917,)\n",
      "neg_data_w28_cancer_noimpute.shape: (16427, 28, 28)\n",
      "neg_label_w28_cancer_noimpute.shape: (16427,)\n",
      "---merge neg---\n",
      "neg_data_w28_noimpute.shape: (29220, 28, 28)\n",
      "neg_label_w28_noimpute.shape: (29220,)\n",
      "---merge all---\n",
      "data_w28_noimpute.shape: (41208, 1, 28, 28)\n",
      "label_w28_noimpute.shape: (41208,)\n",
      "---label distribution---\n",
      "pos_label_w28_noimpute: (array(['++', '+-', '-+', '--', 'cancer_no', 'cor', 'loop'], dtype='<U9'), array([  666,  4662,  5328,  1332, 16427,  5876,  6917]))\n"
     ]
    }
   ],
   "source": [
    "#raw\n",
    "print(\"-----raw------\")\n",
    "window=28\n",
    "pos_data_w28_noimpute = np.load(\"input_data/pos_data_w28_noimpute.npy\")\n",
    "pos_label_w28_noimpute = np.load(\"input_data/pos_label_w28_noimpute.npy\")\n",
    "print(\"pos_data_w28_noimpute.shape:\",pos_data_w28_noimpute.shape)\n",
    "print(\"pos_label_w28_noimpute.shape:\",pos_label_w28_noimpute.shape)\n",
    "neg_data_w28_cor_noimpute = np.load(\"input_data/neg_data_cor_w28_noimpute.npy\") \n",
    "neg_label_w28_cor_noimpute = np.load(\"input_data/neg_label_cor_w28_noimpute.npy\")\n",
    "print(\"neg_data_w28_cor_noimpute.shape:\",neg_data_w28_cor_noimpute.shape)\n",
    "print(\"neg_label_w28_cor_noimpute.shape:\",neg_label_w28_cor_noimpute.shape)\n",
    "neg_data_w28_loop_noimpute = np.load(\"input_data/neg_data_loop_w28_noimpute.npy\")\n",
    "neg_label_w28_loop_noimpute = np.load(\"input_data/neg_label_loop_w28_noimpute.npy\")\n",
    "print(\"neg_data_w28_loop_noimpute.shape:\",neg_data_w28_loop_noimpute.shape)\n",
    "print(\"neg_label_w28_loop_noimpute.shape:\",neg_label_w28_loop_noimpute.shape)\n",
    "neg_data_w28_cancer_noimpute = np.load(\"input_data/neg_data_cancer_w28_noimpute.npy\")\n",
    "neg_label_w28_cancer_noimpute = np.load(\"input_data/neg_label_cancer_w28_noimpute.npy\")\n",
    "print(\"neg_data_w28_cancer_noimpute.shape:\",neg_data_w28_cancer_noimpute.shape)\n",
    "print(\"neg_label_w28_cancer_noimpute.shape:\",neg_label_w28_cancer_noimpute.shape)\n",
    "#合并neg的数据\n",
    "neg_data_w28_noimpute = np.concatenate((neg_data_w28_cor_noimpute,neg_data_w28_loop_noimpute,neg_data_w28_cancer_noimpute),axis=0)\n",
    "neg_label_w28_noimpute = np.concatenate((neg_label_w28_cor_noimpute,neg_label_w28_loop_noimpute,neg_label_w28_cancer_noimpute),axis=0)\n",
    "print(\"---merge neg---\")\n",
    "print(\"neg_data_w28_noimpute.shape:\",neg_data_w28_noimpute.shape)\n",
    "print(\"neg_label_w28_noimpute.shape:\",neg_label_w28_noimpute.shape)\n",
    "#合并所有数据\n",
    "data_w28_noimpute = np.concatenate((pos_data_w28_noimpute,neg_data_w28_noimpute),axis=0)\n",
    "label_w28_noimpute = np.concatenate((pos_label_w28_noimpute,neg_label_w28_noimpute),axis=0)\n",
    "print(\"---merge all---\")\n",
    "data_w28_noimpute = data_w28_noimpute.reshape(data_w28_noimpute.shape[0],1,window,window)\n",
    "print(\"data_w28_noimpute.shape:\",data_w28_noimpute.shape)\n",
    "print(\"label_w28_noimpute.shape:\",label_w28_noimpute.shape)\n",
    "#标签分布\n",
    "print(\"---label distribution---\")\n",
    "print(\"pos_label_w28_noimpute:\",np.unique(label_w28_noimpute,return_counts=True))\n",
    "#标签转换\n",
    "label_w28_noimpute_index = [label_dic[i] for i in label_w28_noimpute]\n",
    "#保存数据\n",
    "np.save('input_data/data_w28_noimpute.npy',data_w28_noimpute)   \n",
    "np.save('input_data/label_w28_noimpute.npy',label_w28_noimpute_index)\n"
   ]
  },
  {
   "cell_type": "code",
   "execution_count": 28,
   "metadata": {},
   "outputs": [
    {
     "name": "stdout",
     "output_type": "stream",
     "text": [
      "-----raw------\n",
      "pos_data_w32_noimpute.shape: (11988, 32, 32)\n",
      "pos_label_w32_noimpute.shape: (11988,)\n",
      "neg_data_w32_cor_noimpute.shape: (6290, 32, 32)\n",
      "neg_label_w32_cor_noimpute.shape: (6290,)\n",
      "neg_data_w32_loop_noimpute.shape: (7362, 32, 32)\n",
      "neg_label_w32_loop_noimpute.shape: (7362,)\n",
      "neg_data_w32_cancer_noimpute.shape: (17594, 32, 32)\n",
      "neg_label_w32_cancer_noimpute.shape: (17594,)\n",
      "---merge neg---\n",
      "neg_data_w32_noimpute.shape: (31246, 32, 32)\n",
      "neg_label_w32_noimpute.shape: (31246,)\n",
      "---merge all---\n",
      "data_w32_noimpute.shape: (43234, 32, 32)\n",
      "label_w32_noimpute.shape: (43234,)\n",
      "---label distribution---\n",
      "pos_label_w32_noimpute: (array(['++', '+-', '-+', '--', 'cancer_no', 'cor', 'loop'], dtype='<U9'), array([  666,  4662,  5328,  1332, 17594,  6290,  7362]))\n"
     ]
    }
   ],
   "source": [
    "#raw\n",
    "print(\"-----raw------\")\n",
    "window=32\n",
    "pos_data_w32_noimpute = np.load(\"input_data/pos_data_w32_noimpute.npy\")\n",
    "pos_label_w32_noimpute = np.load(\"input_data/pos_label_w32_noimpute.npy\")\n",
    "print(\"pos_data_w32_noimpute.shape:\",pos_data_w32_noimpute.shape)\n",
    "print(\"pos_label_w32_noimpute.shape:\",pos_label_w32_noimpute.shape)\n",
    "neg_data_w32_cor_noimpute = np.load(\"input_data/neg_data_cor_w32_noimpute.npy\") \n",
    "neg_label_w32_cor_noimpute = np.load(\"input_data/neg_label_cor_w32_noimpute.npy\")\n",
    "print(\"neg_data_w32_cor_noimpute.shape:\",neg_data_w32_cor_noimpute.shape)\n",
    "print(\"neg_label_w32_cor_noimpute.shape:\",neg_label_w32_cor_noimpute.shape)\n",
    "neg_data_w32_loop_noimpute = np.load(\"input_data/neg_data_loop_w32_noimpute.npy\")\n",
    "neg_label_w32_loop_noimpute = np.load(\"input_data/neg_label_loop_w32_noimpute.npy\")\n",
    "print(\"neg_data_w32_loop_noimpute.shape:\",neg_data_w32_loop_noimpute.shape)\n",
    "print(\"neg_label_w32_loop_noimpute.shape:\",neg_label_w32_loop_noimpute.shape)\n",
    "neg_data_w32_cancer_noimpute = np.load(\"input_data/neg_data_cancer_w32_noimpute.npy\")\n",
    "neg_label_w32_cancer_noimpute = np.load(\"input_data/neg_label_cancer_w32_noimpute.npy\")\n",
    "print(\"neg_data_w32_cancer_noimpute.shape:\",neg_data_w32_cancer_noimpute.shape)\n",
    "print(\"neg_label_w32_cancer_noimpute.shape:\",neg_label_w32_cancer_noimpute.shape)\n",
    "#合并neg的数据\n",
    "neg_data_w32_noimpute = np.concatenate((neg_data_w32_cor_noimpute,neg_data_w32_loop_noimpute,neg_data_w32_cancer_noimpute),axis=0)\n",
    "neg_label_w32_noimpute = np.concatenate((neg_label_w32_cor_noimpute,neg_label_w32_loop_noimpute,neg_label_w32_cancer_noimpute),axis=0)\n",
    "print(\"---merge neg---\")\n",
    "\n",
    "print(\"neg_data_w32_noimpute.shape:\",neg_data_w32_noimpute.shape)\n",
    "print(\"neg_label_w32_noimpute.shape:\",neg_label_w32_noimpute.shape)\n",
    "#合并所有数据\n",
    "data_w32_noimpute = np.concatenate((pos_data_w32_noimpute,neg_data_w32_noimpute),axis=0)\n",
    "label_w32_noimpute = np.concatenate((pos_label_w32_noimpute,neg_label_w32_noimpute),axis=0)\n",
    "print(\"---merge all---\")\n",
    "neg_data_w32_noimpute = neg_data_w32_noimpute.reshape(neg_data_w32_noimpute.shape[0],1,window,window)\n",
    "print(\"data_w32_noimpute.shape:\",data_w32_noimpute.shape)\n",
    "print(\"label_w32_noimpute.shape:\",label_w32_noimpute.shape)\n",
    "#标签分布\n",
    "print(\"---label distribution---\")\n",
    "print(\"pos_label_w32_noimpute:\",np.unique(label_w32_noimpute,return_counts=True))\n",
    "#标签转换\n",
    "label_w32_noimpute_index = [label_dic[i] for i in label_w32_noimpute]\n",
    "#保存数据\n",
    "np.save('input_data/data_w32_noimpute.npy',data_w32_noimpute)   \n",
    "np.save('input_data/label_w32_noimpute.npy',label_w32_noimpute_index)\n"
   ]
  },
  {
   "cell_type": "code",
   "execution_count": 29,
   "metadata": {},
   "outputs": [
    {
     "name": "stdout",
     "output_type": "stream",
     "text": [
      "-----raw------\n",
      "pos_data_w21_impute.shape: (11988, 21, 21)\n",
      "pos_label_w21_impute.shape: (11988,)\n",
      "neg_data_w21_cor_impute.shape: (7853, 21, 21)\n",
      "neg_label_w21_cor_impute.shape: (7853,)\n",
      "neg_data_w21_loop_impute.shape: (9604, 21, 21)\n",
      "neg_label_w21_loop_impute.shape: (9604,)\n",
      "neg_data_w21_cancer_impute.shape: (20850, 21, 21)\n",
      "neg_label_w21_cancer_impute.shape: (20850,)\n",
      "---merge neg---\n",
      "neg_data_w21_impute.shape: (38307, 21, 21)\n",
      "neg_label_w21_impute.shape: (38307,)\n",
      "---merge all---\n",
      "data_w21_impute.shape: (50295, 1, 21, 21)\n",
      "label_w21_impute.shape: (50295,)\n",
      "---label distribution---\n",
      "pos_label_w21_impute: (array(['++', '+-', '-+', '--', 'cancer_no', 'cor', 'loop'], dtype='<U9'), array([  666,  4662,  5328,  1332, 20850,  7853,  9604]))\n"
     ]
    }
   ],
   "source": [
    "#impute\n",
    "#raw\n",
    "print(\"-----raw------\")\n",
    "window=21\n",
    "pos_data_w21_impute = np.load(\"input_data/pos_data_w21_impute.npy\")\n",
    "pos_label_w21_impute = np.load(\"input_data/pos_label_w21_impute.npy\")\n",
    "print(\"pos_data_w21_impute.shape:\",pos_data_w21_impute.shape)\n",
    "print(\"pos_label_w21_impute.shape:\",pos_label_w21_impute.shape)\n",
    "neg_data_w21_cor_impute = np.load(\"input_data/neg_data_cor_w21_impute.npy\") \n",
    "neg_label_w21_cor_impute = np.load(\"input_data/neg_label_cor_w21_impute.npy\")\n",
    "print(\"neg_data_w21_cor_impute.shape:\",neg_data_w21_cor_impute.shape)\n",
    "print(\"neg_label_w21_cor_impute.shape:\",neg_label_w21_cor_impute.shape)\n",
    "neg_data_w21_loop_impute = np.load(\"input_data/neg_data_loop_w21_impute.npy\")\n",
    "neg_label_w21_loop_impute = np.load(\"input_data/neg_label_loop_w21_impute.npy\")\n",
    "print(\"neg_data_w21_loop_impute.shape:\",neg_data_w21_loop_impute.shape)\n",
    "print(\"neg_label_w21_loop_impute.shape:\",neg_label_w21_loop_impute.shape)\n",
    "neg_data_w21_cancer_impute = np.load(\"input_data/neg_data_cancer_w21_impute.npy\")\n",
    "neg_label_w21_cancer_impute = np.load(\"input_data/neg_label_cancer_w21_impute.npy\")\n",
    "print(\"neg_data_w21_cancer_impute.shape:\",neg_data_w21_cancer_impute.shape)\n",
    "print(\"neg_label_w21_cancer_impute.shape:\",neg_label_w21_cancer_impute.shape)\n",
    "#合并neg的数据\n",
    "neg_data_w21_impute = np.concatenate((neg_data_w21_cor_impute,neg_data_w21_loop_impute,neg_data_w21_cancer_impute),axis=0)\n",
    "neg_label_w21_impute = np.concatenate((neg_label_w21_cor_impute,neg_label_w21_loop_impute,neg_label_w21_cancer_impute),axis=0)\n",
    "print(\"---merge neg---\")\n",
    "print(\"neg_data_w21_impute.shape:\",neg_data_w21_impute.shape)\n",
    "print(\"neg_label_w21_impute.shape:\",neg_label_w21_impute.shape)\n",
    "#合并所有数据\n",
    "data_w21_impute = np.concatenate((pos_data_w21_impute,neg_data_w21_impute),axis=0)\n",
    "label_w21_impute = np.concatenate((pos_label_w21_impute,neg_label_w21_impute),axis=0)\n",
    "print(\"---merge all---\")\n",
    "data_w21_impute = data_w21_impute.reshape(data_w21_impute.shape[0],1,window,window)\n",
    "print(\"data_w21_impute.shape:\",data_w21_impute.shape)\n",
    "print(\"label_w21_impute.shape:\",label_w21_impute.shape)\n",
    "#标签分布\n",
    "print(\"---label distribution---\")\n",
    "print(\"pos_label_w21_impute:\",np.unique(label_w21_impute,return_counts=True))\n",
    "#标签转换\n",
    "label_w21_impute_index = [label_dic[i] for i in label_w21_impute]\n",
    "#保存数据\n",
    "np.save('input_data/data_w21_impute.npy',data_w21_impute)   \n",
    "np.save('input_data/label_w21_impute.npy',label_w21_impute_index)\n"
   ]
  },
  {
   "cell_type": "code",
   "execution_count": 30,
   "metadata": {},
   "outputs": [
    {
     "name": "stdout",
     "output_type": "stream",
     "text": [
      "-----raw------\n",
      "pos_data_w28_impute.shape: (11988, 28, 28)\n",
      "pos_label_w28_impute.shape: (11988,)\n",
      "neg_data_w28_cor_impute.shape: (8016, 28, 28)\n",
      "neg_label_w28_cor_impute.shape: (8016,)\n",
      "neg_data_w28_loop_impute.shape: (9660, 28, 28)\n",
      "neg_label_w28_loop_impute.shape: (9660,)\n",
      "neg_data_w28_cancer_impute.shape: (22019, 28, 28)\n",
      "neg_label_w28_cancer_impute.shape: (22019,)\n",
      "---merge neg---\n",
      "neg_data_w28_impute.shape: (39695, 28, 28)\n",
      "neg_label_w28_impute.shape: (39695,)\n",
      "---merge all---\n",
      "data_w28_impute.shape: (51683, 1, 28, 28)\n",
      "label_w28_impute.shape: (51683,)\n",
      "---label distribution---\n",
      "pos_label_w28_impute: (array(['++', '+-', '-+', '--', 'cancer_no', 'cor', 'loop'], dtype='<U9'), array([  666,  4662,  5328,  1332, 22019,  8016,  9660]))\n"
     ]
    }
   ],
   "source": [
    "#raw\n",
    "print(\"-----raw------\")\n",
    "window=28\n",
    "pos_data_w28_impute = np.load(\"input_data/pos_data_w28_impute.npy\")\n",
    "pos_label_w28_impute = np.load(\"input_data/pos_label_w28_impute.npy\")\n",
    "print(\"pos_data_w28_impute.shape:\",pos_data_w28_impute.shape)\n",
    "print(\"pos_label_w28_impute.shape:\",pos_label_w28_impute.shape)\n",
    "neg_data_w28_cor_impute = np.load(\"input_data/neg_data_cor_w28_impute.npy\") \n",
    "neg_label_w28_cor_impute = np.load(\"input_data/neg_label_cor_w28_impute.npy\")\n",
    "print(\"neg_data_w28_cor_impute.shape:\",neg_data_w28_cor_impute.shape)\n",
    "print(\"neg_label_w28_cor_impute.shape:\",neg_label_w28_cor_impute.shape)\n",
    "neg_data_w28_loop_impute = np.load(\"input_data/neg_data_loop_w28_impute.npy\")\n",
    "neg_label_w28_loop_impute = np.load(\"input_data/neg_label_loop_w28_impute.npy\")\n",
    "print(\"neg_data_w28_loop_impute.shape:\",neg_data_w28_loop_impute.shape)\n",
    "print(\"neg_label_w28_loop_impute.shape:\",neg_label_w28_loop_impute.shape)\n",
    "neg_data_w28_cancer_impute = np.load(\"input_data/neg_data_cancer_w28_impute.npy\")\n",
    "neg_label_w28_cancer_impute = np.load(\"input_data/neg_label_cancer_w28_impute.npy\")\n",
    "print(\"neg_data_w28_cancer_impute.shape:\",neg_data_w28_cancer_impute.shape)\n",
    "print(\"neg_label_w28_cancer_impute.shape:\",neg_label_w28_cancer_impute.shape)\n",
    "#合并neg的数据\n",
    "neg_data_w28_impute = np.concatenate((neg_data_w28_cor_impute,neg_data_w28_loop_impute,neg_data_w28_cancer_impute),axis=0)\n",
    "neg_label_w28_impute = np.concatenate((neg_label_w28_cor_impute,neg_label_w28_loop_impute,neg_label_w28_cancer_impute),axis=0)\n",
    "print(\"---merge neg---\")\n",
    "print(\"neg_data_w28_impute.shape:\",neg_data_w28_impute.shape)\n",
    "print(\"neg_label_w28_impute.shape:\",neg_label_w28_impute.shape)\n",
    "#合并所有数据\n",
    "data_w28_impute = np.concatenate((pos_data_w28_impute,neg_data_w28_impute),axis=0)\n",
    "label_w28_impute = np.concatenate((pos_label_w28_impute,neg_label_w28_impute),axis=0)\n",
    "print(\"---merge all---\")\n",
    "data_w28_impute = data_w28_impute.reshape(data_w28_impute.shape[0],1,window,window)\n",
    "print(\"data_w28_impute.shape:\",data_w28_impute.shape)\n",
    "print(\"label_w28_impute.shape:\",label_w28_impute.shape)\n",
    "#标签分布\n",
    "print(\"---label distribution---\")\n",
    "print(\"pos_label_w28_impute:\",np.unique(label_w28_impute,return_counts=True))\n",
    "#标签转换\n",
    "label_w28_impute_index = [label_dic[i] for i in label_w28_impute]\n",
    "#保存数据\n",
    "np.save('input_data/data_w28_impute.npy',data_w28_impute)   \n",
    "np.save('input_data/label_w28_impute.npy',label_w28_impute_index)\n"
   ]
  },
  {
   "cell_type": "code",
   "execution_count": 31,
   "metadata": {},
   "outputs": [
    {
     "name": "stdout",
     "output_type": "stream",
     "text": [
      "-----raw------\n",
      "pos_data_w32_impute.shape: (11988, 32, 32)\n",
      "pos_label_w32_impute.shape: (11988,)\n",
      "neg_data_w32_cor_impute.shape: (8306, 32, 32)\n",
      "neg_label_w32_cor_impute.shape: (8306,)\n",
      "neg_data_w32_loop_impute.shape: (9667, 32, 32)\n",
      "neg_label_w32_loop_impute.shape: (9667,)\n",
      "neg_data_w32_cancer_impute.shape: (23027, 32, 32)\n",
      "neg_label_w32_cancer_impute.shape: (23027,)\n",
      "---merge neg---\n",
      "neg_data_w32_impute.shape: (41000, 32, 32)\n",
      "neg_label_w32_impute.shape: (41000,)\n",
      "---merge all---\n",
      "data_w32_impute.shape: (52988, 1, 32, 32)\n",
      "label_w32_impute.shape: (52988,)\n",
      "---label distribution---\n",
      "pos_label_w32_impute: (array(['++', '+-', '-+', '--', 'cancer_no', 'cor', 'loop'], dtype='<U9'), array([  666,  4662,  5328,  1332, 23027,  8306,  9667]))\n"
     ]
    }
   ],
   "source": [
    "#raw\n",
    "print(\"-----raw------\")\n",
    "window=32\n",
    "pos_data_w32_impute = np.load(\"input_data/pos_data_w32_impute.npy\")\n",
    "pos_label_w32_impute = np.load(\"input_data/pos_label_w32_impute.npy\")\n",
    "print(\"pos_data_w32_impute.shape:\",pos_data_w32_impute.shape)\n",
    "print(\"pos_label_w32_impute.shape:\",pos_label_w32_impute.shape)\n",
    "neg_data_w32_cor_impute = np.load(\"input_data/neg_data_cor_w32_impute.npy\") \n",
    "neg_label_w32_cor_impute = np.load(\"input_data/neg_label_cor_w32_impute.npy\")\n",
    "print(\"neg_data_w32_cor_impute.shape:\",neg_data_w32_cor_impute.shape)\n",
    "print(\"neg_label_w32_cor_impute.shape:\",neg_label_w32_cor_impute.shape)\n",
    "neg_data_w32_loop_impute = np.load(\"input_data/neg_data_loop_w32_impute.npy\")\n",
    "neg_label_w32_loop_impute = np.load(\"input_data/neg_label_loop_w32_impute.npy\")\n",
    "print(\"neg_data_w32_loop_impute.shape:\",neg_data_w32_loop_impute.shape)\n",
    "print(\"neg_label_w32_loop_impute.shape:\",neg_label_w32_loop_impute.shape)\n",
    "neg_data_w32_cancer_impute = np.load(\"input_data/neg_data_cancer_w32_impute.npy\")\n",
    "neg_label_w32_cancer_impute = np.load(\"input_data/neg_label_cancer_w32_impute.npy\")\n",
    "print(\"neg_data_w32_cancer_impute.shape:\",neg_data_w32_cancer_impute.shape)\n",
    "print(\"neg_label_w32_cancer_impute.shape:\",neg_label_w32_cancer_impute.shape)\n",
    "#合并neg的数据\n",
    "neg_data_w32_impute = np.concatenate((neg_data_w32_cor_impute,neg_data_w32_loop_impute,neg_data_w32_cancer_impute),axis=0)\n",
    "neg_label_w32_impute = np.concatenate((neg_label_w32_cor_impute,neg_label_w32_loop_impute,neg_label_w32_cancer_impute),axis=0)\n",
    "print(\"---merge neg---\")\n",
    "print(\"neg_data_w32_impute.shape:\",neg_data_w32_impute.shape)\n",
    "print(\"neg_label_w32_impute.shape:\",neg_label_w32_impute.shape)\n",
    "#合并所有数据\n",
    "data_w32_impute = np.concatenate((pos_data_w32_impute,neg_data_w32_impute),axis=0)\n",
    "label_w32_impute = np.concatenate((pos_label_w32_impute,neg_label_w32_impute),axis=0)\n",
    "print(\"---merge all---\")\n",
    "data_w32_impute = data_w32_impute.reshape(data_w32_impute.shape[0],1,window,window)\n",
    "print(\"data_w32_impute.shape:\",data_w32_impute.shape)\n",
    "print(\"label_w32_impute.shape:\",label_w32_impute.shape)\n",
    "#标签分布\n",
    "print(\"---label distribution---\")\n",
    "print(\"pos_label_w32_impute:\",np.unique(label_w32_impute,return_counts=True))\n",
    "#标签转换\n",
    "label_w32_impute_index = [label_dic[i] for i in label_w32_impute]\n",
    "#保存数据\n",
    "np.save('input_data/data_w32_impute.npy',data_w32_impute)   \n",
    "np.save('input_data/label_w32_impute.npy',label_w32_impute_index)\n"
   ]
  },
  {
   "cell_type": "code",
   "execution_count": 38,
   "metadata": {},
   "outputs": [
    {
     "name": "stdout",
     "output_type": "stream",
     "text": [
      "(6658, 21, 21)\n",
      "(6658, 1, 21, 21)\n",
      "(20556, 21, 21)\n",
      "(20556, 1, 21, 21)\n"
     ]
    }
   ],
   "source": [
    "# window = 21\n",
    "# print(all_data_no_impute.shape)\n",
    "# all_data_no_impute = all_data_no_impute.reshape(all_data_no_impute.shape[0],1,window,window)\n",
    "# print(all_data_no_impute.shape)\n",
    "\n",
    "# print(all_data_impute.shape)\n",
    "# all_data_impute = all_data_impute.reshape(all_data_impute.shape[0],1,window,window)\n",
    "# print(all_data_impute.shape)\n",
    "\n",
    "# all_label_no_impute_index = [label_dic[i] for i in all_label_no_impute]\n",
    "# all_label_impute_index = [label_dic[i] for i in all_label_impute]\n",
    "# print(np.unique(all_label_no_impute_index))\n",
    "# print(np.unique(all_label_impute_index))\n",
    "\n",
    "# np.save('input_data/data_impute.npy',all_data_impute)   \n",
    "# np.save('input_data/label_impute.npy',all_label_impute_index)\n",
    "\n",
    "# np.save('input_data/data_no_impute.npy',all_data_no_impute)\n",
    "# np.save('input_data/label_no_impute.npy',all_label_no_impute_index)"
   ]
  }
 ],
 "metadata": {
  "kernelspec": {
   "display_name": "sv",
   "language": "python",
   "name": "python3"
  },
  "language_info": {
   "codemirror_mode": {
    "name": "ipython",
    "version": 3
   },
   "file_extension": ".py",
   "mimetype": "text/x-python",
   "name": "python",
   "nbconvert_exporter": "python",
   "pygments_lexer": "ipython3",
   "version": "3.8.13"
  },
  "orig_nbformat": 4,
  "vscode": {
   "interpreter": {
    "hash": "0c2b4c422c51196e5a13ef0382ae654019ed0bc9e75f046108fddc534a620d08"
   }
  }
 },
 "nbformat": 4,
 "nbformat_minor": 2
}
