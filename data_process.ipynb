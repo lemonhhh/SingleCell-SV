{
 "cells": [
  {
   "cell_type": "code",
   "execution_count": 1,
   "metadata": {},
   "outputs": [],
   "source": [
    "import os\n",
    "\n",
    "import torch\n",
    "\n",
    "import matplotlib.pyplot as plt\n",
    "import seaborn as sns\n",
    "\n",
    "import numpy as np\n",
    "import pandas as pd\n",
    "\n",
    "import cooler\n",
    "\n",
    "#import imputation function\n",
    "from imputation.imputation import *"
   ]
  },
  {
   "cell_type": "code",
   "execution_count": 2,
   "metadata": {},
   "outputs": [],
   "source": [
    "#config\n",
    "resolution_rwr=100000\n",
    "logscale=False\n",
    "pad=1\n",
    "std=1\n",
    "rp=0.5 #restart probability to balance th information between global and local network structures\n",
    "tol=0.01 #是什么意思\n",
    "window_size=500000000\n",
    "step_size=10000000\n",
    "output_dist=500000000\n",
    "min_cutoff=0\n",
    "n_iters=20"
   ]
  },
  {
   "attachments": {},
   "cell_type": "markdown",
   "metadata": {},
   "source": [
    "## pos data"
   ]
  },
  {
   "cell_type": "code",
   "execution_count": 3,
   "metadata": {},
   "outputs": [
    {
     "name": "stderr",
     "output_type": "stream",
     "text": [
      "/tmp/ipykernel_249000/4095032312.py:3: SettingWithCopyWarning: \n",
      "A value is trying to be set on a copy of a slice from a DataFrame.\n",
      "Try using .loc[row_indexer,col_indexer] = value instead\n",
      "\n",
      "See the caveats in the documentation: https://pandas.pydata.org/pandas-docs/stable/user_guide/indexing.html#returning-a-view-versus-a-copy\n",
      "  k562_list['diff'] = (k562_list['breakpoint2'] - k562_list['breakpoint1'])/1000\n"
     ]
    }
   ],
   "source": [
    "sv_list = pd.read_csv(\"./ref_data/sv_list.csv\")\n",
    "k562_list = sv_list[sv_list['Cell Line']==\"K562\"]\n",
    "k562_list['diff'] = (k562_list['breakpoint2'] - k562_list['breakpoint1'])/1000"
   ]
  },
  {
   "cell_type": "code",
   "execution_count": 4,
   "metadata": {},
   "outputs": [],
   "source": [
    "#选择chrom1=chrom2的\n",
    "k562_list_intra = k562_list[k562_list['chrom1']==k562_list['chrom2']]\n",
    "k562_list_intra.index = range(len(k562_list_intra))"
   ]
  },
  {
   "cell_type": "code",
   "execution_count": 5,
   "metadata": {},
   "outputs": [],
   "source": [
    "#列出raw_data/K562/cooler/文件夹下所有的文件\n",
    "file_list = os.listdir(\"./raw_data/scihic/K562/cooler/\")\n",
    "#读取所有的mcool文件\n",
    "mcool_list = [i for i in file_list if i.endswith(\".mcool\")]\n",
    "#读取所有文件名中不包含bulk的\n"
   ]
  },
  {
   "cell_type": "code",
   "execution_count": 117,
   "metadata": {},
   "outputs": [],
   "source": [
    "def get_pos_submatrix_intra(clr,window,label_list,impute=False,resolution=100000\n",
    "                            ,logscale=False,pad=1,std=1,rp=0.5,tol=0.01,window_size=500000000\n",
    "                            ,step_size=10000000,output_dist=500000000,min_cutoff=0,n_iters=20):\n",
    "    '''\n",
    "    label_list都是intra的sv\n",
    "    '''\n",
    "    \n",
    "    #找到有label对应的位置\n",
    "    pos_data_list = []\n",
    "    pos_label_list = []\n",
    "    \n",
    "    #遍历每一个sv的breakpoint\n",
    "    for i in range(len(label_list)):\n",
    "        #chrom1=chrom2\n",
    "        chrom1 = label_list['chrom1'].iat[i]\n",
    "        chrom2 = label_list['chrom2'].iat[i]\n",
    "        #只取chromosome1的bin\n",
    "        bin_table = clr.bins().fetch(chrom1)[:]\n",
    "        #需要重新设置index\n",
    "        bin_table.index = range(len(bin_table))\n",
    "        \n",
    "        breakpoint1 = label_list['breakpoint1'].iat[i]\n",
    "        breakpoint2 = label_list['breakpoint2'].iat[i]\n",
    "        string = label_list['strands'].iat[i]\n",
    "\n",
    "        \n",
    "        #找到对应的bin\n",
    "        bin1 = bin_table[(bin_table['chrom']==chrom1) &(bin_table['start'] < breakpoint1 ) & (breakpoint1 < bin_table['end'] )]\n",
    "        bin2 = bin_table[(bin_table['chrom']==chrom2) &(bin_table['start'] < breakpoint2 ) & (breakpoint2 < bin_table['end'] )]\n",
    "\n",
    "        \n",
    "        \n",
    "        #breakpoint的坐标\n",
    "        x_c = bin1.index[0]#得到的是索引\n",
    "        y_c = bin2.index[0]\n",
    "        \n",
    "\n",
    "        x1 = x_c - int((window-1)/2)\n",
    "        x2 = x_c + int((window-1)/2)\n",
    "\n",
    "        \n",
    "        y1 = y_c - int((window-1)/2)\n",
    "        y2 = y_c + int((window-1)/2)\n",
    "        \n",
    "        \n",
    "        #如果x1或y1小于0，就取0\n",
    "        if x1 < 0:\n",
    "            x1 = 0\n",
    "            x2 = window-1\n",
    "        if y1 < 0:\n",
    "            y1 = 0\n",
    "            y2 = window-1\n",
    "        #如果x2或y2大于区域的长度，就取区域的长度\n",
    "        max_length= clr.matrix(balance=False).fetch(chrom1).shape[0]\n",
    "\n",
    "        if x2 > max_length:\n",
    "            x2 = max_length-1\n",
    "            x1 = max_length-window\n",
    "        if y2 > max_length:\n",
    "            y2 = max_length-1\n",
    "            y1 = max_length-window\n",
    "        \n",
    "    \n",
    "        if impute:\n",
    "            #impute by rwr\n",
    "            matrix = imputation_rwr(clr,chrom1,resolution,logscale,pad,std,rp,tol,window_size\n",
    "                    ,step_size,output_dist,min_cutoff,n_iters)\n",
    "            #将matrix转成array\n",
    "            matrix = np.array(matrix)\n",
    "            \n",
    "        else:\n",
    "            #raw matrix\n",
    "            matrix = clr.matrix(balance=False)[:]\n",
    "        #fetch submatrix\n",
    "        submatrix = matrix[x1:x2+1, y1:y2+1]\n",
    "\n",
    "        \n",
    "        #pos_data_list中添加submatrix\n",
    "        pos_data_list.append(submatrix)\n",
    "        pos_label_list.append(string)\n",
    "\n",
    "    return pos_data_list,pos_label_list\n",
    "\n"
   ]
  },
  {
   "cell_type": "code",
   "execution_count": 124,
   "metadata": {},
   "outputs": [],
   "source": [
    "resolution = 100000\n",
    "window = 21\n",
    "cool_dir = \"raw_data/scihic/K562/cooler/\"\n",
    "#读取所有的mcool文件\n",
    "pos_data_list = []\n",
    "pos_label_list = []\n",
    "\n",
    "#按细胞做处理\n",
    "for mc in mcool_list[1:3]:\n",
    "    clr = cooler.Cooler(cool_dir+mc+\"::/resolutions/\"+str(resolution))\n",
    "    sc_pos_data_list,sc_pos_label_list = get_pos_submatrix_intra(clr,window,k562_list_intra\n",
    "                                                                ,True,resolution_rwr,\n",
    "                                                                logscale,pad,std,rp,tol,\n",
    "                                                                window_size,step_size,\n",
    "                                                                output_dist,min_cutoff,n_iters) \n",
    "    \n",
    "\n",
    "    pos_data_list.append(sc_pos_data_list)\n",
    "    pos_label_list.append(sc_pos_label_list)\n",
    "\n",
    "#fetch data from list    \n",
    "pos_data_list = [item for sublist in pos_data_list for item in sublist]\n",
    "pos_label_list = [item for sublist in pos_label_list for item in sublist]\n",
    "\n",
    "\n",
    "pos_data_array = np.dstack(pos_data_list)\n",
    "pos_data_array = np.rollaxis(pos_data_array,-1)\n",
    "\n",
    "pos_label_list = np.array(pos_label_list)\n",
    "\n",
    "#保存\n",
    "np.save(\"input_data/pos_data_intra_imputation.npy\",pos_data_array)\n",
    "np.save(\"input_data/pos_label_intra_imputation.npy\",pos_label_list)\n"
   ]
  },
  {
   "cell_type": "code",
   "execution_count": 123,
   "metadata": {},
   "outputs": [
    {
     "data": {
      "text/plain": [
       "['+-',\n",
       " '+-',\n",
       " '+-',\n",
       " '-+',\n",
       " '--',\n",
       " '+-',\n",
       " '-+',\n",
       " '-+',\n",
       " '-+',\n",
       " '-+',\n",
       " '-+',\n",
       " '+-',\n",
       " '-+',\n",
       " '-+',\n",
       " '-+',\n",
       " '+-',\n",
       " '--',\n",
       " '+-',\n",
       " '-+',\n",
       " '+-',\n",
       " '-+',\n",
       " '++',\n",
       " '+-',\n",
       " '-+',\n",
       " '+-',\n",
       " '--',\n",
       " '+-',\n",
       " '+-',\n",
       " '-+',\n",
       " '-+',\n",
       " '-+',\n",
       " '+-',\n",
       " '+-',\n",
       " '++',\n",
       " '--',\n",
       " '-+',\n",
       " '+-',\n",
       " '+-',\n",
       " '+-',\n",
       " '-+',\n",
       " '--',\n",
       " '+-',\n",
       " '-+',\n",
       " '-+',\n",
       " '-+',\n",
       " '-+',\n",
       " '-+',\n",
       " '+-',\n",
       " '-+',\n",
       " '-+',\n",
       " '-+',\n",
       " '+-',\n",
       " '--',\n",
       " '+-',\n",
       " '-+',\n",
       " '+-',\n",
       " '-+',\n",
       " '++',\n",
       " '+-',\n",
       " '-+',\n",
       " '+-',\n",
       " '--',\n",
       " '+-',\n",
       " '+-',\n",
       " '-+',\n",
       " '-+',\n",
       " '-+',\n",
       " '+-',\n",
       " '+-',\n",
       " '++',\n",
       " '--',\n",
       " '-+']"
      ]
     },
     "execution_count": 123,
     "metadata": {},
     "output_type": "execute_result"
    }
   ],
   "source": [
    "pos_label_list"
   ]
  },
  {
   "cell_type": "code",
   "execution_count": 68,
   "metadata": {},
   "outputs": [
    {
     "data": {
      "text/plain": [
       "(72,)"
      ]
     },
     "execution_count": 68,
     "metadata": {},
     "output_type": "execute_result"
    }
   ],
   "source": [
    "#pos_data_list转成72*21*21的array\n"
   ]
  },
  {
   "cell_type": "code",
   "execution_count": 71,
   "metadata": {},
   "outputs": [
    {
     "data": {
      "text/plain": [
       "(21, 21)"
      ]
     },
     "execution_count": 71,
     "metadata": {},
     "output_type": "execute_result"
    }
   ],
   "source": [
    "pos_data_list[0].shape"
   ]
  },
  {
   "cell_type": "code",
   "execution_count": 154,
   "metadata": {},
   "outputs": [],
   "source": [
    "#比较一下imputation前后的数据吧\n",
    "pos_data_list1 = np.load(\"input_data/pos_data_list.npy\")\n",
    "pos_label_list1 = np.load(\"input_data/pos_label_list.npy\")\n",
    "\n"
   ]
  },
  {
   "cell_type": "code",
   "execution_count": 157,
   "metadata": {},
   "outputs": [],
   "source": [
    "pos_data_list2 = np.load(\"input_data/pos_data_intra_imputation.npy\")\n",
    "pos_label_list2 = np.load(\"input_data/pos_label_intra_imputation.npy\")"
   ]
  },
  {
   "cell_type": "code",
   "execution_count": 159,
   "metadata": {},
   "outputs": [
    {
     "data": {
      "text/plain": [
       "(56189,)"
      ]
     },
     "execution_count": 159,
     "metadata": {},
     "output_type": "execute_result"
    }
   ],
   "source": [
    "#pos_data_list1中非0个数\n",
    "pos_data_list1[pos_data_list1!=0].shape"
   ]
  },
  {
   "cell_type": "code",
   "execution_count": 160,
   "metadata": {},
   "outputs": [
    {
     "data": {
      "text/plain": [
       "(601344,)"
      ]
     },
     "execution_count": 160,
     "metadata": {},
     "output_type": "execute_result"
    }
   ],
   "source": [
    "pos_data_list2[pos_data_list2!=0].shape"
   ]
  },
  {
   "cell_type": "code",
   "execution_count": 78,
   "metadata": {},
   "outputs": [],
   "source": [
    "pos_data_list2\n",
    "\n",
    "#把pos_data_list2转成和pos_data_list1一样的格式\n",
    "pos_data_list2 = np.expand_dims(pos_data_list2, axis=1)"
   ]
  },
  {
   "cell_type": "code",
   "execution_count": 83,
   "metadata": {},
   "outputs": [],
   "source": [
    "# pos_data_list2里面的每一个元素都是一个array，需要转成array\n",
    "pos_data_list2 = np.array(pos_data_list2)"
   ]
  },
  {
   "attachments": {},
   "cell_type": "markdown",
   "metadata": {},
   "source": [
    "## neg data"
   ]
  },
  {
   "cell_type": "code",
   "execution_count": 127,
   "metadata": {},
   "outputs": [],
   "source": [
    "#列出raw_data/K562/cooler/文件夹下所有的文件\n",
    "gm12878_file_list = os.listdir(\"./raw_data/scihic/GM12878/cooler/\")\n",
    "#读取所有的mcool文件\n",
    "gm12878_mcool_list = [i for i in gm12878_file_list if i.endswith(\".mcool\")]\n"
   ]
  },
  {
   "attachments": {},
   "cell_type": "markdown",
   "metadata": {},
   "source": [
    "### 和cancer cell的SV对应的区域的"
   ]
  },
  {
   "cell_type": "code",
   "execution_count": 5,
   "metadata": {},
   "outputs": [],
   "source": [
    "def get_neg_submatrix_intra(clr,window,label_list,impute=False,resolution=100000\n",
    "                            ,logscale=False,pad=1,std=1,rp=0.5,tol=0.01,window_size=500000000\n",
    "                            ,step_size=10000000,output_dist=500000000,min_cutoff=0,n_iters=20):\n",
    "    '''\n",
    "    label_list都是intra的sv\n",
    "    '''\n",
    "    \n",
    "    #找到有label对应的位置\n",
    "    neg_data_list = []\n",
    "    neg_label_list = []\n",
    "    \n",
    "    #遍历每一个sv的breakpoint\n",
    "    for i in range(len(label_list)):\n",
    "        #chrom1=chrom2\n",
    "        chrom1 = label_list['chrom1'].iat[i]\n",
    "        chrom2 = label_list['chrom2'].iat[i]\n",
    "        #只取chromosome1的bin\n",
    "        bin_table = clr.bins().fetch(chrom1)[:]\n",
    "        #需要重新设置index\n",
    "        bin_table.index = range(len(bin_table))\n",
    "        \n",
    "        breakpoint1 = label_list['breakpoint1'].iat[i]\n",
    "        breakpoint2 = label_list['breakpoint2'].iat[i]\n",
    "        \n",
    "        #找到对应的bin\n",
    "        bin1 = bin_table[(bin_table['chrom']==chrom1) &(bin_table['start'] < breakpoint1 ) & (breakpoint1 < bin_table['end'] )]\n",
    "        bin2 = bin_table[(bin_table['chrom']==chrom2) &(bin_table['start'] < breakpoint2 ) & (breakpoint2 < bin_table['end'] )]\n",
    "\n",
    "        #breakpoint的坐标\n",
    "        x_c = bin1.index[0]#得到的是索引\n",
    "        y_c = bin2.index[0]\n",
    "        \n",
    "        x1 = x_c - int((window-1)/2)\n",
    "        x2 = x_c + int((window-1)/2)\n",
    "        \n",
    "        y1 = y_c - int((window-1)/2)\n",
    "        y2 = y_c + int((window-1)/2)\n",
    "        \n",
    "        \n",
    "        #如果x1或y1小于0，就取0\n",
    "        if x1 < 0:\n",
    "            x1 = 0\n",
    "            x2 = window-1\n",
    "        if y1 < 0:\n",
    "            y1 = 0\n",
    "            y2 = window-1\n",
    "        #如果x2或y2大于区域的长度，就取区域的长度\n",
    "        max_length= clr.matrix(balance=False).fetch(chrom1).shape[0]\n",
    "\n",
    "        if x2 > max_length:\n",
    "            x2 = max_length-1\n",
    "            x1 = max_length-window\n",
    "        if y2 > max_length:\n",
    "            y2 = max_length-1\n",
    "            y1 = max_length-window\n",
    "        \n",
    "    \n",
    "        if impute:\n",
    "            #impute by rwr\n",
    "            matrix = imputation_rwr(clr,chrom1,resolution,logscale,pad,std,rp,tol,window_size\n",
    "                    ,step_size,output_dist,min_cutoff,n_iters)\n",
    "            #将matrix转成array\n",
    "            matrix = np.array(matrix)\n",
    "            \n",
    "        else:\n",
    "            #raw matrix\n",
    "            matrix = clr.matrix(balance=False)[:]\n",
    "        #fetch submatrix\n",
    "        submatrix = matrix[x1:x2+1, y1:y2+1]\n",
    "\n",
    "        \n",
    "        #pos_data_list中添加submatrix\n",
    "        neg_data_list.append(submatrix)\n",
    "        neg_label_list.append(\"no\")\n",
    "\n",
    "    return neg_data_list,neg_label_list\n",
    "\n"
   ]
  },
  {
   "cell_type": "code",
   "execution_count": 14,
   "metadata": {},
   "outputs": [
    {
     "ename": "",
     "evalue": "",
     "output_type": "error",
     "traceback": [
      "\u001b[1;31m在当前单元格或上一个单元格中执行代码时 Kernel 崩溃。请查看单元格中的代码，以确定故障的可能原因。有关详细信息，请单击 <a href='https://aka.ms/vscodeJupyterKernelCrash'>此处</a>。有关更多详细信息，请查看 Jupyter <a href='command:jupyter.viewOutput'>log</a>。"
     ]
    },
    {
     "ename": "",
     "evalue": "",
     "output_type": "error",
     "traceback": [
      "\u001b[1;31mCanceled future for execute_request message before replies were done"
     ]
    }
   ],
   "source": [
    "resolution = 100000\n",
    "window = 21\n",
    "cool_dir = \"raw_data/scihic/GM12878/cooler/\"\n",
    "#读取所有的mcool文件\n",
    "neg_data_list = []\n",
    "neg_label_list = []\n",
    "\n",
    "#按细胞做处理\n",
    "for mc in gm12878_mcool_list:\n",
    "    clr = cooler.Cooler(cool_dir+mc+\"::/resolutions/\"+str(resolution))\n",
    "    \n",
    "    #取对应位置的\n",
    "    sc_neg_data_list,sc_neg_label_list = get_neg_submatrix_intra(clr,window,k562_list_intra\n",
    "                                                                ,True,resolution_rwr,\n",
    "                                                                logscale,pad,std,rp,tol,\n",
    "                                                                window_size,step_size,\n",
    "                                                                output_dist,min_cutoff,n_iters) \n",
    "    \n",
    "    neg_data_list.append(sc_neg_data_list)\n",
    "    neg_label_list.append(sc_neg_label_list)\n",
    "\n",
    "#fetch data from list    \n",
    "neg_data_list = [item for sublist in neg_data_list for item in sublist]\n",
    "neg_label_list = [item for sublist in neg_label_list for item in sublist]\n",
    "\n",
    "\n",
    "neg_data_array = np.dstack(neg_data_list)\n",
    "neg_data_array = np.rollaxis(neg_data_array,-1)\n",
    "neg_label_list = np.array(neg_label_list)\n",
    "\n",
    "#保存\n",
    "np.save(\"input_data/gm12878_data_intra_imputation_correspond.npy\",neg_data_array)\n",
    "np.save(\"input_data/gm12878_label_intra_imputation_correspond.npy\",neg_label_list)\n"
   ]
  },
  {
   "cell_type": "code",
   "execution_count": 117,
   "metadata": {},
   "outputs": [],
   "source": [
    "\n",
    "def get_random_matrix_gm12878(num_sample,window,clr):\n",
    "    rand_data_list = []\n",
    "    rand_label_list = []\n",
    "    for i in range(num_sample):\n",
    "        whole_matrix = clr.matrix(balance=False)[:]\n",
    "        x = np.random.randint(0,whole_matrix.shape[0]-window)\n",
    "        y = np.random.randint(0,whole_matrix.shape[1]-window)\n",
    "        submatrix = whole_matrix[x:x+window,y:y+window]\n",
    "        rand_data_list.append(submatrix)\n",
    "        label = \"no\"\n",
    "        rand_label_list.append(label)\n",
    "    return rand_data_list,rand_label_list\n"
   ]
  },
  {
   "cell_type": "code",
   "execution_count": 118,
   "metadata": {},
   "outputs": [],
   "source": [
    "cool_dir = \"raw_data/scihic/GM12878/cooler/\"\n",
    "resolution = 200000\n",
    "window = 21\n",
    "num = 5\n",
    "\n",
    "neg12878_data_list = []\n",
    "neg12878_label_list = []\n",
    "\n",
    "for mc in gm12878_mcool_list:\n",
    "    clr = cooler.Cooler(cool_dir+mc+\"::/resolutions/\"+str(resolution))\n",
    "    sc_neg_data_list,sc_neg_label_list = get_random_matrix_gm12878(num,window,clr)\n",
    "    neg12878_data_list.append(sc_neg_data_list)\n",
    "    neg12878_label_list.append(sc_neg_label_list)\n",
    "\n",
    "neg12878_data_list = [item for sublist in neg12878_data_list for item in sublist]\n",
    "neg12878_label_list = [item for sublist in neg12878_label_list for item in sublist]\n",
    "neg12878_data_list = np.array(neg12878_data_list)\n",
    "neg12878_label_list = np.array(neg12878_label_list)\n",
    "#数据类型\n",
    "neg12878_data_list = neg12878_data_list.astype(np.float32)\n",
    "#保存\n",
    "np.save(\"input_data/neg12878_data_list.npy\",neg12878_data_list)\n",
    "np.save(\"input_data/neg12878_label_list.npy\",neg12878_label_list)\n"
   ]
  },
  {
   "cell_type": "code",
   "execution_count": 127,
   "metadata": {},
   "outputs": [],
   "source": [
    "#for K562\n",
    "def determine_label(tmp_bin_x,tmp_bin_y,k562_list):\n",
    "    \n",
    "    label = \"no\"\n",
    "    for i in range(len(tmp_bin_x)):\n",
    "        chr1 = tmp_bin_x['chrom'].iat[i]\n",
    "        start1 = tmp_bin_x['start'].iat[i]\n",
    "        end1 = tmp_bin_x['end'].iat[i]\n",
    "        for j in range(len(tmp_bin_y)):\n",
    "            chr2 = tmp_bin_y['chrom'].iat[j]\n",
    "            start2 = tmp_bin_y['start'].iat[j]\n",
    "            end2 = tmp_bin_y['end'].iat[j]\n",
    "\n",
    "            for m in range(len(k562_list)):\n",
    "                chrom1 = k562_list['chrom1'].iat[m]\n",
    "                chrom2 = k562_list['chrom2'].iat[m]\n",
    "                breakpoint1 = k562_list['breakpoint1'].iat[m]\n",
    "                breakpoint2 = k562_list['breakpoint2'].iat[m]\n",
    "                string = k562_list['strands'].iat[m]\n",
    "                if (chr1 == chrom1 and chr2==chrom2 and (breakpoint1 > start1 and breakpoint1<end1) and (breakpoint2 > start2 and breakpoint2<end2) ):\n",
    "                    label = string\n",
    "                    break\n",
    "                elif (chr1 == chrom2 and chr2==chrom1 and (breakpoint1 > start2 and breakpoint1<end2) and (breakpoint2 > start1 and breakpoint2<end1)):\n",
    "                    label = string\n",
    "                    break\n",
    "            if label != \"no\":\n",
    "                break\n",
    "        if label != \"no\":\n",
    "            break\n",
    "    return label\n",
    "\n",
    "#从K562中获得\n",
    "#很少，但吧\n",
    "neg_data_list = []\n",
    "neg_label_list = []\n",
    "\n",
    "\n",
    "sample_x1=np.random.randint(7000, size=(50))\n",
    "sample_y1=np.random.randint(7000, size=(50))\n",
    "sample_x2 = sample_x1 + window\n",
    "sample_y2 = sample_y1 + window\n",
    "\n",
    "for x,y in zip(sample_x1,sample_y1):\n",
    "    submatrix = matrix1[x:x+window, y:y+window]\n",
    "    nozeron = np.count_nonzero(submatrix)\n",
    "    tmp_bin_x = bin_table.loc[x:x+window,:]\n",
    "    tmp_bin_y = bin_table.loc[y:y+window,:]\n",
    "    #得到标签\n",
    "    label = determine_label(tmp_bin_x,tmp_bin_y,k562_list)\n",
    "\n",
    "    neg_data_list.append(submatrix)\n",
    "    neg_label_list.append(label)        "
   ]
  },
  {
   "cell_type": "code",
   "execution_count": 126,
   "metadata": {},
   "outputs": [],
   "source": [
    "\n"
   ]
  },
  {
   "attachments": {},
   "cell_type": "markdown",
   "metadata": {},
   "source": [
    "### loop附近的"
   ]
  },
  {
   "cell_type": "code",
   "execution_count": 133,
   "metadata": {},
   "outputs": [],
   "source": [
    "#读loop的数据\n",
    "loop_path = \"/share/home/mliu/sc_sv/raw_data/GM12878/GSE63525_GM12878_primary+replicate_HiCCUPS_looplist.txt.gz\"\n",
    "gm12878_loop_list = pd.read_csv(loop_path,sep=\"\\t\",compression='gzip')[['chr1','x1','x2','chr2','y1','y2']]\n"
   ]
  },
  {
   "cell_type": "code",
   "execution_count": 138,
   "metadata": {},
   "outputs": [],
   "source": [
    "gm12878_loop_list['chr1'] = gm12878_loop_list['chr1'].apply(lambda x: \"chr\"+str(x))\n",
    "gm12878_loop_list['chr2'] = gm12878_loop_list['chr2'].apply(lambda x: \"chr\"+str(x))"
   ]
  },
  {
   "cell_type": "code",
   "execution_count": 174,
   "metadata": {},
   "outputs": [],
   "source": [
    "\n",
    "#随机选择其中的n个位点，取\n",
    "def get_neg_loop_matrix(clr,window,loop_list,n_sample,impute,resolution_rwr,\n",
    "                        logscale,pad,std,rp,tol,\n",
    "                        window_size,step_size,\n",
    "                        output_dist,min_cutoff,n_iters):\n",
    "    \n",
    "    neg_data_list = []\n",
    "    neg_label_list = []\n",
    "    #在loop_list中随机取n行\n",
    "    sample_loop_list = loop_list.sample(n=n_sample)\n",
    "    for i in range(len(sample_loop_list)):\n",
    "        chrom1 = sample_loop_list['chr1'].iat[i]\n",
    "        chrom2 = sample_loop_list['chr2'].iat[i]\n",
    "\n",
    "        bin_table = clr.bins().fetch(chrom1)[:]\n",
    "        bin_table.index = range(len(bin_table))\n",
    "\n",
    "        pos1 = (sample_loop_list['x1'].iat[i] + sample_loop_list['x2'].iat[i])/2\n",
    "        pos2 = (sample_loop_list['y1'].iat[i] + sample_loop_list['y2'].iat[i])/2\n",
    "\n",
    "        #找到对应的bin\n",
    "\n",
    "        bin1 = bin_table[(bin_table['start']<=pos1) & (bin_table['end']>=pos1)]\n",
    "        bin2 = bin_table[(bin_table['start']<=pos2) & (bin_table['end']>=pos2)]\n",
    "\n",
    "        #index用来fetch矩阵\n",
    "        x_c = bin1.index[0]\n",
    "        y_c = bin2.index[0]\n",
    "\n",
    "        x1 = x_c - int((window-1)/2)\n",
    "        x2 = x_c + int((window-1)/2)\n",
    "\n",
    "        \n",
    "        y1 = y_c - int((window-1)/2)\n",
    "        y2 = y_c + int((window-1)/2)\n",
    "\n",
    "        if x1 < 0:\n",
    "            x1 = 0\n",
    "            x2 = window-1\n",
    "        if y1 < 0:\n",
    "            y1 = 0\n",
    "            y2 = window-1\n",
    "        #如果x2或y2大于区域的长度，就取区域的长度\n",
    "        max_length= clr.matrix(balance=False).fetch(chrom1).shape[0]\n",
    "\n",
    "        if x2 > max_length:\n",
    "            x2 = max_length-1\n",
    "            x1 = max_length-window\n",
    "        if y2 > max_length:\n",
    "            y2 = max_length-1\n",
    "            y1 = max_length-window\n",
    "        \n",
    "        if impute:\n",
    "            #impute by rwr\n",
    "            matrix = imputation_rwr(clr,chrom1,resolution,logscale,pad,std,rp,tol,window_size\n",
    "                    ,step_size,output_dist,min_cutoff,n_iters)\n",
    "            #将matrix转成array\n",
    "            matrix = np.array(matrix)\n",
    "            \n",
    "        else:\n",
    "            #raw matrix\n",
    "            matrix = clr.matrix(balance=False)[:]\n",
    "        #fetch submatrix\n",
    "        submatrix = matrix[x1:x2+1, y1:y2+1]\n",
    "\n",
    "        if(submatrix.shape[0]==window):\n",
    "            neg_data_list.append(submatrix)\n",
    "            neg_label_list.append(\"no\")\n",
    "    \n",
    "    return neg_data_list,neg_label_list\n",
    "\n"
   ]
  },
  {
   "cell_type": "code",
   "execution_count": 175,
   "metadata": {},
   "outputs": [
    {
     "ename": "",
     "evalue": "",
     "output_type": "error",
     "traceback": [
      "\u001b[1;31m在当前单元格或上一个单元格中执行代码时 Kernel 崩溃。请查看单元格中的代码，以确定故障的可能原因。有关详细信息，请单击 <a href='https://aka.ms/vscodeJupyterKernelCrash'>此处</a>。有关更多详细信息，请查看 Jupyter <a href='command:jupyter.viewOutput'>log</a>。"
     ]
    },
    {
     "ename": "",
     "evalue": "",
     "output_type": "error",
     "traceback": [
      "\u001b[1;31mCanceled future for execute_request message before replies were done"
     ]
    }
   ],
   "source": [
    "resolution = 100000\n",
    "window = 21\n",
    "cool_dir = \"raw_data/scihic/GM12878/cooler/\"\n",
    "n_sample = 10\n",
    "#读取所有的mcool文件\n",
    "neg_data_list = []\n",
    "neg_label_list = []\n",
    "\n",
    "#按细胞做处理\n",
    "for mc in gm12878_mcool_list:\n",
    "    clr = cooler.Cooler(cool_dir+mc+\"::/resolutions/\"+str(resolution))\n",
    "    \n",
    "    #取对应位置的\n",
    "    sc_neg_data_list,sc_neg_label_list = get_neg_loop_matrix(clr,window,gm12878_loop_list,\n",
    "                                                                n_sample\n",
    "                                                                ,True\n",
    "                                                                ,resolution_rwr,\n",
    "                                                                logscale,pad,std,rp,tol,\n",
    "                                                                window_size,step_size,\n",
    "                                                                output_dist,min_cutoff,n_iters) \n",
    "    \n",
    "    neg_data_list.append(sc_neg_data_list)\n",
    "    neg_label_list.append(sc_neg_label_list)\n",
    "\n",
    "#fetch data from list    \n",
    "neg_data_list = [item for sublist in neg_data_list for item in sublist]\n",
    "neg_label_list = [item for sublist in neg_label_list for item in sublist]\n",
    "\n",
    "#FIXME:here\n",
    "neg_data_array = np.dstack(neg_data_list)\n",
    "neg_data_array = np.rollaxis(neg_data_array,-1)\n",
    "neg_label_list = np.array(neg_label_list)\n",
    "\n",
    "#保存\n",
    "np.save(\"input_data/gm12878_data_intra_imputation_loop.npy\",neg_data_array)\n",
    "np.save(\"input_data/gm12878_label_intra_imputation_loop.npy\",neg_label_list)\n"
   ]
  },
  {
   "cell_type": "code",
   "execution_count": 172,
   "metadata": {},
   "outputs": [
    {
     "ename": "ValueError",
     "evalue": "all the input array dimensions for the concatenation axis must match exactly, but along dimension 1, the array at index 0 has size 21 and the array at index 819 has size 20",
     "output_type": "error",
     "traceback": [
      "\u001b[0;31m---------------------------------------------------------------------------\u001b[0m",
      "\u001b[0;31mValueError\u001b[0m                                Traceback (most recent call last)",
      "Cell \u001b[0;32mIn[172], line 3\u001b[0m\n\u001b[1;32m      1\u001b[0m \u001b[39m#去掉neg_data_list中shape为20*20的元素\u001b[39;00m\n\u001b[1;32m      2\u001b[0m neg_data_list_new \u001b[39m=\u001b[39m [item \u001b[39mfor\u001b[39;00m item \u001b[39min\u001b[39;00m neg_data_list \u001b[39mif\u001b[39;00m item\u001b[39m.\u001b[39mshape[\u001b[39m0\u001b[39m]\u001b[39m==\u001b[39m\u001b[39m21\u001b[39m]\n\u001b[0;32m----> 3\u001b[0m neg_data_array \u001b[39m=\u001b[39m np\u001b[39m.\u001b[39;49mdstack(neg_data_list_new)\n\u001b[1;32m      4\u001b[0m neg_data_array \u001b[39m=\u001b[39m np\u001b[39m.\u001b[39mrollaxis(neg_data_array,\u001b[39m-\u001b[39m\u001b[39m1\u001b[39m)\n\u001b[1;32m      5\u001b[0m neg_label_list \u001b[39m=\u001b[39m np\u001b[39m.\u001b[39marray(neg_label_list)\n",
      "File \u001b[0;32m<__array_function__ internals>:180\u001b[0m, in \u001b[0;36mdstack\u001b[0;34m(*args, **kwargs)\u001b[0m\n",
      "File \u001b[0;32m~/anaconda3/envs/sv/lib/python3.8/site-packages/numpy/lib/shape_base.py:723\u001b[0m, in \u001b[0;36mdstack\u001b[0;34m(tup)\u001b[0m\n\u001b[1;32m    721\u001b[0m \u001b[39mif\u001b[39;00m \u001b[39mnot\u001b[39;00m \u001b[39misinstance\u001b[39m(arrs, \u001b[39mlist\u001b[39m):\n\u001b[1;32m    722\u001b[0m     arrs \u001b[39m=\u001b[39m [arrs]\n\u001b[0;32m--> 723\u001b[0m \u001b[39mreturn\u001b[39;00m _nx\u001b[39m.\u001b[39;49mconcatenate(arrs, \u001b[39m2\u001b[39;49m)\n",
      "File \u001b[0;32m<__array_function__ internals>:180\u001b[0m, in \u001b[0;36mconcatenate\u001b[0;34m(*args, **kwargs)\u001b[0m\n",
      "\u001b[0;31mValueError\u001b[0m: all the input array dimensions for the concatenation axis must match exactly, but along dimension 1, the array at index 0 has size 21 and the array at index 819 has size 20"
     ]
    }
   ],
   "source": [
    "#去掉neg_data_list中shape为20*20的元素\n",
    "neg_data_list_new = [item for item in neg_data_list if item.shape[0]==21]\n",
    "neg_data_array = np.dstack(neg_data_list_new)\n",
    "neg_data_array = np.rollaxis(neg_data_array,-1)\n",
    "neg_label_list = np.array(neg_label_list)"
   ]
  },
  {
   "cell_type": "code",
   "execution_count": 2,
   "metadata": {},
   "outputs": [],
   "source": [
    "import numpy as np\n",
    "test = np.load(\"input_data/gm12878_data_intra_imputation_loop.npy\")"
   ]
  },
  {
   "cell_type": "code",
   "execution_count": 4,
   "metadata": {},
   "outputs": [
    {
     "data": {
      "text/plain": [
       "(3423, 21, 21)"
      ]
     },
     "execution_count": 4,
     "metadata": {},
     "output_type": "execute_result"
    }
   ],
   "source": [
    "test.shape"
   ]
  },
  {
   "attachments": {},
   "cell_type": "markdown",
   "metadata": {},
   "source": [
    "### cancer cell line SV block附近的"
   ]
  },
  {
   "cell_type": "code",
   "execution_count": null,
   "metadata": {},
   "outputs": [],
   "source": [
    "#TODO： write\n"
   ]
  },
  {
   "attachments": {},
   "cell_type": "markdown",
   "metadata": {},
   "source": [
    "## 整合数据"
   ]
  },
  {
   "cell_type": "code",
   "execution_count": 34,
   "metadata": {},
   "outputs": [],
   "source": [
    "label_dic = {'++':1,'+-':2,'-+':3,'--':4,'no':0}"
   ]
  },
  {
   "cell_type": "code",
   "execution_count": 35,
   "metadata": {},
   "outputs": [],
   "source": [
    "pos_data_no_impute = np.load(\"input_data/pos_data_intra.npy\")\n",
    "pos_label_no_impute = np.load(\"input_data/pos_label_intra.npy\")\n",
    "\n",
    "neg_data_no_impute_cor = np.load(\"input_data/gm12878_data_intra_correspond_noimpute.npy\")\n",
    "neg_label_no_impute_cor = np.load(\"input_data/gm12878_label_intra_correspond_noimpute.npy\")\n",
    "\n",
    "neg_data_no_impute_loop = np.load(\"input_data/gm12878_data_intra_loop_noimpute.npy\")\n",
    "neg_label_no_impute_loop = np.load(\"input_data/gm12878_label_intra_loop_noimpute.npy\")\n",
    "\n",
    "\n",
    "pos_data_impute = np.load(\"input_data/pos_data_intra_imputation.npy\")\n",
    "pos_label_impute = np.load(\"input_data/pos_label_intra_imputation.npy\")\n",
    "\n",
    "neg_data_impute_cor = np.load(\"input_data/gm12878_data_intra_imputation_correspond.npy\")\n",
    "neg_label_impute_cor = np.load(\"input_data/gm12878_label_intra_imputation_correspond.npy\")\n",
    "\n",
    "neg_data_impute_loop = np.load(\"input_data/gm12878_data_intra_imputation_loop.npy\")\n",
    "neg_label_impute_loop = np.load(\"input_data/gm12878_label_intra_imputation_loop.npy\")"
   ]
  },
  {
   "cell_type": "code",
   "execution_count": 36,
   "metadata": {},
   "outputs": [
    {
     "name": "stdout",
     "output_type": "stream",
     "text": [
      "------raw------\n",
      "pos\n",
      "(1807, 21, 21)\n",
      "(1807,)\n",
      "neg cor region\n",
      "(1421, 21, 21)\n",
      "(1421,)\n",
      "neg loop region\n",
      "(3430, 21, 21)\n",
      "(3430,)\n",
      "-----impute------\n",
      "pos\n",
      "(8989, 21, 21)\n",
      "(8989,)\n",
      "neg cor region\n",
      "(8214, 21, 21)\n",
      "(8214,)\n",
      "neg loop region\n",
      "(3353, 21, 21)\n",
      "(3353,)\n"
     ]
    }
   ],
   "source": [
    "print(\"------raw------\")\n",
    "print(\"pos\")\n",
    "print(pos_data_no_impute.shape)\n",
    "print(pos_label_no_impute.shape)\n",
    "print(\"neg cor region\")\n",
    "print(neg_data_no_impute_cor.shape)\n",
    "print(neg_label_no_impute_cor.shape)\n",
    "print(\"neg loop region\")\n",
    "print(neg_data_no_impute_loop.shape)\n",
    "print(neg_label_no_impute_loop.shape)\n",
    "\n",
    "print(\"-----impute------\")\n",
    "print(\"pos\")\n",
    "print(pos_data_impute.shape)\n",
    "print(pos_label_impute.shape)\n",
    "print(\"neg cor region\")\n",
    "print(neg_data_impute_cor.shape)\n",
    "print(neg_label_impute_cor.shape)\n",
    "print(\"neg loop region\")\n",
    "print(neg_data_impute_loop.shape)\n",
    "print(neg_label_impute_loop.shape)"
   ]
  },
  {
   "cell_type": "code",
   "execution_count": 37,
   "metadata": {},
   "outputs": [],
   "source": [
    "all_data_no_impute = np.concatenate((pos_data_no_impute,neg_data_no_impute_cor,neg_data_no_impute_loop),axis=0)\n",
    "all_label_no_impute = np.concatenate((pos_label_no_impute,neg_label_no_impute_cor,neg_label_no_impute_loop),axis=0)\n",
    "\n",
    "all_data_impute = np.concatenate((pos_data_impute,neg_data_impute_cor,neg_data_impute_loop),axis=0)\n",
    "all_label_impute = np.concatenate((pos_label_impute,neg_label_impute_cor,neg_label_impute_loop),axis=0)"
   ]
  },
  {
   "cell_type": "code",
   "execution_count": 38,
   "metadata": {},
   "outputs": [
    {
     "name": "stdout",
     "output_type": "stream",
     "text": [
      "(6658, 21, 21)\n",
      "(6658, 1, 21, 21)\n",
      "(20556, 21, 21)\n",
      "(20556, 1, 21, 21)\n"
     ]
    }
   ],
   "source": [
    "window = 21\n",
    "print(all_data_no_impute.shape)\n",
    "all_data_no_impute = all_data_no_impute.reshape(all_data_no_impute.shape[0],1,window,window)\n",
    "print(all_data_no_impute.shape)\n",
    "\n",
    "print(all_data_impute.shape)\n",
    "all_data_impute = all_data_impute.reshape(all_data_impute.shape[0],1,window,window)\n",
    "print(all_data_impute.shape)"
   ]
  },
  {
   "cell_type": "code",
   "execution_count": 40,
   "metadata": {},
   "outputs": [],
   "source": [
    "all_label_no_impute_index = [label_dic[i] for i in all_label_no_impute]\n",
    "all_label_impute_index = [label_dic[i] for i in all_label_impute]\n",
    "print(np.unique(all_label_no_impute_index))\n",
    "print(np.unique(all_label_impute_index))"
   ]
  },
  {
   "cell_type": "code",
   "execution_count": 42,
   "metadata": {},
   "outputs": [],
   "source": [
    "np.save('input_data/data_impute.npy',all_data_impute)   \n",
    "np.save('input_data/label_impute.npy',all_label_impute_index)\n",
    "\n",
    "np.save('input_data/data_no_impute.npy',all_data_no_impute)\n",
    "np.save('input_data/label_no_impute.npy',all_label_no_impute_index)"
   ]
  }
 ],
 "metadata": {
  "kernelspec": {
   "display_name": "sv",
   "language": "python",
   "name": "python3"
  },
  "language_info": {
   "codemirror_mode": {
    "name": "ipython",
    "version": 3
   },
   "file_extension": ".py",
   "mimetype": "text/x-python",
   "name": "python",
   "nbconvert_exporter": "python",
   "pygments_lexer": "ipython3",
   "version": "3.8.13"
  },
  "orig_nbformat": 4,
  "vscode": {
   "interpreter": {
    "hash": "0c2b4c422c51196e5a13ef0382ae654019ed0bc9e75f046108fddc534a620d08"
   }
  }
 },
 "nbformat": 4,
 "nbformat_minor": 2
}
