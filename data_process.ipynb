{
 "cells": [
  {
   "cell_type": "code",
   "execution_count": 1,
   "metadata": {},
   "outputs": [],
   "source": [
    "import torch\n",
    "from torch import nn\n",
    "from torch.nn import functional as F\n",
    "from torch.utils import data # 获取迭代数据\n",
    "from torch.utils.data import Dataset,TensorDataset,DataLoader\n",
    "from torch.autograd import Variable # 获取变量\n",
    "import torch.optim as optim\n",
    "\n",
    "\n",
    "# import torchvision\n",
    "# from torchvision.datasets import mnist # 获取数据集\n",
    "# import torchvision.transforms as transforms\n",
    "\n",
    "import matplotlib.pyplot as plt\n",
    "import numpy as np\n",
    "import pandas as pd\n",
    "\n",
    "import cooler"
   ]
  },
  {
   "attachments": {},
   "cell_type": "markdown",
   "metadata": {},
   "source": [
    "## 准备数据集"
   ]
  },
  {
   "cell_type": "code",
   "execution_count": 4,
   "metadata": {},
   "outputs": [
    {
     "name": "stderr",
     "output_type": "stream",
     "text": [
      "/tmp/ipykernel_848/2570173081.py:3: DtypeWarning: Columns (0) have mixed types. Specify dtype option on import or set low_memory=False.\n",
      "  df = pd.read_csv(pair_path,compression=\"gzip\")\n"
     ]
    }
   ],
   "source": [
    "#K562的一个单细胞\n",
    "pair_path = \"raw_data/K562/GSM2109985_90_K562_SetB-40kb.csv.gz\"\n",
    "df = pd.read_csv(pair_path,compression=\"gzip\")\n",
    "\n"
   ]
  },
  {
   "cell_type": "code",
   "execution_count": 5,
   "metadata": {},
   "outputs": [
    {
     "data": {
      "text/html": [
       "<div>\n",
       "<style scoped>\n",
       "    .dataframe tbody tr th:only-of-type {\n",
       "        vertical-align: middle;\n",
       "    }\n",
       "\n",
       "    .dataframe tbody tr th {\n",
       "        vertical-align: top;\n",
       "    }\n",
       "\n",
       "    .dataframe thead th {\n",
       "        text-align: right;\n",
       "    }\n",
       "</style>\n",
       "<table border=\"1\" class=\"dataframe\">\n",
       "  <thead>\n",
       "    <tr style=\"text-align: right;\">\n",
       "      <th></th>\n",
       "      <th>chr1</th>\n",
       "      <th>chr2</th>\n",
       "      <th>start1</th>\n",
       "      <th>end1</th>\n",
       "      <th>start2</th>\n",
       "      <th>end2</th>\n",
       "      <th>count</th>\n",
       "    </tr>\n",
       "  </thead>\n",
       "  <tbody>\n",
       "    <tr>\n",
       "      <th>0</th>\n",
       "      <td>1</td>\n",
       "      <td>1</td>\n",
       "      <td>760000</td>\n",
       "      <td>800000</td>\n",
       "      <td>156040000</td>\n",
       "      <td>156080000</td>\n",
       "      <td>1</td>\n",
       "    </tr>\n",
       "    <tr>\n",
       "      <th>1</th>\n",
       "      <td>1</td>\n",
       "      <td>1</td>\n",
       "      <td>800000</td>\n",
       "      <td>840000</td>\n",
       "      <td>800000</td>\n",
       "      <td>840000</td>\n",
       "      <td>1</td>\n",
       "    </tr>\n",
       "    <tr>\n",
       "      <th>2</th>\n",
       "      <td>1</td>\n",
       "      <td>1</td>\n",
       "      <td>800000</td>\n",
       "      <td>840000</td>\n",
       "      <td>1000000</td>\n",
       "      <td>1040000</td>\n",
       "      <td>1</td>\n",
       "    </tr>\n",
       "    <tr>\n",
       "      <th>3</th>\n",
       "      <td>1</td>\n",
       "      <td>1</td>\n",
       "      <td>880000</td>\n",
       "      <td>920000</td>\n",
       "      <td>920000</td>\n",
       "      <td>960000</td>\n",
       "      <td>1</td>\n",
       "    </tr>\n",
       "    <tr>\n",
       "      <th>4</th>\n",
       "      <td>1</td>\n",
       "      <td>1</td>\n",
       "      <td>1080000</td>\n",
       "      <td>1120000</td>\n",
       "      <td>1080000</td>\n",
       "      <td>1120000</td>\n",
       "      <td>1</td>\n",
       "    </tr>\n",
       "  </tbody>\n",
       "</table>\n",
       "</div>"
      ],
      "text/plain": [
       "  chr1 chr2   start1     end1     start2       end2  count\n",
       "0    1    1   760000   800000  156040000  156080000      1\n",
       "1    1    1   800000   840000     800000     840000      1\n",
       "2    1    1   800000   840000    1000000    1040000      1\n",
       "3    1    1   880000   920000     920000     960000      1\n",
       "4    1    1  1080000  1120000    1080000    1120000      1"
      ]
     },
     "execution_count": 5,
     "metadata": {},
     "output_type": "execute_result"
    }
   ],
   "source": [
    "df.head()"
   ]
  },
  {
   "cell_type": "code",
   "execution_count": 20,
   "metadata": {},
   "outputs": [],
   "source": [
    "df['pos1'] = (df['start1'] + df['end1'] )// 2\n",
    "df['pos2'] = (df['start2'] + df['end2'] )// 2\n",
    "df = df[['chr1','pos1','chr2','pos2','count']]\n",
    "#chr1列所有元素前面加上\"chr\"\n",
    "df['chr1'] = df['chr1'].apply(lambda x: \"chr\" + str(x))\n",
    "df['chr2'] = df['chr2'].apply(lambda x: \"chr\" + str(x))"
   ]
  },
  {
   "cell_type": "code",
   "execution_count": 5,
   "metadata": {},
   "outputs": [],
   "source": [
    "df.to_csv(\"../data/GSM2109985_90_K562_SetB-40kb.pairs.gz\",sep=\"\\t\",compression=\"gzip\",index=None,header=None)"
   ]
  },
  {
   "attachments": {},
   "cell_type": "markdown",
   "metadata": {},
   "source": [
    "## 处理cool文件"
   ]
  },
  {
   "cell_type": "code",
   "execution_count": 3,
   "metadata": {},
   "outputs": [],
   "source": [
    "# cool_path='GSM2109985_90_K562_SetB-40kb.cool'\n",
    "# c = cooler.Cooler(cool_path)\n",
    "\n",
    "#通过cooler读入GSM2109985_90_K562_SetB-40kb.mcool\n",
    "c = cooler.Cooler(\"./data/GSM2109985_90_K562_SetB.mcool::/resolutions/400000\")"
   ]
  },
  {
   "cell_type": "code",
   "execution_count": 4,
   "metadata": {},
   "outputs": [
    {
     "data": {
      "text/html": [
       "<div>\n",
       "<style scoped>\n",
       "    .dataframe tbody tr th:only-of-type {\n",
       "        vertical-align: middle;\n",
       "    }\n",
       "\n",
       "    .dataframe tbody tr th {\n",
       "        vertical-align: top;\n",
       "    }\n",
       "\n",
       "    .dataframe thead th {\n",
       "        text-align: right;\n",
       "    }\n",
       "</style>\n",
       "<table border=\"1\" class=\"dataframe\">\n",
       "  <thead>\n",
       "    <tr style=\"text-align: right;\">\n",
       "      <th></th>\n",
       "      <th>chrom1</th>\n",
       "      <th>start1</th>\n",
       "      <th>end1</th>\n",
       "      <th>chrom2</th>\n",
       "      <th>start2</th>\n",
       "      <th>end2</th>\n",
       "      <th>count</th>\n",
       "    </tr>\n",
       "  </thead>\n",
       "  <tbody>\n",
       "    <tr>\n",
       "      <th>100</th>\n",
       "      <td>chr1</td>\n",
       "      <td>3200000</td>\n",
       "      <td>3600000</td>\n",
       "      <td>chr4</td>\n",
       "      <td>90000000</td>\n",
       "      <td>90400000</td>\n",
       "      <td>1</td>\n",
       "    </tr>\n",
       "    <tr>\n",
       "      <th>101</th>\n",
       "      <td>chr1</td>\n",
       "      <td>3200000</td>\n",
       "      <td>3600000</td>\n",
       "      <td>chr4</td>\n",
       "      <td>184400000</td>\n",
       "      <td>184800000</td>\n",
       "      <td>1</td>\n",
       "    </tr>\n",
       "    <tr>\n",
       "      <th>102</th>\n",
       "      <td>chr1</td>\n",
       "      <td>3200000</td>\n",
       "      <td>3600000</td>\n",
       "      <td>chr4</td>\n",
       "      <td>185600000</td>\n",
       "      <td>186000000</td>\n",
       "      <td>1</td>\n",
       "    </tr>\n",
       "    <tr>\n",
       "      <th>103</th>\n",
       "      <td>chr1</td>\n",
       "      <td>3200000</td>\n",
       "      <td>3600000</td>\n",
       "      <td>chr4</td>\n",
       "      <td>186000000</td>\n",
       "      <td>186400000</td>\n",
       "      <td>1</td>\n",
       "    </tr>\n",
       "    <tr>\n",
       "      <th>104</th>\n",
       "      <td>chr1</td>\n",
       "      <td>3200000</td>\n",
       "      <td>3600000</td>\n",
       "      <td>chrX</td>\n",
       "      <td>120400000</td>\n",
       "      <td>120800000</td>\n",
       "      <td>1</td>\n",
       "    </tr>\n",
       "    <tr>\n",
       "      <th>...</th>\n",
       "      <td>...</td>\n",
       "      <td>...</td>\n",
       "      <td>...</td>\n",
       "      <td>...</td>\n",
       "      <td>...</td>\n",
       "      <td>...</td>\n",
       "      <td>...</td>\n",
       "    </tr>\n",
       "    <tr>\n",
       "      <th>95312</th>\n",
       "      <td>chr21</td>\n",
       "      <td>46800000</td>\n",
       "      <td>47200000</td>\n",
       "      <td>chr21</td>\n",
       "      <td>46800000</td>\n",
       "      <td>47200000</td>\n",
       "      <td>2</td>\n",
       "    </tr>\n",
       "    <tr>\n",
       "      <th>95313</th>\n",
       "      <td>chr21</td>\n",
       "      <td>46800000</td>\n",
       "      <td>47200000</td>\n",
       "      <td>chr21</td>\n",
       "      <td>47200000</td>\n",
       "      <td>47600000</td>\n",
       "      <td>1</td>\n",
       "    </tr>\n",
       "    <tr>\n",
       "      <th>95314</th>\n",
       "      <td>chr21</td>\n",
       "      <td>47200000</td>\n",
       "      <td>47600000</td>\n",
       "      <td>chr21</td>\n",
       "      <td>47200000</td>\n",
       "      <td>47600000</td>\n",
       "      <td>6</td>\n",
       "    </tr>\n",
       "    <tr>\n",
       "      <th>95315</th>\n",
       "      <td>chr21</td>\n",
       "      <td>47600000</td>\n",
       "      <td>48000000</td>\n",
       "      <td>chr21</td>\n",
       "      <td>47600000</td>\n",
       "      <td>48000000</td>\n",
       "      <td>10</td>\n",
       "    </tr>\n",
       "    <tr>\n",
       "      <th>95316</th>\n",
       "      <td>chr21</td>\n",
       "      <td>48000000</td>\n",
       "      <td>48129895</td>\n",
       "      <td>chr21</td>\n",
       "      <td>48000000</td>\n",
       "      <td>48129895</td>\n",
       "      <td>1</td>\n",
       "    </tr>\n",
       "  </tbody>\n",
       "</table>\n",
       "<p>95217 rows × 7 columns</p>\n",
       "</div>"
      ],
      "text/plain": [
       "      chrom1    start1      end1 chrom2     start2       end2  count\n",
       "100     chr1   3200000   3600000   chr4   90000000   90400000      1\n",
       "101     chr1   3200000   3600000   chr4  184400000  184800000      1\n",
       "102     chr1   3200000   3600000   chr4  185600000  186000000      1\n",
       "103     chr1   3200000   3600000   chr4  186000000  186400000      1\n",
       "104     chr1   3200000   3600000   chrX  120400000  120800000      1\n",
       "...      ...       ...       ...    ...        ...        ...    ...\n",
       "95312  chr21  46800000  47200000  chr21   46800000   47200000      2\n",
       "95313  chr21  46800000  47200000  chr21   47200000   47600000      1\n",
       "95314  chr21  47200000  47600000  chr21   47200000   47600000      6\n",
       "95315  chr21  47600000  48000000  chr21   47600000   48000000     10\n",
       "95316  chr21  48000000  48129895  chr21   48000000   48129895      1\n",
       "\n",
       "[95217 rows x 7 columns]"
      ]
     },
     "execution_count": 4,
     "metadata": {},
     "output_type": "execute_result"
    }
   ],
   "source": [
    "#只选择\n",
    "c.pixels(join=True)[100:]"
   ]
  },
  {
   "cell_type": "code",
   "execution_count": 5,
   "metadata": {},
   "outputs": [
    {
     "data": {
      "text/html": [
       "<div>\n",
       "<style scoped>\n",
       "    .dataframe tbody tr th:only-of-type {\n",
       "        vertical-align: middle;\n",
       "    }\n",
       "\n",
       "    .dataframe tbody tr th {\n",
       "        vertical-align: top;\n",
       "    }\n",
       "\n",
       "    .dataframe thead th {\n",
       "        text-align: right;\n",
       "    }\n",
       "</style>\n",
       "<table border=\"1\" class=\"dataframe\">\n",
       "  <thead>\n",
       "    <tr style=\"text-align: right;\">\n",
       "      <th></th>\n",
       "      <th>chrom</th>\n",
       "      <th>start</th>\n",
       "      <th>end</th>\n",
       "    </tr>\n",
       "  </thead>\n",
       "  <tbody>\n",
       "    <tr>\n",
       "      <th>0</th>\n",
       "      <td>chr1</td>\n",
       "      <td>0</td>\n",
       "      <td>400000</td>\n",
       "    </tr>\n",
       "    <tr>\n",
       "      <th>1</th>\n",
       "      <td>chr1</td>\n",
       "      <td>400000</td>\n",
       "      <td>800000</td>\n",
       "    </tr>\n",
       "    <tr>\n",
       "      <th>2</th>\n",
       "      <td>chr1</td>\n",
       "      <td>800000</td>\n",
       "      <td>1200000</td>\n",
       "    </tr>\n",
       "    <tr>\n",
       "      <th>3</th>\n",
       "      <td>chr1</td>\n",
       "      <td>1200000</td>\n",
       "      <td>1600000</td>\n",
       "    </tr>\n",
       "    <tr>\n",
       "      <th>4</th>\n",
       "      <td>chr1</td>\n",
       "      <td>1600000</td>\n",
       "      <td>2000000</td>\n",
       "    </tr>\n",
       "    <tr>\n",
       "      <th>...</th>\n",
       "      <td>...</td>\n",
       "      <td>...</td>\n",
       "      <td>...</td>\n",
       "    </tr>\n",
       "    <tr>\n",
       "      <th>7745</th>\n",
       "      <td>chr21</td>\n",
       "      <td>46400000</td>\n",
       "      <td>46800000</td>\n",
       "    </tr>\n",
       "    <tr>\n",
       "      <th>7746</th>\n",
       "      <td>chr21</td>\n",
       "      <td>46800000</td>\n",
       "      <td>47200000</td>\n",
       "    </tr>\n",
       "    <tr>\n",
       "      <th>7747</th>\n",
       "      <td>chr21</td>\n",
       "      <td>47200000</td>\n",
       "      <td>47600000</td>\n",
       "    </tr>\n",
       "    <tr>\n",
       "      <th>7748</th>\n",
       "      <td>chr21</td>\n",
       "      <td>47600000</td>\n",
       "      <td>48000000</td>\n",
       "    </tr>\n",
       "    <tr>\n",
       "      <th>7749</th>\n",
       "      <td>chr21</td>\n",
       "      <td>48000000</td>\n",
       "      <td>48129895</td>\n",
       "    </tr>\n",
       "  </tbody>\n",
       "</table>\n",
       "<p>7750 rows × 3 columns</p>\n",
       "</div>"
      ],
      "text/plain": [
       "      chrom     start       end\n",
       "0      chr1         0    400000\n",
       "1      chr1    400000    800000\n",
       "2      chr1    800000   1200000\n",
       "3      chr1   1200000   1600000\n",
       "4      chr1   1600000   2000000\n",
       "...     ...       ...       ...\n",
       "7745  chr21  46400000  46800000\n",
       "7746  chr21  46800000  47200000\n",
       "7747  chr21  47200000  47600000\n",
       "7748  chr21  47600000  48000000\n",
       "7749  chr21  48000000  48129895\n",
       "\n",
       "[7750 rows x 3 columns]"
      ]
     },
     "execution_count": 5,
     "metadata": {},
     "output_type": "execute_result"
    }
   ],
   "source": [
    "c.bins()[:]"
   ]
  },
  {
   "cell_type": "code",
   "execution_count": 7,
   "metadata": {},
   "outputs": [],
   "source": [
    "matrix1 = c.matrix(balance=False)"
   ]
  },
  {
   "cell_type": "code",
   "execution_count": 14,
   "metadata": {},
   "outputs": [],
   "source": [
    "bin_table = c.bins()[:]"
   ]
  },
  {
   "cell_type": "code",
   "execution_count": 44,
   "metadata": {},
   "outputs": [],
   "source": [
    "window = 21\n",
    "x1 = 4940\n",
    "y1 = 4940\n",
    "x2 = x1 + window\n",
    "y2 = y1 + window\n",
    "submatrix1 = matrix1[x1:x2, y1:y2]\n",
    "#统计submatrix1中有多少0\n",
    "nozeron = np.count_nonzero(submatrix1)\n",
    "\n",
    "tmp_bin_x = bin_table.loc[x1:x2,:]\n",
    "tmp_bin_y = bin_table.loc[y1:y2,:]\n"
   ]
  },
  {
   "cell_type": "code",
   "execution_count": 45,
   "metadata": {},
   "outputs": [],
   "source": []
  },
  {
   "cell_type": "code",
   "execution_count": 42,
   "metadata": {},
   "outputs": [
    {
     "data": {
      "text/html": [
       "<div>\n",
       "<style scoped>\n",
       "    .dataframe tbody tr th:only-of-type {\n",
       "        vertical-align: middle;\n",
       "    }\n",
       "\n",
       "    .dataframe tbody tr th {\n",
       "        vertical-align: top;\n",
       "    }\n",
       "\n",
       "    .dataframe thead th {\n",
       "        text-align: right;\n",
       "    }\n",
       "</style>\n",
       "<table border=\"1\" class=\"dataframe\">\n",
       "  <thead>\n",
       "    <tr style=\"text-align: right;\">\n",
       "      <th></th>\n",
       "      <th>chrom</th>\n",
       "      <th>start</th>\n",
       "      <th>end</th>\n",
       "    </tr>\n",
       "  </thead>\n",
       "  <tbody>\n",
       "    <tr>\n",
       "      <th>4946</th>\n",
       "      <td>chr11</td>\n",
       "      <td>5200000</td>\n",
       "      <td>5600000</td>\n",
       "    </tr>\n",
       "  </tbody>\n",
       "</table>\n",
       "</div>"
      ],
      "text/plain": [
       "      chrom    start      end\n",
       "4946  chr11  5200000  5600000"
      ]
     },
     "execution_count": 42,
     "metadata": {},
     "output_type": "execute_result"
    }
   ],
   "source": [
    "bin_table[(bin_table['chrom']==\"chr11\") &(bin_table['start'] < 5312156 ) & (5312156 < bin_table['end'] )]"
   ]
  },
  {
   "cell_type": "code",
   "execution_count": 43,
   "metadata": {},
   "outputs": [
    {
     "data": {
      "text/html": [
       "<div>\n",
       "<style scoped>\n",
       "    .dataframe tbody tr th:only-of-type {\n",
       "        vertical-align: middle;\n",
       "    }\n",
       "\n",
       "    .dataframe tbody tr th {\n",
       "        vertical-align: top;\n",
       "    }\n",
       "\n",
       "    .dataframe thead th {\n",
       "        text-align: right;\n",
       "    }\n",
       "</style>\n",
       "<table border=\"1\" class=\"dataframe\">\n",
       "  <thead>\n",
       "    <tr style=\"text-align: right;\">\n",
       "      <th></th>\n",
       "      <th>chrom</th>\n",
       "      <th>start</th>\n",
       "      <th>end</th>\n",
       "    </tr>\n",
       "  </thead>\n",
       "  <tbody>\n",
       "    <tr>\n",
       "      <th>4946</th>\n",
       "      <td>chr11</td>\n",
       "      <td>5200000</td>\n",
       "      <td>5600000</td>\n",
       "    </tr>\n",
       "  </tbody>\n",
       "</table>\n",
       "</div>"
      ],
      "text/plain": [
       "      chrom    start      end\n",
       "4946  chr11  5200000  5600000"
      ]
     },
     "execution_count": 43,
     "metadata": {},
     "output_type": "execute_result"
    }
   ],
   "source": [
    "bin_table[(bin_table['chrom']==\"chr11\") &(bin_table['start'] < 5443877 ) & (5443877 < bin_table['end'] )]"
   ]
  },
  {
   "attachments": {},
   "cell_type": "markdown",
   "metadata": {},
   "source": [
    "### label"
   ]
  },
  {
   "cell_type": "code",
   "execution_count": 2,
   "metadata": {},
   "outputs": [],
   "source": [
    "sv_list = pd.read_csv(\"./data/sv_list.csv\")\n",
    "k562_list = sv_list[sv_list['Cell Line']==\"K562\"]"
   ]
  },
  {
   "cell_type": "code",
   "execution_count": 50,
   "metadata": {},
   "outputs": [],
   "source": [
    "def determine_label(tmp_bin_x,tmp_bin_y,k562_list):\n",
    "    label = \"no\"\n",
    "    for i in range(len(tmp_bin_x)):\n",
    "        chr1 = tmp_bin_x['chrom'].iat[i]\n",
    "        start1 = tmp_bin_x['start'].iat[i]\n",
    "        end1 = tmp_bin_x['end'].iat[i]\n",
    "        for j in range(len(tmp_bin_y)):\n",
    "            chr2 = tmp_bin_y['chrom'].iat[j]\n",
    "            start2 = tmp_bin_y['start'].iat[j]\n",
    "            end2 = tmp_bin_y['end'].iat[j]\n",
    "\n",
    "            for m in range(len(k562_list)):\n",
    "                chrom1 = k562_list['chrom1'].iat[m]\n",
    "                chrom2 = k562_list['chrom2'].iat[m]\n",
    "                breakpoint1 = k562_list['breakpoint1'].iat[m]\n",
    "                breakpoint2 = k562_list['breakpoint2'].iat[m]\n",
    "                string = k562_list['strands'].iat[m]\n",
    "                if (chr1 == chrom1 and chr2==chrom2 and (breakpoint1 > start1 and breakpoint1<end1) and (breakpoint2 > start2 and breakpoint2<end2) ):\n",
    "                    label = string\n",
    "                    break\n",
    "                elif (chr1 == chrom2 and chr2==chrom1 and (breakpoint1 > start2 and breakpoint1<end2) and (breakpoint2 > start1 and breakpoint2<end1)):\n",
    "                    label = string\n",
    "                    break\n",
    "            if label != \"no\":\n",
    "                break\n",
    "        if label != \"no\":\n",
    "            break\n",
    "    return label\n",
    "\n",
    "          "
   ]
  },
  {
   "cell_type": "code",
   "execution_count": 48,
   "metadata": {},
   "outputs": [
    {
     "data": {
      "text/plain": [
       "'+-'"
      ]
     },
     "execution_count": 48,
     "metadata": {},
     "output_type": "execute_result"
    }
   ],
   "source": [
    "label"
   ]
  },
  {
   "cell_type": "code",
   "execution_count": 23,
   "metadata": {},
   "outputs": [],
   "source": [
    "#矩阵数据\n",
    "#生成100*1*21*21的随机tensor\n",
    "x = torch.randn(100,1,21,21)\n"
   ]
  },
  {
   "cell_type": "code",
   "execution_count": 96,
   "metadata": {},
   "outputs": [],
   "source": []
  },
  {
   "cell_type": "code",
   "execution_count": 135,
   "metadata": {},
   "outputs": [],
   "source": [
    "#找到有label对应的位置\n",
    "pos_data_list = []\n",
    "pos_label_list = []\n",
    "\n",
    "for i in range(len(k562_list)):\n",
    "    chrom1 = k562_list['chrom1'].iat[i]\n",
    "    chrom2 = k562_list['chrom2'].iat[i]\n",
    "    breakpoint1 = k562_list['breakpoint1'].iat[i]\n",
    "    breakpoint2 = k562_list['breakpoint2'].iat[i]\n",
    "    string = k562_list['strands'].iat[i]\n",
    "\n",
    "    #找到对应的bin\n",
    "    bin1 = bin_table[(bin_table['chrom']==chrom1) &(bin_table['start'] < breakpoint1 ) & (breakpoint1 < bin_table['end'] )]\n",
    "    bin2 = bin_table[(bin_table['chrom']==chrom2) &(bin_table['start'] < breakpoint2 ) & (breakpoint2 < bin_table['end'] )]\n",
    "\n",
    "    #找到对应的matrix\n",
    "    x1 = bin1.index[0]\n",
    "    y1 = bin2.index[0]\n",
    "\n",
    "    x2 = x1 + window\n",
    "    y2 = y1 + window\n",
    "    submatrix = matrix1[x1:x2, y1:y2]\n",
    "\n",
    "    #pos_data_list中添加submatrix\n",
    "    pos_data_list.append(submatrix)\n",
    "    pos_label_list.append(string)\n",
    "\n"
   ]
  },
  {
   "cell_type": "code",
   "execution_count": 126,
   "metadata": {},
   "outputs": [],
   "source": [
    "#很少，但是先这样吧\n",
    "neg_data_list = []\n",
    "neg_label_list = []\n",
    "\n",
    "\n",
    "sample_x1=np.random.randint(7000, size=(50))\n",
    "sample_y1=np.random.randint(7000, size=(50))\n",
    "sample_x2 = sample_x1 + window\n",
    "sample_y2 = sample_y1 + window\n",
    "\n",
    "for x,y in zip(sample_x1,sample_y1):\n",
    "    submatrix = matrix1[x:x+window, y:y+window]\n",
    "    nozeron = np.count_nonzero(submatrix)\n",
    "    tmp_bin_x = bin_table.loc[x:x+window,:]\n",
    "    tmp_bin_y = bin_table.loc[y:y+window,:]\n",
    "    #得到标签\n",
    "    label = determine_label(tmp_bin_x,tmp_bin_y,k562_list)\n",
    "    if(nozeron>5):\n",
    "        neg_data_list.append(submatrix)\n",
    "        neg_label_list.append(label)\n"
   ]
  },
  {
   "cell_type": "code",
   "execution_count": 136,
   "metadata": {},
   "outputs": [],
   "source": [
    "all_data = pos_data_list + neg_data_list\n",
    "all_label = pos_label_list + neg_label_list"
   ]
  },
  {
   "cell_type": "code",
   "execution_count": 13,
   "metadata": {},
   "outputs": [],
   "source": [
    "# 保存\n",
    "# a=np.array(all_data)\n",
    "np.save('data/data.npy',a)   # 保存为.npy格式\n",
    "# b = np.array(all_label)\n",
    "\n",
    "# 读取\n"
   ]
  },
  {
   "cell_type": "code",
   "execution_count": 3,
   "metadata": {},
   "outputs": [],
   "source": [
    "a = np.load('data/data.npy')"
   ]
  },
  {
   "cell_type": "code",
   "execution_count": 16,
   "metadata": {},
   "outputs": [],
   "source": [
    "a = a.reshape(47,1,21,21)"
   ]
  },
  {
   "cell_type": "code",
   "execution_count": 12,
   "metadata": {},
   "outputs": [],
   "source": [
    "#a转成float\n",
    "a = a.astype(np.float32)"
   ]
  },
  {
   "cell_type": "code",
   "execution_count": 189,
   "metadata": {},
   "outputs": [
    {
     "data": {
      "text/plain": [
       "array(['++', '+-', '-+', '--', 'no'], dtype='<U2')"
      ]
     },
     "execution_count": 189,
     "metadata": {},
     "output_type": "execute_result"
    }
   ],
   "source": [
    "np.unique(b)"
   ]
  },
  {
   "cell_type": "code",
   "execution_count": 191,
   "metadata": {},
   "outputs": [],
   "source": [
    "label_dic = {'++':0,'+-':1,'-+':2,'--':3,'no':4}"
   ]
  },
  {
   "cell_type": "code",
   "execution_count": 192,
   "metadata": {},
   "outputs": [],
   "source": [
    "#将b按照label_dic转成对应int\n",
    "b = [label_dic[i] for i in b]"
   ]
  },
  {
   "cell_type": "code",
   "execution_count": 194,
   "metadata": {},
   "outputs": [],
   "source": [
    "np.save('data/label.npy',b)"
   ]
  },
  {
   "cell_type": "code",
   "execution_count": 149,
   "metadata": {},
   "outputs": [],
   "source": [
    "a_tensor = torch.tensor(a,dtype=float)"
   ]
  },
  {
   "cell_type": "code",
   "execution_count": 153,
   "metadata": {},
   "outputs": [],
   "source": [
    "a_tensor = a_tensor.reshape(47,1,21,21)"
   ]
  },
  {
   "cell_type": "code",
   "execution_count": 160,
   "metadata": {},
   "outputs": [],
   "source": [
    "#save a_tensor\n",
    "\n",
    "torch.save(a_tensor, \"data/data.pt\")\n",
    "\n",
    "\n",
    "\n"
   ]
  },
  {
   "cell_type": "code",
   "execution_count": 161,
   "metadata": {},
   "outputs": [],
   "source": [
    "y = torch.load(\"data/data.pt\")"
   ]
  },
  {
   "cell_type": "code",
   "execution_count": 163,
   "metadata": {},
   "outputs": [
    {
     "data": {
      "text/plain": [
       "torch.Size([47, 1, 21, 21])"
      ]
     },
     "execution_count": 163,
     "metadata": {},
     "output_type": "execute_result"
    }
   ],
   "source": [
    "y.shape"
   ]
  },
  {
   "cell_type": "code",
   "execution_count": 201,
   "metadata": {},
   "outputs": [],
   "source": [
    "class CustomDataset_attr(Dataset):\n",
    "    \"\"\"\n",
    "    自定义数据集，用于读取celebA数据集中的属性识别（attribute recognition）数据的标签和图像\n",
    "    图像格式为jpg\n",
    "    \"\"\"\n",
    "    \n",
    "    def __init__(self,label_file, data_file, transform = None):\n",
    "    \n",
    "        super().__init__()\n",
    "        self.attr_ = np.load(label_file).tolist()\n",
    "        self.label_file = label_file\n",
    "        self.data_file = data_file\n",
    "        self.transform = transform\n",
    "    \n",
    "    def __len__(self):\n",
    "        #展示数据中总共有多少个样本\n",
    "        print(\"hi\")\n",
    "        return len(self.attr_)\n",
    "    \n",
    "    def __info__(self):\n",
    "        print(\"CustomData\")\n",
    "        print(\"\\t Number of samples: {}\".format(len(self.attr_)-1))\n",
    "\n",
    "    \n",
    "    def __getitem__(self,idx):\n",
    "        #保证idx不是一个tensor\n",
    "        if torch.is_tensor(idx):\n",
    "            idx = idx.tolist()\n",
    "        \n",
    "        self.attr_ = np.load(self.label_file).tolist()\n",
    "        #加载tensor\n",
    "        image = torch.load(self.data_file)[idx]\n",
    "        label = int(self.attr_[idx])\n",
    "        \n",
    "        if self.transform != None:\n",
    "            image = self.transform(image)\n",
    "            \n",
    "        sample = (image,label)\n",
    "        return sample"
   ]
  },
  {
   "cell_type": "code",
   "execution_count": 200,
   "metadata": {},
   "outputs": [],
   "source": [
    "\n",
    "label_file = 'data/label.npy'\n",
    "data_file = 'data/data.pt' #tensor\n",
    "\n",
    "data = CustomDataset_attr(label_file,data_file,transform=None)"
   ]
  },
  {
   "cell_type": "code",
   "execution_count": null,
   "metadata": {},
   "outputs": [],
   "source": []
  }
 ],
 "metadata": {
  "kernelspec": {
   "display_name": "sv",
   "language": "python",
   "name": "python3"
  },
  "language_info": {
   "codemirror_mode": {
    "name": "ipython",
    "version": 3
   },
   "file_extension": ".py",
   "mimetype": "text/x-python",
   "name": "python",
   "nbconvert_exporter": "python",
   "pygments_lexer": "ipython3",
   "version": "3.8.15"
  },
  "orig_nbformat": 4,
  "vscode": {
   "interpreter": {
    "hash": "0c2b4c422c51196e5a13ef0382ae654019ed0bc9e75f046108fddc534a620d08"
   }
  }
 },
 "nbformat": 4,
 "nbformat_minor": 2
}
