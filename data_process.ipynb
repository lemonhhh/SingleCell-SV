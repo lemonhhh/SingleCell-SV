{
 "cells": [
  {
   "cell_type": "code",
   "execution_count": 5,
   "metadata": {},
   "outputs": [],
   "source": [
    "import os\n",
    "\n",
    "import torch\n",
    "from torch import nn\n",
    "from torch.nn import functional as F\n",
    "from torch.utils import data # 获取迭代数据\n",
    "from torch.utils.data import Dataset,TensorDataset,DataLoader\n",
    "from torch.autograd import Variable # 获取变量\n",
    "\n",
    "\n",
    "\n",
    "import matplotlib.pyplot as plt\n",
    "import seaborn as sns\n",
    "\n",
    "import numpy as np\n",
    "import pandas as pd\n",
    "\n",
    "import cooler\n",
    "\n"
   ]
  },
  {
   "attachments": {},
   "cell_type": "markdown",
   "metadata": {},
   "source": [
    "## pos data"
   ]
  },
  {
   "cell_type": "code",
   "execution_count": 6,
   "metadata": {},
   "outputs": [],
   "source": [
    "sv_list = pd.read_csv(\"./ref_data/sv_list.csv\")\n",
    "k562_list = sv_list[sv_list['Cell Line']==\"K562\"]"
   ]
  },
  {
   "cell_type": "code",
   "execution_count": 14,
   "metadata": {},
   "outputs": [
    {
     "data": {
      "text/plain": [
       "(36, 6)"
      ]
     },
     "execution_count": 14,
     "metadata": {},
     "output_type": "execute_result"
    }
   ],
   "source": [
    "k562_list[k562_list['chrom1']==k562_list['chrom2']].shape\n",
    "\n",
    "\n"
   ]
  },
  {
   "cell_type": "code",
   "execution_count": 15,
   "metadata": {},
   "outputs": [],
   "source": [
    "#列出raw_data/K562/cooler/文件夹下所有的文件\n",
    "file_list = os.listdir(\"./raw_data/scihic/K562/cooler/\")\n",
    "#读取所有的mcool文件\n",
    "mcool_list = [i for i in file_list if i.endswith(\".mcool\")]\n",
    "#读取所有文件名中不包含bulk的\n"
   ]
  },
  {
   "cell_type": "code",
   "execution_count": 96,
   "metadata": {},
   "outputs": [],
   "source": [
    "def get_pos_submatrix(clr,window,label_list):\n",
    "    bin_table = clr.bins()[:]\n",
    "    #找到有label对应的位置\n",
    "    pos_data_list = []\n",
    "    pos_label_list = []\n",
    "    \n",
    "    for i in range(len(label_list)):\n",
    "        chrom1 = label_list['chrom1'].iat[i]\n",
    "        chrom2 = label_list['chrom2'].iat[i]\n",
    "        breakpoint1 = label_list['breakpoint1'].iat[i]\n",
    "        breakpoint2 = label_list['breakpoint2'].iat[i]\n",
    "        string = label_list['strands'].iat[i]\n",
    "\n",
    "        #找到对应的bin\n",
    "        bin1 = bin_table[(bin_table['chrom']==chrom1) &(bin_table['start'] < breakpoint1 ) & (breakpoint1 < bin_table['end'] )]\n",
    "        bin2 = bin_table[(bin_table['chrom']==chrom2) &(bin_table['start'] < breakpoint2 ) & (breakpoint2 < bin_table['end'] )]\n",
    "\n",
    "        #找到对应的matrix\n",
    "        x_c = bin1.index[0]#得到的是索引\n",
    "        y_c = bin2.index[0]\n",
    "\n",
    "        x1 = x_c - int((window-1)/2)\n",
    "        x2 = x_c + int((window-1)/2)\n",
    "        y1 = y_c - int((window-1)/2)\n",
    "        y2 = y_c + int((window-1)/2)\n",
    "        \n",
    "        #取对应的区域\n",
    "        submatrix = clr.matrix(balance=False)[x1:x2+1, y1:y2+1]\n",
    "        #pos_data_list中添加submatrix\n",
    "        pos_data_list.append(submatrix)\n",
    "        pos_label_list.append(string)\n",
    "\n",
    "    return pos_data_list,pos_label_list\n",
    "\n"
   ]
  },
  {
   "cell_type": "code",
   "execution_count": 97,
   "metadata": {},
   "outputs": [],
   "source": [
    "resolution = 200000\n",
    "window = 21\n",
    "cool_dir = \"raw_data/scihic/K562/cooler/\"\n",
    "#读取所有的mcool文件\n",
    "pos_data_list = []\n",
    "pos_label_list = []\n",
    "for mc in mcool_list:\n",
    "    clr = cooler.Cooler(cool_dir+mc+\"::/resolutions/\"+str(resolution))\n",
    "    sc_pos_data_list,sc_pos_label_list = get_pos_submatrix(clr,window,k562_list) \n",
    "    pos_data_list.append(sc_pos_data_list)\n",
    "    pos_label_list.append(sc_pos_label_list)\n",
    "\n",
    "    \n",
    "pos_data_list = [item for sublist in pos_data_list for item in sublist]\n",
    "pos_label_list = [item for sublist in pos_label_list for item in sublist]\n",
    "pos_data_list = np.array(pos_data_list)\n",
    "pos_label_list = np.array(pos_label_list)\n",
    "#数据类型转换\n",
    "pos_data_list = pos_data_list.astype(np.float32)\n",
    "#保存\n",
    "np.save(\"input_data/pos_data_list.npy\",pos_data_list)\n",
    "np.save(\"input_data/pos_label_list.npy\",pos_label_list)\n"
   ]
  },
  {
   "cell_type": "code",
   "execution_count": 98,
   "metadata": {},
   "outputs": [],
   "source": [
    "pos_data_list = np.load(\"input_data/pos_data_list.npy\")\n",
    "pos_label_list = np.load(\"input_data/pos_label_list.npy\")"
   ]
  },
  {
   "cell_type": "code",
   "execution_count": 99,
   "metadata": {},
   "outputs": [
    {
     "data": {
      "text/plain": [
       "(14784, 21, 21)"
      ]
     },
     "execution_count": 99,
     "metadata": {},
     "output_type": "execute_result"
    }
   ],
   "source": [
    "pos_data_list.shape"
   ]
  },
  {
   "attachments": {},
   "cell_type": "markdown",
   "metadata": {},
   "source": [
    "## neg data"
   ]
  },
  {
   "cell_type": "code",
   "execution_count": 100,
   "metadata": {},
   "outputs": [],
   "source": [
    "#列出raw_data/K562/cooler/文件夹下所有的文件\n",
    "gm12878_file_list = os.listdir(\"./raw_data/scihic/GM12878/cooler/\")\n",
    "#读取所有的mcool文件\n",
    "gm12878_mcool_list = [i for i in gm12878_file_list if i.endswith(\".mcool\")]\n",
    "\n"
   ]
  },
  {
   "cell_type": "code",
   "execution_count": 117,
   "metadata": {},
   "outputs": [],
   "source": [
    "\n",
    "def get_matrix_gm12878(num_sample,window,clr):\n",
    "    rand_data_list = []\n",
    "    rand_label_list = []\n",
    "    for i in range(num_sample):\n",
    "        whole_matrix = clr.matrix(balance=False)[:]\n",
    "        x = np.random.randint(0,whole_matrix.shape[0]-window)\n",
    "        y = np.random.randint(0,whole_matrix.shape[1]-window)\n",
    "        submatrix = whole_matrix[x:x+window,y:y+window]\n",
    "        rand_data_list.append(submatrix)\n",
    "        label = \"no\"\n",
    "        rand_label_list.append(label)\n",
    "    return rand_data_list,rand_label_list\n"
   ]
  },
  {
   "cell_type": "code",
   "execution_count": 118,
   "metadata": {},
   "outputs": [],
   "source": [
    "cool_dir = \"raw_data/scihic/GM12878/cooler/\"\n",
    "resolution = 200000\n",
    "window = 21\n",
    "num = 5\n",
    "\n",
    "neg12878_data_list = []\n",
    "neg12878_label_list = []\n",
    "\n",
    "for mc in gm12878_mcool_list:\n",
    "    clr = cooler.Cooler(cool_dir+mc+\"::/resolutions/\"+str(resolution))\n",
    "    sc_neg_data_list,sc_neg_label_list = get_matrix_gm12878(num,window,clr)\n",
    "    neg12878_data_list.append(sc_neg_data_list)\n",
    "    neg12878_label_list.append(sc_neg_label_list)"
   ]
  },
  {
   "cell_type": "code",
   "execution_count": 124,
   "metadata": {},
   "outputs": [],
   "source": [
    "neg12878_data_list = [item for sublist in neg12878_data_list for item in sublist]\n",
    "neg12878_label_list = [item for sublist in neg12878_label_list for item in sublist]\n",
    "neg12878_data_list = np.array(neg12878_data_list)\n",
    "neg12878_label_list = np.array(neg12878_label_list)\n",
    "#数据类型\n",
    "neg12878_data_list = neg12878_data_list.astype(np.float32)\n",
    "#保存\n",
    "np.save(\"input_data/neg12878_data_list.npy\",neg12878_data_list)\n",
    "np.save(\"input_data/neg12878_label_list.npy\",neg12878_label_list)"
   ]
  },
  {
   "cell_type": "code",
   "execution_count": 127,
   "metadata": {},
   "outputs": [],
   "source": [
    "def determine_label(tmp_bin_x,tmp_bin_y,k562_list):\n",
    "    \n",
    "    label = \"no\"\n",
    "    for i in range(len(tmp_bin_x)):\n",
    "        chr1 = tmp_bin_x['chrom'].iat[i]\n",
    "        start1 = tmp_bin_x['start'].iat[i]\n",
    "        end1 = tmp_bin_x['end'].iat[i]\n",
    "        for j in range(len(tmp_bin_y)):\n",
    "            chr2 = tmp_bin_y['chrom'].iat[j]\n",
    "            start2 = tmp_bin_y['start'].iat[j]\n",
    "            end2 = tmp_bin_y['end'].iat[j]\n",
    "\n",
    "            for m in range(len(k562_list)):\n",
    "                chrom1 = k562_list['chrom1'].iat[m]\n",
    "                chrom2 = k562_list['chrom2'].iat[m]\n",
    "                breakpoint1 = k562_list['breakpoint1'].iat[m]\n",
    "                breakpoint2 = k562_list['breakpoint2'].iat[m]\n",
    "                string = k562_list['strands'].iat[m]\n",
    "                if (chr1 == chrom1 and chr2==chrom2 and (breakpoint1 > start1 and breakpoint1<end1) and (breakpoint2 > start2 and breakpoint2<end2) ):\n",
    "                    label = string\n",
    "                    break\n",
    "                elif (chr1 == chrom2 and chr2==chrom1 and (breakpoint1 > start2 and breakpoint1<end2) and (breakpoint2 > start1 and breakpoint2<end1)):\n",
    "                    label = string\n",
    "                    break\n",
    "            if label != \"no\":\n",
    "                break\n",
    "        if label != \"no\":\n",
    "            break\n",
    "    return label\n",
    "\n",
    "          "
   ]
  },
  {
   "cell_type": "code",
   "execution_count": 126,
   "metadata": {},
   "outputs": [],
   "source": [
    "#从K562中获得\n",
    "#很少，但吧\n",
    "neg_data_list = []\n",
    "neg_label_list = []\n",
    "\n",
    "\n",
    "sample_x1=np.random.randint(7000, size=(50))\n",
    "sample_y1=np.random.randint(7000, size=(50))\n",
    "sample_x2 = sample_x1 + window\n",
    "sample_y2 = sample_y1 + window\n",
    "\n",
    "for x,y in zip(sample_x1,sample_y1):\n",
    "    submatrix = matrix1[x:x+window, y:y+window]\n",
    "    nozeron = np.count_nonzero(submatrix)\n",
    "    tmp_bin_x = bin_table.loc[x:x+window,:]\n",
    "    tmp_bin_y = bin_table.loc[y:y+window,:]\n",
    "    #得到标签\n",
    "    label = determine_label(tmp_bin_x,tmp_bin_y,k562_list)\n",
    "\n",
    "    neg_data_list.append(submatrix)\n",
    "    neg_label_list.append(label)\n"
   ]
  },
  {
   "cell_type": "code",
   "execution_count": 128,
   "metadata": {},
   "outputs": [],
   "source": [
    "all_data = np.concatenate((pos_data_list,neg12878_data_list),axis=0)\n",
    "all_label = np.concatenate((pos_label_list,neg12878_label_list),axis=0)"
   ]
  },
  {
   "cell_type": "code",
   "execution_count": 129,
   "metadata": {},
   "outputs": [],
   "source": [
    "all_data = all_data.reshape(all_data.shape[0],1,window,window)"
   ]
  },
  {
   "cell_type": "code",
   "execution_count": 130,
   "metadata": {},
   "outputs": [
    {
     "data": {
      "text/plain": [
       "(16494, 1, 21, 21)"
      ]
     },
     "execution_count": 130,
     "metadata": {},
     "output_type": "execute_result"
    }
   ],
   "source": [
    "all_data.shape"
   ]
  },
  {
   "cell_type": "code",
   "execution_count": 41,
   "metadata": {},
   "outputs": [],
   "source": [
    "np.save('input_data/data.npy',all_data)   # 保存为.npy格式"
   ]
  },
  {
   "cell_type": "code",
   "execution_count": 44,
   "metadata": {},
   "outputs": [],
   "source": [
    "label_dic = {'++':0,'+-':1,'-+':2,'--':3,'no':4}"
   ]
  },
  {
   "cell_type": "code",
   "execution_count": 46,
   "metadata": {},
   "outputs": [],
   "source": [
    "#将b按照label_dic转成对应int\n",
    "all_label_index = [label_dic[i] for i in all_label]\n",
    "np.save('input_data/label.npy',all_label_index)"
   ]
  }
 ],
 "metadata": {
  "kernelspec": {
   "display_name": "sv",
   "language": "python",
   "name": "python3"
  },
  "language_info": {
   "codemirror_mode": {
    "name": "ipython",
    "version": 3
   },
   "file_extension": ".py",
   "mimetype": "text/x-python",
   "name": "python",
   "nbconvert_exporter": "python",
   "pygments_lexer": "ipython3",
   "version": "3.8.15"
  },
  "orig_nbformat": 4,
  "vscode": {
   "interpreter": {
    "hash": "0c2b4c422c51196e5a13ef0382ae654019ed0bc9e75f046108fddc534a620d08"
   }
  }
 },
 "nbformat": 4,
 "nbformat_minor": 2
}
