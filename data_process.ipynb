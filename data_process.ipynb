{
 "cells": [
  {
   "cell_type": "code",
   "execution_count": 1,
   "metadata": {},
   "outputs": [],
   "source": [
    "import os\n",
    "\n",
    "import torch\n",
    "from torch import nn\n",
    "from torch.nn import functional as F\n",
    "from torch.utils import data # 获取迭代数据\n",
    "from torch.utils.data import Dataset,TensorDataset,DataLoader\n",
    "from torch.autograd import Variable # 获取变量\n",
    "\n",
    "\n",
    "\n",
    "import matplotlib.pyplot as plt\n",
    "import seaborn as sns\n",
    "\n",
    "import numpy as np\n",
    "import pandas as pd\n",
    "\n",
    "import cooler\n",
    "import cooltools\n"
   ]
  },
  {
   "cell_type": "code",
   "execution_count": 8,
   "metadata": {},
   "outputs": [],
   "source": [
    "# cool_path='raw_data/K562/cooler/GSM2109985_90_K562_SetB-40kb.cool'\n",
    "# clr = cooler.Cooler(cool_path)\n",
    "\n",
    "#通过cooler读入GSM2109985_90_K562_SetB-40kb.mcool\n",
    "clr = cooler.Cooler(\"raw_data/K562/cooler/GSM2109974_79_K562_SetB.mcool::/resolutions/120000\")"
   ]
  },
  {
   "cell_type": "code",
   "execution_count": 19,
   "metadata": {},
   "outputs": [],
   "source": [
    "chromstarts = []\n",
    "for i in clr.chromnames:\n",
    "    # print(f'{i} : {clr.extent(i)}')\n",
    "    chromstarts.append(clr.extent(i)[0])"
   ]
  },
  {
   "cell_type": "code",
   "execution_count": 18,
   "metadata": {},
   "outputs": [],
   "source": [
    "# f, ax = plt.subplots(\n",
    "#     figsize=(7,6))\n",
    "# im = ax.matshow((clr.matrix(balance=False).fetch('chr1')[:]),vmax=5);\n",
    "# plt.colorbar(im ,fraction=0.046, pad=0.04, label='raw counts')\n",
    "# ax.set(xticks=chromstarts, xticklabels=clr.chromnames,\n",
    "#        xlabel='position, chrom#', ylabel='position, bin#')\n",
    "# ax.xaxis.set_label_position('top')"
   ]
  },
  {
   "attachments": {},
   "cell_type": "markdown",
   "metadata": {},
   "source": [
    "## pos data"
   ]
  },
  {
   "cell_type": "code",
   "execution_count": 20,
   "metadata": {},
   "outputs": [],
   "source": [
    "sv_list = pd.read_csv(\"./ref_data/sv_list.csv\")\n",
    "k562_list = sv_list[sv_list['Cell Line']==\"K562\"]"
   ]
  },
  {
   "cell_type": "code",
   "execution_count": 71,
   "metadata": {},
   "outputs": [],
   "source": [
    "#列出raw_data/K562/cooler/文件夹下所有的文件\n",
    "file_list = os.listdir(\"./raw_data/K562/cooler/\")\n",
    "#读取所有的mcool文件\n",
    "mcool_list = [i for i in file_list if i.endswith(\".mcool\")]\n",
    "#读取所有文件名中不包含bulk的\n",
    "sc_mcool_list = [i for i in mcool_list if \"bulk\" not in i] #total 34"
   ]
  },
  {
   "cell_type": "code",
   "execution_count": 86,
   "metadata": {},
   "outputs": [],
   "source": [
    "def get_pos_submatrix(clr,window,label_list):\n",
    "    bin_table = clr.bins()[:]\n",
    "    #找到有label对应的位置\n",
    "    pos_data_list = []\n",
    "    pos_label_list = []\n",
    "    \n",
    "    for i in range(len(label_list)):\n",
    "        chrom1 = label_list['chrom1'].iat[i]\n",
    "        chrom2 = label_list['chrom2'].iat[i]\n",
    "        breakpoint1 = label_list['breakpoint1'].iat[i]\n",
    "        breakpoint2 = label_list['breakpoint2'].iat[i]\n",
    "        string = label_list['strands'].iat[i]\n",
    "\n",
    "        #找到对应的bin\n",
    "        bin1 = bin_table[(bin_table['chrom']==chrom1) &(bin_table['start'] < breakpoint1 ) & (breakpoint1 < bin_table['end'] )]\n",
    "        bin2 = bin_table[(bin_table['chrom']==chrom2) &(bin_table['start'] < breakpoint2 ) & (breakpoint2 < bin_table['end'] )]\n",
    "\n",
    "        #找到对应的matrix\n",
    "        x1 = bin1.index[0]#得到的是索引\n",
    "        y1 = bin2.index[0]\n",
    "\n",
    "        x2 = x1 + window\n",
    "        y2 = y1 + window\n",
    "        submatrix = clr.matrix(balance=False)[x1:x2, y1:y2]\n",
    "        #pos_data_list中添加submatrix\n",
    "        pos_data_list.append(submatrix)\n",
    "        pos_label_list.append(string)\n",
    "\n",
    "    return pos_data_list,pos_label_list\n",
    "\n"
   ]
  },
  {
   "cell_type": "code",
   "execution_count": 104,
   "metadata": {},
   "outputs": [],
   "source": [
    "resolution = 120000\n",
    "window = 28\n",
    "cool_dir = \"raw_data/K562/cooler/\"\n",
    "#读取所有的mcool文件\n",
    "pos_data_list = []\n",
    "pos_label_list = []\n",
    "for mc in sc_mcool_list:\n",
    "    clr = cooler.Cooler(cool_dir+mc+\"::/resolutions/\"+str(resolution))\n",
    "    sc_pos_data_list,sc_pos_label_list = get_pos_submatrix(clr,window,k562_list) \n",
    "    pos_data_list.append(sc_pos_data_list)\n",
    "    pos_label_list.append(sc_pos_label_list)\n",
    "pos_data_list = [item for sublist in pos_data_list for item in sublist]\n",
    "pos_label_list = [item for sublist in pos_label_list for item in sublist]\n",
    "pos_data_list = np.array(pos_data_list)\n",
    "pos_label_list = np.array(pos_label_list)\n",
    "#数据类型转换\n",
    "pos_data_list = pos_data_list.astype(np.float32)\n",
    "#保存\n",
    "np.save(\"input_data/pos_data_list.npy\",pos_data_list)\n",
    "np.save(\"input_data/pos_label_list.npy\",pos_label_list)\n"
   ]
  },
  {
   "attachments": {},
   "cell_type": "markdown",
   "metadata": {},
   "source": [
    "## neg data"
   ]
  },
  {
   "cell_type": "code",
   "execution_count": null,
   "metadata": {},
   "outputs": [],
   "source": [
    "def determine_label(tmp_bin_x,tmp_bin_y,k562_list):\n",
    "    \n",
    "    label = \"no\"\n",
    "    for i in range(len(tmp_bin_x)):\n",
    "        chr1 = tmp_bin_x['chrom'].iat[i]\n",
    "        start1 = tmp_bin_x['start'].iat[i]\n",
    "        end1 = tmp_bin_x['end'].iat[i]\n",
    "        for j in range(len(tmp_bin_y)):\n",
    "            chr2 = tmp_bin_y['chrom'].iat[j]\n",
    "            start2 = tmp_bin_y['start'].iat[j]\n",
    "            end2 = tmp_bin_y['end'].iat[j]\n",
    "\n",
    "            for m in range(len(k562_list)):\n",
    "                chrom1 = k562_list['chrom1'].iat[m]\n",
    "                chrom2 = k562_list['chrom2'].iat[m]\n",
    "                breakpoint1 = k562_list['breakpoint1'].iat[m]\n",
    "                breakpoint2 = k562_list['breakpoint2'].iat[m]\n",
    "                string = k562_list['strands'].iat[m]\n",
    "                if (chr1 == chrom1 and chr2==chrom2 and (breakpoint1 > start1 and breakpoint1<end1) and (breakpoint2 > start2 and breakpoint2<end2) ):\n",
    "                    label = string\n",
    "                    break\n",
    "                elif (chr1 == chrom2 and chr2==chrom1 and (breakpoint1 > start2 and breakpoint1<end2) and (breakpoint2 > start1 and breakpoint2<end1)):\n",
    "                    label = string\n",
    "                    break\n",
    "            if label != \"no\":\n",
    "                break\n",
    "        if label != \"no\":\n",
    "            break\n",
    "    return label\n",
    "\n",
    "          "
   ]
  },
  {
   "cell_type": "code",
   "execution_count": 126,
   "metadata": {},
   "outputs": [],
   "source": [
    "#很少，但吧\n",
    "neg_data_list = []\n",
    "neg_label_list = []\n",
    "\n",
    "\n",
    "sample_x1=np.random.randint(7000, size=(50))\n",
    "sample_y1=np.random.randint(7000, size=(50))\n",
    "sample_x2 = sample_x1 + window\n",
    "sample_y2 = sample_y1 + window\n",
    "\n",
    "for x,y in zip(sample_x1,sample_y1):\n",
    "    submatrix = matrix1[x:x+window, y:y+window]\n",
    "    nozeron = np.count_nonzero(submatrix)\n",
    "    tmp_bin_x = bin_table.loc[x:x+window,:]\n",
    "    tmp_bin_y = bin_table.loc[y:y+window,:]\n",
    "    #得到标签\n",
    "    label = determine_label(tmp_bin_x,tmp_bin_y,k562_list)\n",
    "    if(nozeron>5):\n",
    "        neg_data_list.append(submatrix)\n",
    "        neg_label_list.append(label)\n"
   ]
  },
  {
   "cell_type": "code",
   "execution_count": 136,
   "metadata": {},
   "outputs": [],
   "source": [
    "all_data = pos_data_list + neg_data_list\n",
    "all_label = pos_label_list + neg_label_list"
   ]
  },
  {
   "cell_type": "code",
   "execution_count": 13,
   "metadata": {},
   "outputs": [],
   "source": [
    "# 保存\n",
    "# a=np.array(all_data)\n",
    "np.save('data/data.npy',a)   # 保存为.npy格式\n",
    "# b = np.array(all_label)\n",
    "\n",
    "# 读取\n"
   ]
  },
  {
   "cell_type": "code",
   "execution_count": 3,
   "metadata": {},
   "outputs": [],
   "source": [
    "a = np.load('data/data.npy')"
   ]
  },
  {
   "cell_type": "code",
   "execution_count": 16,
   "metadata": {},
   "outputs": [],
   "source": [
    "a = a.reshape(47,1,21,21)"
   ]
  },
  {
   "cell_type": "code",
   "execution_count": 12,
   "metadata": {},
   "outputs": [],
   "source": [
    "#a转成float\n",
    "a = a.astype(np.float32)"
   ]
  },
  {
   "cell_type": "code",
   "execution_count": 189,
   "metadata": {},
   "outputs": [
    {
     "data": {
      "text/plain": [
       "array(['++', '+-', '-+', '--', 'no'], dtype='<U2')"
      ]
     },
     "execution_count": 189,
     "metadata": {},
     "output_type": "execute_result"
    }
   ],
   "source": [
    "np.unique(b)"
   ]
  },
  {
   "cell_type": "code",
   "execution_count": 191,
   "metadata": {},
   "outputs": [],
   "source": [
    "label_dic = {'++':0,'+-':1,'-+':2,'--':3,'no':4}"
   ]
  },
  {
   "cell_type": "code",
   "execution_count": 192,
   "metadata": {},
   "outputs": [],
   "source": [
    "#将b按照label_dic转成对应int\n",
    "b = [label_dic[i] for i in b]"
   ]
  },
  {
   "cell_type": "code",
   "execution_count": 194,
   "metadata": {},
   "outputs": [],
   "source": [
    "np.save('data/label.npy',b)"
   ]
  },
  {
   "cell_type": "code",
   "execution_count": 149,
   "metadata": {},
   "outputs": [],
   "source": [
    "a_tensor = torch.tensor(a,dtype=float)"
   ]
  },
  {
   "cell_type": "code",
   "execution_count": 153,
   "metadata": {},
   "outputs": [],
   "source": [
    "a_tensor = a_tensor.reshape(47,1,21,21)"
   ]
  },
  {
   "cell_type": "code",
   "execution_count": 160,
   "metadata": {},
   "outputs": [],
   "source": [
    "#save a_tensor\n",
    "\n",
    "torch.save(a_tensor, \"data/data.pt\")\n",
    "\n",
    "\n",
    "\n"
   ]
  },
  {
   "cell_type": "code",
   "execution_count": 161,
   "metadata": {},
   "outputs": [],
   "source": [
    "y = torch.load(\"data/data.pt\")"
   ]
  },
  {
   "cell_type": "code",
   "execution_count": 200,
   "metadata": {},
   "outputs": [],
   "source": [
    "\n",
    "label_file = 'data/label.npy'\n",
    "data_file = 'data/data.pt' #tensor\n"
   ]
  }
 ],
 "metadata": {
  "kernelspec": {
   "display_name": "sv",
   "language": "python",
   "name": "python3"
  },
  "language_info": {
   "codemirror_mode": {
    "name": "ipython",
    "version": 3
   },
   "file_extension": ".py",
   "mimetype": "text/x-python",
   "name": "python",
   "nbconvert_exporter": "python",
   "pygments_lexer": "ipython3",
   "version": "3.8.15"
  },
  "orig_nbformat": 4,
  "vscode": {
   "interpreter": {
    "hash": "0c2b4c422c51196e5a13ef0382ae654019ed0bc9e75f046108fddc534a620d08"
   }
  }
 },
 "nbformat": 4,
 "nbformat_minor": 2
}
