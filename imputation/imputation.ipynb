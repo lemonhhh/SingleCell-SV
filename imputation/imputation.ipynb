{
 "cells": [
  {
   "cell_type": "code",
   "execution_count": 63,
   "metadata": {},
   "outputs": [],
   "source": [
    "import time\n",
    "import numpy as np\n",
    "from scipy.sparse import csr_matrix, diags, eye\n",
    "from scipy.sparse.linalg import norm\n",
    "from scipy.ndimage import gaussian_filter\n",
    "import cooler\n",
    "\n",
    "import matplotlib.pyplot as plt\n",
    "import seaborn as sns\n",
    "\n",
    "import logging"
   ]
  },
  {
   "cell_type": "code",
   "execution_count": 56,
   "metadata": {},
   "outputs": [],
   "source": [
    "def calc_sparsity(matrix):\n",
    "    row, col = matrix.shape\n",
    "    #nnz是非0值的个数\n",
    "    sparsity = matrix.nnz / row / col\n",
    "    return sparsity\n",
    "\n",
    "\n",
    "#核心在此\n",
    "def random_walk_cpu(P, rp, tol):\n",
    "    #rp=1相当于什么都没做\n",
    "    if rp == 1:\n",
    "        return P\n",
    "\n",
    "    _start_time = time.time()\n",
    "    n_genes = P.shape[0]\n",
    "    #对角线为1\n",
    "    I = eye(n_genes, dtype=np.float32)\n",
    "    Q = P.copy()\n",
    "    #迭代30次\n",
    "    for i in range(30):\n",
    "        Q_new = P.dot(Q * (1 - rp) + rp * I)\n",
    "        #相当于loss\n",
    "        delta = norm(Q - Q_new)\n",
    "        Q = Q_new.copy()\n",
    "        sparsity = calc_sparsity(Q)\n",
    "        _end_time = time.time()\n",
    "        logging.debug(\n",
    "            f'Iter {i + 1} takes {(_end_time - _start_time):.3f} seconds. '\n",
    "            f'Loss: {delta:.3f}; Sparsity: {sparsity:.3f}', P.dtype, Q.dtype)\n",
    "        #如果loss小于tol就停止\n",
    "        if delta < tol:\n",
    "            break\n",
    "    return Q"
   ]
  },
  {
   "cell_type": "code",
   "execution_count": 30,
   "metadata": {},
   "outputs": [],
   "source": [
    "#读入一个cool文件测试\n",
    "scool_url = \"/share/home/mliu/sc_sv/raw_data/scihic/K562/cooler/K562-AAGCCGGTAAGCCATC.cool\""
   ]
  },
  {
   "cell_type": "code",
   "execution_count": 31,
   "metadata": {},
   "outputs": [],
   "source": [
    "cell_cool = cooler.Cooler(scool_url)"
   ]
  },
  {
   "cell_type": "code",
   "execution_count": 32,
   "metadata": {},
   "outputs": [],
   "source": [
    "chrom=\"chr1\""
   ]
  },
  {
   "cell_type": "code",
   "execution_count": 33,
   "metadata": {},
   "outputs": [],
   "source": [
    "A = cell_cool.matrix(balance=False, sparse=True).fetch(chrom)"
   ]
  },
  {
   "cell_type": "code",
   "execution_count": 12,
   "metadata": {},
   "outputs": [
    {
     "data": {
      "text/plain": [
       "24926"
      ]
     },
     "execution_count": 12,
     "metadata": {},
     "output_type": "execute_result"
    }
   ],
   "source": [
    "n_bins = A.shape[0]\n",
    "n_bins"
   ]
  },
  {
   "cell_type": "code",
   "execution_count": 14,
   "metadata": {},
   "outputs": [],
   "source": [
    "resolution=10000\n",
    "logscale=False\n",
    "pad=1\n",
    "std=1\n",
    "rp=0.5 #rp是什么意思\n",
    "tol=0.01 #是什么意思\n",
    "window_size=500000000\n",
    "step_size=10000000\n",
    "output_dist=500000000\n",
    "min_cutoff=0"
   ]
  },
  {
   "cell_type": "code",
   "execution_count": 15,
   "metadata": {},
   "outputs": [],
   "source": [
    "ws = int(window_size // resolution) #50000\n",
    "ss = int(step_size // resolution) #1000"
   ]
  },
  {
   "cell_type": "code",
   "execution_count": 18,
   "metadata": {},
   "outputs": [],
   "source": [
    "if logscale:\n",
    "    A.data = np.log2(A.data + 1)"
   ]
  },
  {
   "cell_type": "code",
   "execution_count": 53,
   "metadata": {},
   "outputs": [],
   "source": [
    "# Remove diagonal before convolution\n",
    "A = A - diags(A.diagonal())"
   ]
  },
  {
   "cell_type": "code",
   "execution_count": 54,
   "metadata": {},
   "outputs": [],
   "source": [
    "if pad > 0:\n",
    "    # full matrix step\n",
    "    # 需要一点时间\n",
    "    A = gaussian_filter((A + A.T).astype(np.float32).toarray(),\n",
    "                        std, order=0, mode='mirror', truncate=pad)\n",
    "    # TODO：whywhywhy\n",
    "    #r:row\n",
    "    A = csr_matrix(A)\n",
    "else:\n",
    "    #相当于得到了线性邻居的平均？\n",
    "    A = A + A.T"
   ]
  },
  {
   "cell_type": "code",
   "execution_count": 55,
   "metadata": {},
   "outputs": [],
   "source": [
    "A = A - diags(A.diagonal())"
   ]
  },
  {
   "cell_type": "code",
   "execution_count": 60,
   "metadata": {},
   "outputs": [
    {
     "data": {
      "text/plain": [
       "<24926x24926 sparse matrix of type '<class 'numpy.float64'>'\n",
       "\twith 27962 stored elements in Compressed Sparse Row format>"
      ]
     },
     "execution_count": 60,
     "metadata": {},
     "output_type": "execute_result"
    }
   ],
   "source": [
    "B = A + diags((A.sum(axis=0).A.ravel() == 0).astype(int))\n",
    "B"
   ]
  },
  {
   "cell_type": "code",
   "execution_count": 64,
   "metadata": {},
   "outputs": [],
   "source": [
    "#here\n",
    "if ws >= n_bins or rp == 1:\n",
    "        #TODO:B是什么？\n",
    "        B = A + diags((A.sum(axis=0).A.ravel() == 0).astype(int))\n",
    "        d = diags(1 / B.sum(axis=0).A.ravel())\n",
    "        P = d.dot(B).astype(np.float32)\n",
    "        #对P随机游走\n",
    "        E = random_walk_cpu(P, rp, tol)\n",
    "#如果n_bins太多\n",
    "else:\n",
    "    # if the chromosome is too large, compute by chunks\n",
    "    idx = (np.repeat(np.arange(ws), ws), np.tile(np.arange(ws), ws))\n",
    "    #这是过虑了什么？\n",
    "    idxfilter = (np.abs(idx[1] - idx[0]) < (output_dist // resolution + 1))\n",
    "    #只选择过滤之后的数据\n",
    "    idx = (idx[0][idxfilter], idx[1][idxfilter])\n",
    "    # first filter\n",
    "    idxfilter = ((idx[0] + idx[1]) < (ws + ss))\n",
    "    idx1 = (idx[0][idxfilter], idx[1][idxfilter])\n",
    "    mask1 = csr_matrix((np.ones(len(idx1[0])), (idx1[0], idx1[1])),\n",
    "                        (ws, ws))\n",
    "    # last filter\n",
    "    idxfilter = ((idx[0] + idx[1]) >= (\n",
    "            (n_bins - ws) // ss * 2 + 1) * ss + 3 * ws - 2 * n_bins)\n",
    "    idx2 = (idx[0][idxfilter], idx[1][idxfilter])\n",
    "    mask2 = csr_matrix((np.ones(len(idx2[0])), (idx2[0], idx2[1])),\n",
    "                        (ws, ws))\n",
    "    # center filter\n",
    "    idxfilter = np.logical_and((idx[0] + idx[1]) < (ws + ss),\n",
    "                                (idx[0] + idx[1]) >= (ws - ss))\n",
    "    idx0 = (idx[0][idxfilter], idx[1][idxfilter])\n",
    "    mask0 = csr_matrix((np.ones(len(idx0[0])), (idx0[0], idx0[1])),\n",
    "                        (ws, ws))\n",
    "\n",
    "    #开始？\n",
    "    start_time = time.time()\n",
    "    #创建一个空的矩阵？\n",
    "    E = csr_matrix(A.shape, dtype=np.float32)\n",
    "    for ll in [x for x in range(0, n_bins - ws, ss)] + [n_bins - ws]:\n",
    "        B = A[ll:(ll + ws), ll:(ll + ws)]\n",
    "        B = B + diags((B.sum(axis=0).A.ravel() == 0).astype(int))\n",
    "        d = diags(1 / B.sum(axis=0).A.ravel())\n",
    "        P = d.dot(B).astype(np.float32)\n",
    "        #随机游走\n",
    "        Etmp = random_walk_cpu(P, rp, tol)\n",
    "        if ll == 0:\n",
    "            E[ll:(ll + ws), ll:(ll + ws)] += Etmp.multiply(mask1)\n",
    "        elif ll == (n_bins - ws):\n",
    "            E[ll:(ll + ws), ll:(ll + ws)] += Etmp.multiply(mask2)\n",
    "        else:\n",
    "                E[ll:(ll + ws), ll:(ll + ws)] += Etmp.multiply(mask0)\n"
   ]
  },
  {
   "cell_type": "code",
   "execution_count": 66,
   "metadata": {},
   "outputs": [],
   "source": [
    "# Normalize\n",
    "start_time = time.time()\n",
    "E += E.T\n",
    "d = E.sum(axis=0).A.ravel()\n",
    "d[d == 0] = 1\n",
    "b = diags(1 / np.sqrt(d))\n",
    "E = b.dot(E).dot(b)\n",
    "logging.debug(f'SQRTVC takes {time.time() - start_time:.3f} seconds')\n"
   ]
  },
  {
   "cell_type": "code",
   "execution_count": 68,
   "metadata": {},
   "outputs": [],
   "source": [
    "start_time = time.time()\n",
    "# mask the lower triangle of E\n",
    "# TODO This part is MEM intensive, the mask below can be combined with the chunk mask above\n",
    "idx = np.triu_indices(E.shape[0], 0)\n",
    "if (output_dist // resolution + 1) < n_bins:\n",
    "    # longest distance filter mask\n",
    "    idxfilter = ((idx[1] - idx[0]) < (output_dist // resolution + 1))\n",
    "    idx = (idx[0][idxfilter], idx[1][idxfilter])\n",
    "mask = csr_matrix((np.ones(len(idx[0])), (idx[0], idx[1])),\n",
    "                    E.shape,\n",
    "                    dtype=np.float32)\n",
    "E = E.tocsr().multiply(mask)\n",
    "logging.debug(f'Filter takes {time.time() - start_time:.3f} seconds')"
   ]
  },
  {
   "cell_type": "code",
   "execution_count": 69,
   "metadata": {},
   "outputs": [],
   "source": [
    "if min_cutoff > 0:\n",
    "    s_before = calc_sparsity(E)\n",
    "    E = E.multiply(E > min_cutoff)\n",
    "    s_after = calc_sparsity(E)\n",
    "    logging.debug(f'Mask values smaller than {min_cutoff}. Sparsity before {s_before:.3f}, after {s_after:.3f}')"
   ]
  },
  {
   "cell_type": "code",
   "execution_count": 70,
   "metadata": {},
   "outputs": [],
   "source": [
    "matrix = E.tocoo(copy=False)"
   ]
  },
  {
   "cell_type": "code",
   "execution_count": 75,
   "metadata": {},
   "outputs": [
    {
     "name": "stdout",
     "output_type": "stream",
     "text": [
      "(28968,)\n",
      "(28968,)\n",
      "(28968,)\n"
     ]
    }
   ],
   "source": [
    "print(matrix.row.shape)\n",
    "print(matrix.col.shape)\n",
    "print(matrix.data.shape)\n",
    "#数量上为什么不一样了呢？"
   ]
  }
 ],
 "metadata": {
  "kernelspec": {
   "display_name": "sv",
   "language": "python",
   "name": "python3"
  },
  "language_info": {
   "codemirror_mode": {
    "name": "ipython",
    "version": 3
   },
   "file_extension": ".py",
   "mimetype": "text/x-python",
   "name": "python",
   "nbconvert_exporter": "python",
   "pygments_lexer": "ipython3",
   "version": "3.8.15"
  },
  "orig_nbformat": 4,
  "vscode": {
   "interpreter": {
    "hash": "0c2b4c422c51196e5a13ef0382ae654019ed0bc9e75f046108fddc534a620d08"
   }
  }
 },
 "nbformat": 4,
 "nbformat_minor": 2
}
