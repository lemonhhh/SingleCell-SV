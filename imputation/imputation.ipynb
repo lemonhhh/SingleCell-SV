{
 "cells": [
  {
   "cell_type": "code",
   "execution_count": 1,
   "metadata": {},
   "outputs": [],
   "source": [
    "import time\n",
    "import numpy as np\n",
    "from scipy.sparse import csr_matrix, diags, eye\n",
    "from scipy.sparse.linalg import norm\n",
    "from scipy.ndimage import gaussian_filter\n",
    "import cooler\n",
    "\n",
    "import matplotlib.pyplot as plt\n",
    "import seaborn as sns\n",
    "\n",
    "import logging"
   ]
  },
  {
   "cell_type": "code",
   "execution_count": 2,
   "metadata": {},
   "outputs": [],
   "source": [
    "def calc_sparsity(matrix):\n",
    "    #type of matrix: scipy.sparse.csr_matrix\n",
    "    row, col = matrix.shape\n",
    "    #Get the count of explicitly-stored values (nonzeros)\n",
    "    sparsity = matrix.nnz / row / col\n",
    "    return sparsity\n",
    "\n",
    "\n",
    "#core part of random walk\n",
    "def random_walk_cpu(P, rp, tol, n_iters=20):\n",
    "    #if rp=1, do nothing\n",
    "    if rp == 1:\n",
    "        return P\n",
    "\n",
    "    _start_time = time.time()\n",
    "    n_genes = P.shape[0]\n",
    "    #generate a identity matrix\n",
    "    #Sparse matrix with ones on diagonal\n",
    "    I = eye(n_genes, dtype=np.float32)\n",
    "    #copy P\n",
    "    Q = P.copy()\n",
    "    #iterate 30 times TODO: why 30 times?\n",
    "    #不一定\n",
    "    for i in range(n_iters):\n",
    "        #core step\n",
    "        Q_new = P.dot(Q * (1 - rp) + rp * I)\n",
    "        #相当于loss,Norm of a sparse matrix\n",
    "        delta = norm(Q - Q_new)\n",
    "        Q = Q_new.copy()\n",
    "        #calculate sparsity\n",
    "        sparsity = calc_sparsity(Q)\n",
    "        _end_time = time.time()\n",
    "        logging.debug(\n",
    "            f'Iter {i + 1} takes {(_end_time - _start_time):.3f} seconds. '\n",
    "            f'Loss: {delta:.3f}; Sparsity: {sparsity:.3f}', P.dtype, Q.dtype)\n",
    "        #如果loss小于tol就停止\n",
    "        if delta < tol:\n",
    "            break\n",
    "    #为什么这样就随机游走了？\n",
    "    return Q"
   ]
  },
  {
   "cell_type": "code",
   "execution_count": 3,
   "metadata": {},
   "outputs": [],
   "source": [
    "#读入一个cool文件测试\n",
    "scool_url = \"/share/home/mliu/sc_sv/raw_data/scihic/GM12878/cooler/GM12878-CCTCCTCATTAACGTC.mcool::/resolutions/100000\""
   ]
  },
  {
   "cell_type": "code",
   "execution_count": 4,
   "metadata": {},
   "outputs": [],
   "source": [
    "cell_cool = cooler.Cooler(scool_url)"
   ]
  },
  {
   "cell_type": "code",
   "execution_count": 5,
   "metadata": {},
   "outputs": [],
   "source": [
    "chrom=\"chr2\""
   ]
  },
  {
   "cell_type": "code",
   "execution_count": 6,
   "metadata": {},
   "outputs": [],
   "source": [
    "A = cell_cool.matrix(balance=False, sparse=True).fetch(chrom)"
   ]
  },
  {
   "cell_type": "code",
   "execution_count": 7,
   "metadata": {},
   "outputs": [],
   "source": [
    "B = cell_cool.matrix(balance=False).fetch(chrom)\n",
    "#b=normal matrix"
   ]
  },
  {
   "cell_type": "code",
   "execution_count": 12,
   "metadata": {},
   "outputs": [],
   "source": [
    "# f, ax = plt.subplots(figsize=(7,6))\n",
    "# im = ax.matshow(B,cmap='Reds');\n",
    "# plt.colorbar(im ,fraction=0.046, pad=0.04, label='raw counts')"
   ]
  },
  {
   "cell_type": "code",
   "execution_count": 13,
   "metadata": {},
   "outputs": [],
   "source": [
    "#一些基本设置\n",
    "\n"
   ]
  },
  {
   "cell_type": "code",
   "execution_count": 12,
   "metadata": {},
   "outputs": [],
   "source": [
    "#raw_matrix要是一个稀疏矩阵，代表一个细胞的一个染色体\n",
    "def imputation_rwr(cell_cool,chrom,resolution=100000,logscale=False,pad=1,std=1,rp=0.5,tol=0.01,window_size=500000000\n",
    "                    ,step_size=10000000,output_dist=500000000,min_cutoff=0):\n",
    "    \n",
    "    A = cell_cool.matrix(balance=False, sparse=True).fetch(chrom)\n",
    "    n_bins = A.shape[0]\n",
    "    #window size and step size\n",
    "    ws = int(window_size // resolution) \n",
    "    ss = int(step_size // resolution)\n",
    "    #log transform\n",
    "    if logscale:\n",
    "        A.data = np.log2(A.data + 1)\n",
    "    # Remove diagonal before convolution\n",
    "    A = A - diags(A.diagonal())\n",
    "    if pad > 0:\n",
    "    # full matrix step\n",
    "        A = gaussian_filter((A + A.T).astype(np.float32).toarray(),\n",
    "                            std, order=0, mode='mirror', truncate=pad)\n",
    "        A = csr_matrix(A)\n",
    "    else:\n",
    "        #相当于得到了线性邻居的平均？\n",
    "        A = A + A.T\n",
    "    #Remove diagonal before RWR\n",
    "    A = A - diags(A.diagonal())\n",
    "    \n",
    "    #here\n",
    "    if ws >= n_bins or rp == 1:\n",
    "            #TODO:B是什么？\n",
    "            B = A + diags((A.sum(axis=0).A.ravel() == 0).astype(int))\n",
    "            d = diags(1 / B.sum(axis=0).A.ravel())\n",
    "            P = d.dot(B).astype(np.float32)\n",
    "            #对P随机游走\n",
    "            E = random_walk_cpu(P, rp, tol,n_iters)\n",
    "    #如果n_bins太多\n",
    "    else:\n",
    "        # if the chromosome is too large, compute by chunks\n",
    "        idx = (np.repeat(np.arange(ws), ws), np.tile(np.arange(ws), ws))\n",
    "        #这是过虑了什么？\n",
    "        idxfilter = (np.abs(idx[1] - idx[0]) < (output_dist // resolution + 1))\n",
    "        #只选择过滤之后的数据\n",
    "        idx = (idx[0][idxfilter], idx[1][idxfilter])\n",
    "        # first filter\n",
    "        idxfilter = ((idx[0] + idx[1]) < (ws + ss))\n",
    "        idx1 = (idx[0][idxfilter], idx[1][idxfilter])\n",
    "        mask1 = csr_matrix((np.ones(len(idx1[0])), (idx1[0], idx1[1])),\n",
    "                            (ws, ws))\n",
    "        # last filter\n",
    "        idxfilter = ((idx[0] + idx[1]) >= (\n",
    "                (n_bins - ws) // ss * 2 + 1) * ss + 3 * ws - 2 * n_bins)\n",
    "        idx2 = (idx[0][idxfilter], idx[1][idxfilter])\n",
    "        mask2 = csr_matrix((np.ones(len(idx2[0])), (idx2[0], idx2[1])),\n",
    "                            (ws, ws))\n",
    "        # center filter\n",
    "        idxfilter = np.logical_and((idx[0] + idx[1]) < (ws + ss),\n",
    "                                    (idx[0] + idx[1]) >= (ws - ss))\n",
    "        idx0 = (idx[0][idxfilter], idx[1][idxfilter])\n",
    "        mask0 = csr_matrix((np.ones(len(idx0[0])), (idx0[0], idx0[1])),\n",
    "                            (ws, ws))\n",
    "\n",
    "        #开始？\n",
    "        start_time = time.time()\n",
    "        #创建一个空的矩阵？\n",
    "        E = csr_matrix(A.shape, dtype=np.float32)\n",
    "        for ll in [x for x in range(0, n_bins - ws, ss)] + [n_bins - ws]:\n",
    "            B = A[ll:(ll + ws), ll:(ll + ws)]\n",
    "            B = B + diags((B.sum(axis=0).A.ravel() == 0).astype(int))\n",
    "            d = diags(1 / B.sum(axis=0).A.ravel())\n",
    "            P = d.dot(B).astype(np.float32)\n",
    "            #随机游走\n",
    "            Etmp = random_walk_cpu(P, rp, tol,n_iters)\n",
    "            if ll == 0:\n",
    "                E[ll:(ll + ws), ll:(ll + ws)] += Etmp.multiply(mask1)\n",
    "            elif ll == (n_bins - ws):\n",
    "                E[ll:(ll + ws), ll:(ll + ws)] += Etmp.multiply(mask2)\n",
    "            else:\n",
    "                    E[ll:(ll + ws), ll:(ll + ws)] += Etmp.multiply(mask0)\n",
    "\n",
    "    # Normalize\n",
    "    start_time = time.time()\n",
    "    E += E.T\n",
    "    d = E.sum(axis=0).A.ravel()\n",
    "    d[d == 0] = 1\n",
    "    b = diags(1 / np.sqrt(d))\n",
    "    E = b.dot(E).dot(b)\n",
    "    logging.debug(f'SQRTVC takes {time.time() - start_time:.3f} seconds')\n",
    "\n",
    "    start_time = time.time()\n",
    "    # mask the lower triangle of E\n",
    "    # TODO This part is MEM intensive, the mask below can be combined with the chunk mask above\n",
    "    idx = np.triu_indices(E.shape[0], 0)\n",
    "    if (output_dist // resolution + 1) < n_bins:\n",
    "        # longest distance filter mask\n",
    "        idxfilter = ((idx[1] - idx[0]) < (output_dist // resolution + 1))\n",
    "        idx = (idx[0][idxfilter], idx[1][idxfilter])\n",
    "    mask = csr_matrix((np.ones(len(idx[0])), (idx[0], idx[1])),\n",
    "                        E.shape,\n",
    "                        dtype=np.float32)\n",
    "    E = E.tocsr().multiply(mask)\n",
    "    logging.debug(f'Filter takes {time.time() - start_time:.3f} seconds')\n",
    "\n",
    "    # TODO put this part inside RWR, before normalize\n",
    "    # min_cutoff = tol/\n",
    "    # Make values < min_cutoff to 0\n",
    "    if min_cutoff > 0:\n",
    "        s_before = calc_sparsity(E)\n",
    "        E = E.multiply(E > min_cutoff)\n",
    "        s_after = calc_sparsity(E)\n",
    "        logging.debug(f'Mask values smaller than {min_cutoff}. Sparsity before {s_before:.3f}, after {s_after:.3f}')\n",
    "    \n",
    "    matrix = E.tocoo(copy=False).todense()\n",
    "   #type of matrix is normal matrix\n",
    "    return matrix"
   ]
  },
  {
   "cell_type": "code",
   "execution_count": 15,
   "metadata": {},
   "outputs": [],
   "source": [
    "cell_cool = cell_cool\n",
    "chrom=\"chr2\"\n",
    "#TODO：多少合适\n",
    "resolution=100000\n",
    "logscale=False\n",
    "pad=1\n",
    "std=1\n",
    "rp=0.5 #restart probability to balance th information between global and local network structures\n",
    "tol=0.01 #是什么意思\n",
    "window_size=500000000\n",
    "step_size=10000000\n",
    "output_dist=500000000\n",
    "min_cutoff=0\n",
    "n_iters=20\n",
    "\n",
    "imputation_matrix = imputation_rwr(cell_cool,chrom,resolution,logscale,pad,std,rp,tol,window_size\n",
    "                    ,step_size,output_dist,min_cutoff)"
   ]
  },
  {
   "cell_type": "code",
   "execution_count": 17,
   "metadata": {},
   "outputs": [
    {
     "data": {
      "text/plain": [
       "3829"
      ]
     },
     "execution_count": 17,
     "metadata": {},
     "output_type": "execute_result"
    }
   ],
   "source": [
    "type(imputation_matrix)\n",
    "#imputation_matrix中非零个数\n",
    "np.count_nonzero(imputation_matrix)"
   ]
  },
  {
   "cell_type": "code",
   "execution_count": 18,
   "metadata": {},
   "outputs": [
    {
     "data": {
      "text/plain": [
       "<matplotlib.colorbar.Colorbar at 0x2b8f6aba9070>"
      ]
     },
     "execution_count": 18,
     "metadata": {},
     "output_type": "execute_result"
    },
    {
     "data": {
      "image/png": "[encoded data removed]",
      "text/plain": [
       "<Figure size 700x600 with 2 Axes>"
      ]
     },
     "metadata": {},
     "output_type": "display_data"
    }
   ],
   "source": [
    "f, ax = plt.subplots(figsize=(7,6))\n",
    "im = ax.matshow(imputation_matrix,cmap='Reds');\n",
    "plt.colorbar(im ,fraction=0.046, pad=0.04, label='raw counts')"
   ]
  }
 ],
 "metadata": {
  "kernelspec": {
   "display_name": "sv",
   "language": "python",
   "name": "python3"
  },
  "language_info": {
   "codemirror_mode": {
    "name": "ipython",
    "version": 3
   },
   "file_extension": ".py",
   "mimetype": "text/x-python",
   "name": "python",
   "nbconvert_exporter": "python",
   "pygments_lexer": "ipython3",
   "version": "3.8.15"
  },
  "orig_nbformat": 4,
  "vscode": {
   "interpreter": {
    "hash": "0c2b4c422c51196e5a13ef0382ae654019ed0bc9e75f046108fddc534a620d08"
   }
  }
 },
 "nbformat": 4,
 "nbformat_minor": 2
}
